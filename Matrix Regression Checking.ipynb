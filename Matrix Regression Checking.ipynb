{
 "cells": [
  {
   "cell_type": "code",
   "execution_count": 1,
   "id": "according-holocaust",
   "metadata": {},
   "outputs": [],
   "source": [
    "import numpy as np\n",
    "\n",
    "from numpy import linalg as LA"
   ]
  },
  {
   "cell_type": "code",
   "execution_count": 2,
   "id": "valued-fortune",
   "metadata": {},
   "outputs": [],
   "source": [
    "def square_matrix_ridge_regression(X,Y,Astar,lmda,beeta):\n",
    "    t=1+X.shape[1]\n",
    "    D=lmda*np.array([[1,0,0,0],[0,1,0,0],[0,0,1,0],[0,0,0,1]])\n",
    "    C=lmda*Astar\n",
    "    for s in range(1,t):\n",
    "        xs=X[:,s-1]\n",
    "        ys=Y[:,s-1]\n",
    "        C=C+(1/beeta)*np.outer(ys,xs)\n",
    "        D=D+(1/beeta)*np.outer(xs,xs)\n",
    "    return C.dot(np.linalg.inv(D))"
   ]
  },
  {
   "cell_type": "code",
   "execution_count": 3,
   "id": "hairy-christmas",
   "metadata": {},
   "outputs": [],
   "source": [
    "A=np.random.rand(2,4)\n",
    "Astar=A+np.random.normal(0,np.sqrt(0.09),A.shape)"
   ]
  },
  {
   "cell_type": "code",
   "execution_count": 4,
   "id": "utility-portfolio",
   "metadata": {},
   "outputs": [],
   "source": [
    "X=np.zeros((4,1000000))\n",
    "Y=np.zeros((2,1000000))"
   ]
  },
  {
   "cell_type": "code",
   "execution_count": 5,
   "id": "planned-tissue",
   "metadata": {},
   "outputs": [],
   "source": [
    "for t in range(1000000):\n",
    "    X[:,t]=np.random.rand(4)\n",
    "    Y[:,t]=A.dot(X[:,t])+np.random.normal(0,np.sqrt(0.0001),2)"
   ]
  },
  {
   "cell_type": "code",
   "execution_count": 6,
   "id": "fancy-syndicate",
   "metadata": {},
   "outputs": [],
   "source": [
    "A_regression=square_matrix_ridge_regression(X,Y,Astar,100000,100000)"
   ]
  },
  {
   "cell_type": "code",
   "execution_count": 7,
   "id": "naval-house",
   "metadata": {},
   "outputs": [
    {
     "data": {
      "text/plain": [
       "0.8181194925605013"
      ]
     },
     "execution_count": 7,
     "metadata": {},
     "output_type": "execute_result"
    }
   ],
   "source": [
    "LA.norm((A-A_regression),'fro')"
   ]
  },
  {
   "cell_type": "code",
   "execution_count": 8,
   "id": "informed-patient",
   "metadata": {},
   "outputs": [
    {
     "name": "stdout",
     "output_type": "stream",
     "text": [
      "[[0.48658269 0.48976226 0.18014122 0.14207102]\n",
      " [0.21412302 0.52484233 0.24594365 0.82195844]]\n"
     ]
    }
   ],
   "source": [
    "print(A)"
   ]
  },
  {
   "cell_type": "code",
   "execution_count": 9,
   "id": "appreciated-footwear",
   "metadata": {},
   "outputs": [
    {
     "name": "stdout",
     "output_type": "stream",
     "text": [
      "[[0.1026787  0.96763586 0.33988832 0.11130353]\n",
      " [0.08642043 0.1312288  0.37072265 0.53858779]]\n"
     ]
    }
   ],
   "source": [
    "print(A_regression)"
   ]
  },
  {
   "cell_type": "code",
   "execution_count": 10,
   "id": "binary-memorial",
   "metadata": {},
   "outputs": [
    {
     "name": "stdout",
     "output_type": "stream",
     "text": [
      "[[ 0.38390399 -0.47787359 -0.1597471   0.03076749]\n",
      " [ 0.12770259  0.39361352 -0.124779    0.28337066]]\n"
     ]
    }
   ],
   "source": [
    "print(A-A_regression)"
   ]
  },
  {
   "cell_type": "code",
   "execution_count": 11,
   "id": "ecological-reservation",
   "metadata": {},
   "outputs": [
    {
     "name": "stdout",
     "output_type": "stream",
     "text": [
      "[[0.10268106 0.96764539 0.33989521 0.11130885]\n",
      " [0.08640237 0.13120854 0.37070669 0.53856842]]\n"
     ]
    }
   ],
   "source": [
    "print(Astar)"
   ]
  },
  {
   "cell_type": "code",
   "execution_count": null,
   "id": "encouraging-productivity",
   "metadata": {},
   "outputs": [],
   "source": []
  }
 ],
 "metadata": {
  "kernelspec": {
   "display_name": "Python 3",
   "language": "python",
   "name": "python3"
  },
  "language_info": {
   "codemirror_mode": {
    "name": "ipython",
    "version": 3
   },
   "file_extension": ".py",
   "mimetype": "text/x-python",
   "name": "python",
   "nbconvert_exporter": "python",
   "pygments_lexer": "ipython3",
   "version": "3.9.2"
  }
 },
 "nbformat": 4,
 "nbformat_minor": 5
}
