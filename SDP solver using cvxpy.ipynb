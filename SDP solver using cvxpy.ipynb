{
 "cells": [
  {
   "cell_type": "code",
   "execution_count": 1,
   "id": "monthly-therapist",
   "metadata": {},
   "outputs": [],
   "source": [
    "import numpy as np\n",
    "from scipy.signal import StateSpace, lsim\n",
    "import matplotlib.pyplot as plt\n",
    "from numpy import linalg as LA\n",
    "import cvxpy as cp"
   ]
  },
  {
   "cell_type": "code",
   "execution_count": 2,
   "id": "rising-agreement",
   "metadata": {},
   "outputs": [],
   "source": [
    "\n",
    "a=np.random.rand(2)\n",
    "b=np.random.rand(2)\n",
    "a,b\n",
    "\n",
    "Q=np.outer(a,a)\n",
    "R=np.outer(b,b)\n",
    "\n",
    "pd1=0.5*np.random.rand(1)\n",
    "pd2=0.5*np.random.rand(1)\n",
    "\n",
    "I=np.array([[1,0],[0,1]])\n",
    "\n",
    "Q=Q+pd1*I\n",
    "R=R+pd2*I\n",
    "\n",
    "\n",
    "\n",
    "def SDP_solver(At,Bt,Vt):\n",
    "    Vtinv=np.linalg.inv(Vt)\n",
    "    Sigma=cp.Variable((n,n))\n",
    "    sxx=cp.Variable((2,2))\n",
    "    suu=cp.Variable((2,2))\n",
    "    constraints=[Sigma>>0]\n",
    "    bigI=np.array([[1,0,0,0],[0,1,0,0],[0,0,1,0],[0,0,0,1]])\n",
    "    ABt=np.column_stack((At,Bt))\n",
    "    #Cost_Coefficient=np.array([[Q,[[1,0],[0,1]]],[[[1,0],[0,1]],R]])\n",
    "    I=np.array([[1,0],[0,1]])\n",
    "    \n",
    "    Left=np.array([[1,0,0,0],[0,1,0,0]])\n",
    "    Right=np.array([[1,0],[0,1],[0,0],[0,0]])\n",
    "    \n",
    "    constraints+=[ sxx  >> (((ABt)@Sigma)@(ABt.T))+W-mu*cp.trace((Sigma.T)@(Vtinv))*I ]\n",
    "    \n",
    "    constraints+=[ sxx == (Left@Sigma)@Right  ]\n",
    "    \n",
    "    Lefty=np.array([[0,0,1,0],[0,0,0,1]])\n",
    "    Righty=np.array([[0,0],[0,0],[1,0],[0,1]])\n",
    "    \n",
    "    constraints+=[ suu == (Lefty@Sigma)@Righty  ]\n",
    "    \n",
    "    prob = cp.Problem(cp.Minimize(cp.trace(sxx.T @ Q + suu.T @ R)),constraints)\n",
    "    prob.solve()\n",
    "    return (Sigma.value)\n"
   ]
  },
  {
   "cell_type": "code",
   "execution_count": 3,
   "id": "geological-poultry",
   "metadata": {},
   "outputs": [],
   "source": [
    "At=np.random.rand(2,2)\n",
    "Bt=np.random.rand(2,2)\n",
    "Vt=np.random.rand(4,4)\n",
    "W=np.random.rand(2,2)\n",
    "mu=2\n",
    "n=4"
   ]
  },
  {
   "cell_type": "code",
   "execution_count": 4,
   "id": "conscious-prefix",
   "metadata": {},
   "outputs": [
    {
     "name": "stdout",
     "output_type": "stream",
     "text": [
      "WARN: m less than n, problem likely degenerate\n"
     ]
    },
    {
     "data": {
      "text/plain": [
       "array([[ 5.39840036e-13,  6.50231753e-02, -4.80632872e-02,\n",
       "         5.34460957e-02],\n",
       "       [-6.50231753e-02,  1.79152189e-11,  5.24604342e-02,\n",
       "        -7.23712055e-02],\n",
       "       [ 4.80632872e-02, -5.24604342e-02,  4.29378371e-12,\n",
       "         4.53396541e-02],\n",
       "       [-5.34460957e-02,  7.23712055e-02, -4.53396541e-02,\n",
       "        -1.23861394e-12]])"
      ]
     },
     "execution_count": 4,
     "metadata": {},
     "output_type": "execute_result"
    }
   ],
   "source": [
    "SDP_solver(At,Bt,Vt)"
   ]
  },
  {
   "cell_type": "code",
   "execution_count": null,
   "id": "steady-survivor",
   "metadata": {},
   "outputs": [],
   "source": []
  }
 ],
 "metadata": {
  "kernelspec": {
   "display_name": "Python 3",
   "language": "python",
   "name": "python3"
  },
  "language_info": {
   "codemirror_mode": {
    "name": "ipython",
    "version": 3
   },
   "file_extension": ".py",
   "mimetype": "text/x-python",
   "name": "python",
   "nbconvert_exporter": "python",
   "pygments_lexer": "ipython3",
   "version": "3.9.2"
  }
 },
 "nbformat": 4,
 "nbformat_minor": 5
}
