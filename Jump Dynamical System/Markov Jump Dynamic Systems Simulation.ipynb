{
 "cells": [
  {
   "cell_type": "code",
   "execution_count": 25,
   "metadata": {},
   "outputs": [],
   "source": [
    "import numpy as np\n",
    "from scipy.signal import StateSpace, lsim\n",
    "import matplotlib.pyplot as plt\n",
    "from numpy import linalg as LA"
   ]
  },
  {
   "cell_type": "code",
   "execution_count": 26,
   "metadata": {},
   "outputs": [],
   "source": [
    "p=0.2\n",
    "q=0.3\n",
    "M=np.matrix([[p,1-p],[1-q,q]])"
   ]
  },
  {
   "cell_type": "code",
   "execution_count": 27,
   "metadata": {},
   "outputs": [
    {
     "data": {
      "text/plain": [
       "(array([0.36616727, 0.23084284]), array([0.85858788, 0.98092415]))"
      ]
     },
     "execution_count": 27,
     "metadata": {},
     "output_type": "execute_result"
    }
   ],
   "source": [
    "a=np.random.rand(2)\n",
    "b=np.random.rand(2)\n",
    "a,b"
   ]
  },
  {
   "cell_type": "code",
   "execution_count": 28,
   "metadata": {},
   "outputs": [],
   "source": [
    "Q=np.outer(a,a)\n",
    "R=np.outer(b,b)\n",
    "\n",
    "\n",
    "pd1=0.5*np.random.rand(1)\n",
    "pd2=0.5*np.random.rand(1)\n",
    "\n",
    "I=np.array([[1,0],[0,1]])\n",
    "\n",
    "Q=Q+pd1*I\n",
    "R=R+pd2*I"
   ]
  },
  {
   "cell_type": "code",
   "execution_count": 29,
   "metadata": {},
   "outputs": [],
   "source": [
    "A1=np.random.rand(2,2)\n",
    "B1=np.random.rand(2,2)\n",
    "A2=np.random.rand(2,2)\n",
    "B2=np.random.rand(2,2)\n",
    "var1=0.5*np.random.rand(2)\n",
    "var2=0.5*np.random.rand(2)\n",
    "K=np.random.rand(2,2)"
   ]
  },
  {
   "cell_type": "code",
   "execution_count": 30,
   "metadata": {},
   "outputs": [
    {
     "data": {
      "text/plain": [
       "0.2157767368966357"
      ]
     },
     "execution_count": 30,
     "metadata": {},
     "output_type": "execute_result"
    }
   ],
   "source": [
    "scale1=0.2\n",
    "scale2=0.2\n",
    "K=scale1*K\n",
    "A1=scale1*A1\n",
    "A2=scale2*A2\n",
    "B1=scale1*B1\n",
    "B2=scale2*B2\n",
    "var1=scale1*scale1*var1\n",
    "var2=scale2*scale2*var2\n",
    "LA.norm(A1+B1.dot(K),2)\n"
   ]
  },
  {
   "cell_type": "code",
   "execution_count": 31,
   "metadata": {},
   "outputs": [
    {
     "data": {
      "text/plain": [
       "0.3082780948058334"
      ]
     },
     "execution_count": 31,
     "metadata": {},
     "output_type": "execute_result"
    }
   ],
   "source": [
    "LA.norm(A2+B2.dot(K),2)"
   ]
  },
  {
   "cell_type": "code",
   "execution_count": 32,
   "metadata": {},
   "outputs": [],
   "source": [
    "time=np.arange(0,10,1e-3)\n",
    "time.shape\n",
    "cost=np.zeros((time.shape[0]))\n",
    "x_norm=np.zeros((time.shape[0]))"
   ]
  },
  {
   "cell_type": "code",
   "execution_count": 33,
   "metadata": {},
   "outputs": [],
   "source": [
    "x_dynamics=np.zeros((2,time.shape[0]))\n",
    "x_0=np.random.rand(2)\n",
    "x_dynamics[:,0]=x_0\n",
    "x_dynamics\n",
    "u_0=K.dot(x_0)\n",
    "c_0=x_0.dot((Q.dot(x_0)))+u_0.dot((R.dot(u_0)))\n",
    "cost[0]=c_0\n",
    "x_norm[0]=LA.norm(x_0,2)"
   ]
  },
  {
   "cell_type": "code",
   "execution_count": 34,
   "metadata": {},
   "outputs": [],
   "source": [
    "# This part now incorporates Markov Jump \n",
    "\n",
    "markov_state=0\n",
    "ms=np.zeros((time.shape[0]))\n",
    "ms[0]=0\n",
    "for t in range(1,time.shape[0]):\n",
    "    xprev=x_dynamics[:,t-1]\n",
    "    uprev=K.dot(xprev)\n",
    "    markov_state=ms[t-1]\n",
    "    if (markov_state==0):\n",
    "        markov_state=np.random.choice(2,1,p=[p,1-p])\n",
    "    else:\n",
    "        markov_state=np.random.choice(2,1,p=[1-q,q])    \n",
    "    if (markov_state==0):\n",
    "        xt=A1.dot(xprev)+B1.dot(uprev)+np.random.normal(0,var1,xprev.shape)\n",
    "    else:\n",
    "        xt=A2.dot(xprev)+B2.dot(uprev)+np.random.normal(0,var2,xprev.shape)\n",
    "    ut=K.dot(xt)\n",
    "    ct=xt.dot(Q.dot(xt))+ut.dot(R.dot(ut))\n",
    "    c=(cost[t-1]*(t)+ct)/(t+1)\n",
    "    x_norm[t]=LA.norm(xt,2)\n",
    "    cost[t]=c\n",
    "    ms[t]=markov_state\n",
    "    x_dynamics[:,t]=xt\n",
    "    \n",
    "Final_Cost=(cost[time.shape[0]-1]*(time.shape[0])+x_dynamics[:,time.shape[0]-1].dot(Q.dot(x_dynamics[:,time.shape[0]-1])))/(time.shape[0]+1)\n",
    "\n"
   ]
  },
  {
   "cell_type": "code",
   "execution_count": 35,
   "metadata": {},
   "outputs": [
    {
     "data": {
      "text/plain": [
       "[<matplotlib.lines.Line2D at 0x7fdf4110a220>]"
      ]
     },
     "execution_count": 35,
     "metadata": {},
     "output_type": "execute_result"
    },
    {
     "data": {
      "image/png": "[encoded data removed]",
      "text/plain": [
       "<Figure size 432x288 with 1 Axes>"
      ]
     },
     "metadata": {
      "needs_background": "light"
     },
     "output_type": "display_data"
    }
   ],
   "source": [
    "plt.plot(time,cost)"
   ]
  },
  {
   "cell_type": "code",
   "execution_count": 36,
   "metadata": {},
   "outputs": [
    {
     "data": {
      "text/plain": [
       "[<matplotlib.lines.Line2D at 0x7fdf41177fd0>]"
      ]
     },
     "execution_count": 36,
     "metadata": {},
     "output_type": "execute_result"
    },
    {
     "data": {
      "image/png": "[encoded data removed]",
      "text/plain": [
       "<Figure size 432x288 with 1 Axes>"
      ]
     },
     "metadata": {
      "needs_background": "light"
     },
     "output_type": "display_data"
    }
   ],
   "source": [
    "plt.plot(time[0:2000],cost[0:2000])"
   ]
  },
  {
   "cell_type": "code",
   "execution_count": 37,
   "metadata": {},
   "outputs": [
    {
     "data": {
      "text/plain": [
       "[<matplotlib.lines.Line2D at 0x7fdf3fa55e50>]"
      ]
     },
     "execution_count": 37,
     "metadata": {},
     "output_type": "execute_result"
    },
    {
     "data": {
      "image/png": "[encoded data removed]",
      "text/plain": [
       "<Figure size 432x288 with 1 Axes>"
      ]
     },
     "metadata": {
      "needs_background": "light"
     },
     "output_type": "display_data"
    }
   ],
   "source": [
    "plt.plot(time[0:200],x_norm[0:200])"
   ]
  },
  {
   "cell_type": "code",
   "execution_count": 38,
   "metadata": {},
   "outputs": [
    {
     "data": {
      "text/plain": [
       "[<matplotlib.lines.Line2D at 0x7fdf41438820>]"
      ]
     },
     "execution_count": 38,
     "metadata": {},
     "output_type": "execute_result"
    },
    {
     "data": {
      "image/png": "[encoded data removed]",
      "text/plain": [
       "<Figure size 432x288 with 1 Axes>"
      ]
     },
     "metadata": {
      "needs_background": "light"
     },
     "output_type": "display_data"
    }
   ],
   "source": [
    "plt.plot(time[0:10],ms[0:10])"
   ]
  },
  {
   "cell_type": "code",
   "execution_count": 39,
   "metadata": {},
   "outputs": [
    {
     "data": {
      "text/plain": [
       "0.0002124615779428708"
      ]
     },
     "execution_count": 39,
     "metadata": {},
     "output_type": "execute_result"
    }
   ],
   "source": [
    "Final_Cost"
   ]
  },
  {
   "cell_type": "code",
   "execution_count": 40,
   "metadata": {},
   "outputs": [],
   "source": [
    "#Ricatti Solver and testing the average cost with this\n",
    "\n",
    "Opt_x_dynamics=np.zeros((2,time.shape[0]))\n",
    "Opt_x_0=np.random.rand(2)\n",
    "Opt_x_dynamics[:,0]=Opt_x_0\n",
    "Opt_x_dynamics\n",
    "Opt_cost=np.zeros((time.shape[0]))\n",
    "Opt_x_norm=np.zeros((time.shape[0]))\n",
    "\n",
    "## Opt_c_0=Opt_x_0.dot((Q.dot(Opt_x_0)))+Opt_u_0.dot((R.dot(Opt_u_0))) This line will appear after we have Opt_u_0 from K_0 after Dynamic Programming\n"
   ]
  },
  {
   "cell_type": "code",
   "execution_count": 41,
   "metadata": {},
   "outputs": [],
   "source": [
    "# Dynamic Programming for Riccati Solver Policies as in Vijay Gupta's MJLS notes: http://www.cds.caltech.edu/~murray/books/AM08/pdf/ncs-markjls_22Jan10.pdf\n",
    "\n",
    "\n",
    "P1=np.zeros((time.shape[0],2,2))\n",
    "K1=np.zeros((time.shape[0],2,2))\n",
    "P2=np.zeros((time.shape[0],2,2))\n",
    "K2=np.zeros((time.shape[0],2,2))\n",
    "#zero_init=np.zeros((2,2))\n",
    "for t in range((time.shape[0])):\n",
    "    P1[t]=np.zeros((2,2))\n",
    "    P2[t]=np.zeros((2,2))\n",
    "    K1[t]=np.zeros((2,2))\n",
    "    K2[t]=np.zeros((2,2))\n",
    "P1[time.shape[0]-1]=Q\n",
    "P2[time.shape[0]-1]=Q\n",
    "K1[time.shape[0]-1]=np.dot(np.dot(np.dot(np.linalg.inv(R+np.dot(np.dot(B1.T,Q),B1)),B1.T),Q),A1)\n",
    "K2[time.shape[0]-1]=np.dot(np.dot(np.dot(np.linalg.inv(R+np.dot(np.dot(B2.T,Q),B2)),B2.T),Q),A2)\n",
    "\n",
    "for t in range(1,time.shape[0]):\n",
    "    P1[time.shape[0]-t-1]=p*(Q+np.dot(A1.T,np.dot(P1[time.shape[0]-t],A1))-np.dot(np.dot(np.dot(np.dot(np.dot(np.dot(A1.T,P1[time.shape[0]-t].T),B1),np.linalg.inv(R+np.dot(B1.T,np.dot(P1[time.shape[0]-t],B1)))),B1.T),P1[time.shape[0]-t]),A1))+(1-p)*(Q+np.dot(A2.T,np.dot(P2[time.shape[0]-t],A2))-np.dot(np.dot(np.dot(np.dot(np.dot(np.dot(A2.T,P2[time.shape[0]-t].T),B2),np.linalg.inv(R+np.dot(B2.T,np.dot(P2[time.shape[0]-t],B2)))),B2.T),P2[time.shape[0]-t]),A2))\n",
    "    P2[time.shape[0]-t-1]=(1-q)*(Q+np.dot(A1.T,np.dot(P1[time.shape[0]-t],A1))-np.dot(np.dot(np.dot(np.dot(np.dot(np.dot(A1.T,P1[time.shape[0]-t].T),B1),np.linalg.inv(R+np.dot(B1.T,np.dot(P1[time.shape[0]-t],B1)))),B1.T),P1[time.shape[0]-t]),A1))+q*(Q+np.dot(A2.T,np.dot(P2[time.shape[0]-t],A2))-np.dot(np.dot(np.dot(np.dot(np.dot(np.dot(A2.T,P2[time.shape[0]-t].T),B2),np.linalg.inv(R+np.dot(B2.T,np.dot(P2[time.shape[0]-t],B2)))),B2.T),P2[time.shape[0]-t]),A2))\n",
    "    K1[time.shape[0]-t-1]=np.dot(np.dot(np.dot(np.linalg.inv(R+np.dot(np.dot(B1.T,P1[time.shape[0]-t]),B1)),B1.T),P1[time.shape[0]-t]),A1)\n",
    "    K2[time.shape[0]-t-1]=np.dot(np.dot(np.dot(np.linalg.inv(R+np.dot(np.dot(B2.T,P1[time.shape[0]-t]),B2)),B2.T),P2[time.shape[0]-t]),A2)\n"
   ]
  },
  {
   "cell_type": "code",
   "execution_count": 42,
   "metadata": {},
   "outputs": [],
   "source": [
    "#Now we run the Riccati Optimal Policies\n",
    "\n",
    "#First some initializations\n",
    "\n",
    "markov_state=0\n",
    "Opt_ms=np.zeros((time.shape[0]))\n",
    "Opt_ms[0]=0\n",
    "\n",
    "Opt_u_0= -K1[0].dot(Opt_x_0)\n",
    "\n",
    "Opt_c_0=Opt_x_0.dot((Q.dot(Opt_x_0)))+Opt_u_0.dot((R.dot(Opt_u_0)))\n",
    "\n",
    "Opt_cost[0]=Opt_c_0\n",
    "Opt_x_norm[0]=LA.norm(Opt_x_0,2)\n",
    "\n",
    "#Now we simulate the Markov Jump Dynamical System, this time playing optimally using Riccati Policies\n",
    "\n",
    "for t in range(1,time.shape[0]):\n",
    "    xprev=Opt_x_dynamics[:,t-1]\n",
    "    markov_state=Opt_ms[t-1]\n",
    "    if (markov_state==0):\n",
    "        uprev=-K1[t-1].dot(xprev)\n",
    "        markov_state=np.random.choice(2,1,p=[p,1-p])\n",
    "    else:\n",
    "        uprev=-K2[t-1].dot(xprev)\n",
    "        markov_state=np.random.choice(2,1,p=[1-q,q])    \n",
    "    if (markov_state==0):\n",
    "        xt=A1.dot(xprev)+B1.dot(uprev)+np.random.normal(0,var1,xprev.shape)\n",
    "        ut=-K1[t].dot(xt)\n",
    "    else:\n",
    "        xt=A2.dot(xprev)+B2.dot(uprev)+np.random.normal(0,var2,xprev.shape)\n",
    "        ut=-K2[t].dot(xt)\n",
    "    ct=xt.dot(Q.dot(xt))+ut.dot(R.dot(ut))\n",
    "    c=(Opt_cost[t-1]*(t)+ct)/(t+1)\n",
    "    Opt_x_norm[t]=LA.norm(xt,2)\n",
    "    Opt_cost[t]=c\n",
    "    Opt_ms[t]=markov_state\n",
    "    Opt_x_dynamics[:,t]=xt\n",
    "\n",
    "Opt_Final_Cost=(Opt_cost[time.shape[0]-1]*(time.shape[0])+Opt_x_dynamics[:,time.shape[0]-1].dot(Q.dot(Opt_x_dynamics[:,time.shape[0]-1])))/(time.shape[0]+1)\n",
    "\n"
   ]
  },
  {
   "cell_type": "code",
   "execution_count": 43,
   "metadata": {},
   "outputs": [
    {
     "data": {
      "text/plain": [
       "0.00019178045301736078"
      ]
     },
     "execution_count": 43,
     "metadata": {},
     "output_type": "execute_result"
    }
   ],
   "source": [
    "Opt_Final_Cost"
   ]
  },
  {
   "cell_type": "code",
   "execution_count": 44,
   "metadata": {},
   "outputs": [
    {
     "data": {
      "text/plain": [
       "0.0002124615779428708"
      ]
     },
     "execution_count": 44,
     "metadata": {},
     "output_type": "execute_result"
    }
   ],
   "source": [
    "Final_Cost"
   ]
  },
  {
   "cell_type": "code",
   "execution_count": null,
   "metadata": {},
   "outputs": [],
   "source": []
  },
  {
   "cell_type": "code",
   "execution_count": null,
   "metadata": {},
   "outputs": [],
   "source": []
  }
 ],
 "metadata": {
  "kernelspec": {
   "display_name": "Python 3",
   "language": "python",
   "name": "python3"
  },
  "language_info": {
   "codemirror_mode": {
    "name": "ipython",
    "version": 3
   },
   "file_extension": ".py",
   "mimetype": "text/x-python",
   "name": "python",
   "nbconvert_exporter": "python",
   "pygments_lexer": "ipython3",
   "version": "3.9.2"
  }
 },
 "nbformat": 4,
 "nbformat_minor": 4
}
