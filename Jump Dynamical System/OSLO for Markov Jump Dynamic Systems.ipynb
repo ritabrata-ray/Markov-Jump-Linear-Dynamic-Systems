{
 "cells": [
  {
   "cell_type": "code",
   "execution_count": 1,
   "id": "skilled-alias",
   "metadata": {},
   "outputs": [],
   "source": [
    "import numpy as np\n",
    "from scipy.signal import StateSpace, lsim\n",
    "import matplotlib.pyplot as plt\n",
    "from numpy import linalg as LA\n",
    "import cvxpy as cp\n",
    "import dill"
   ]
  },
  {
   "cell_type": "code",
   "execution_count": 2,
   "id": "liable-saint",
   "metadata": {},
   "outputs": [],
   "source": [
    "#dill.load_session('notebook_env.db')       #Uncomment it to load previous session"
   ]
  },
  {
   "cell_type": "code",
   "execution_count": 3,
   "id": "unsigned-collect",
   "metadata": {},
   "outputs": [],
   "source": [
    "p=0.2\n",
    "q=0.3\n",
    "M=np.matrix([[p,1-p],[1-q,q]])\n",
    "\n",
    "\n",
    "infeasibility_flaga=0\n",
    "infeasibility_flagb=0"
   ]
  },
  {
   "cell_type": "code",
   "execution_count": 4,
   "id": "finnish-passage",
   "metadata": {},
   "outputs": [
    {
     "data": {
      "text/plain": [
       "(array([0.31022858, 0.96464759]), array([0.36354262, 0.42519085]))"
      ]
     },
     "execution_count": 4,
     "metadata": {},
     "output_type": "execute_result"
    }
   ],
   "source": [
    "a=np.random.rand(2)\n",
    "b=np.random.rand(2)\n",
    "a,b"
   ]
  },
  {
   "cell_type": "code",
   "execution_count": 5,
   "id": "damaged-portsmouth",
   "metadata": {},
   "outputs": [],
   "source": [
    "Q=np.outer(a,a)\n",
    "R=np.outer(b,b)\n",
    "\n",
    "\n",
    "pd1=0.5*np.random.rand(1)\n",
    "pd2=0.5*np.random.rand(1)\n",
    "\n",
    "I=np.array([[1,0],[0,1]])\n",
    "\n",
    "Q=Q+pd1*I\n",
    "R=R+pd2*I\n",
    "\n",
    "mode_difference_std_dev=0.05"
   ]
  },
  {
   "cell_type": "code",
   "execution_count": 6,
   "id": "aboriginal-profession",
   "metadata": {},
   "outputs": [],
   "source": [
    "A1=np.random.rand(2,2)\n",
    "B1=np.random.rand(2,2)\n",
    "A2=A1+np.random.normal(0,mode_difference_std_dev,A1.shape)\n",
    "B2=B1+np.random.normal(0,mode_difference_std_dev,B1.shape)\n",
    "var1=0.01*np.random.rand(1)\n",
    "var2=0.01*np.random.rand(1)\n",
    "K=np.random.rand(2,2)\n",
    "\n",
    "\n",
    "\n",
    "#scale=0.1\n",
    "\n",
    "scale1=0.1\n",
    "scale2=0.1\n",
    "K=scale1*K\n",
    "A1=scale1*A1\n",
    "A2=scale2*A2\n",
    "B1=scale1*B1\n",
    "B2=scale2*B2\n",
    "var1=scale1*scale1*var1\n",
    "var2=scale2*scale2*var2\n",
    "\n"
   ]
  },
  {
   "cell_type": "code",
   "execution_count": 7,
   "id": "biological-athens",
   "metadata": {},
   "outputs": [
    {
     "data": {
      "text/plain": [
       "0.13213978975240476"
      ]
     },
     "execution_count": 7,
     "metadata": {},
     "output_type": "execute_result"
    }
   ],
   "source": [
    "\n",
    "LA.norm(A1+B1.dot(K),2)\n"
   ]
  },
  {
   "cell_type": "code",
   "execution_count": 8,
   "id": "dominican-wealth",
   "metadata": {},
   "outputs": [
    {
     "data": {
      "text/plain": [
       "0.13223925867429467"
      ]
     },
     "execution_count": 8,
     "metadata": {},
     "output_type": "execute_result"
    }
   ],
   "source": [
    "LA.norm(A2+B2.dot(K),2)"
   ]
  },
  {
   "cell_type": "code",
   "execution_count": 9,
   "id": "cloudy-preserve",
   "metadata": {},
   "outputs": [],
   "source": [
    "time=np.arange(0,10000,1e-3)\n",
    "time.shape\n",
    "cost=np.zeros((time.shape[0]))\n",
    "x_norm=np.zeros((time.shape[0]))"
   ]
  },
  {
   "cell_type": "code",
   "execution_count": 10,
   "id": "third-gibraltar",
   "metadata": {},
   "outputs": [
    {
     "name": "stdout",
     "output_type": "stream",
     "text": [
      "1.7121345897985008\n"
     ]
    }
   ],
   "source": [
    "#Here we run the previous Riccati to empirically find a safe nu, note we use a random policy K instead of the Riccati\n",
    "# equation based optimal policy to get a safe upper bound and find all the hyperparameters for both modes a and b.\n",
    "\n",
    "\n",
    "\n",
    "#Starting Mode a\n",
    "\n",
    "x_dynamicsa=np.zeros((2,time.shape[0]))\n",
    "x_0a=np.random.rand(2)\n",
    "x_dynamicsa[:,0]=x_0a\n",
    "\n",
    "\n",
    "u_0a=K.dot(x_0a)\n",
    "\n",
    "costa=np.zeros((time.shape[0]))\n",
    "x_norma=np.zeros((time.shape[0]))\n",
    "\n",
    "c_0a=x_0a.dot((Q.dot(x_0a)))+u_0a.dot((R.dot(u_0a)))\n",
    "\n",
    "costa[0]=c_0a\n",
    "x_norma[0]=LA.norm(x_0a,2)\n",
    "\n",
    "for t in range(1,time.shape[0]):\n",
    "    xprev=x_dynamicsa[:,t-1]\n",
    "    uprev=K.dot(xprev)\n",
    "    xt=A1.dot(xprev)+B1.dot(uprev)+np.random.normal(0,var1,xprev.shape)\n",
    "    ut=K.dot(xt)\n",
    "    ct=xt.dot(Q.dot(xt))+ut.dot(R.dot(ut))\n",
    "    c=(costa[t-1]*(t)+ct)/(t+1)\n",
    "    x_norma[t]=LA.norm(xt,2)\n",
    "    costa[t]=c\n",
    "    x_dynamicsa[:,t]=xt\n",
    "    \n",
    "Final_Costa=(costa[time.shape[0]-1]*(time.shape[0])+x_dynamicsa[:,time.shape[0]-1].dot(Q.dot(x_dynamicsa[:,time.shape[0]-1])))/(time.shape[0]+1)\n",
    "\n",
    "Final_Costa*=(time.shape[0]+1)\n",
    "\n",
    "print(Final_Costa)\n",
    "\n",
    "\n",
    "\n",
    " \n"
   ]
  },
  {
   "cell_type": "code",
   "execution_count": 11,
   "id": "given-attraction",
   "metadata": {},
   "outputs": [
    {
     "name": "stdout",
     "output_type": "stream",
     "text": [
      "0.12141806091579992\n"
     ]
    }
   ],
   "source": [
    "#Now for Mode b\n",
    "\n",
    "x_dynamicsb=np.zeros((2,time.shape[0]))\n",
    "x_0b=np.random.rand(2)\n",
    "x_dynamicsb[:,0]=x_0b\n",
    "\n",
    "\n",
    "u_0b=K.dot(x_0b)\n",
    "\n",
    "costb=np.zeros((time.shape[0]))\n",
    "x_normb=np.zeros((time.shape[0]))\n",
    "\n",
    "c_0b=x_0b.dot((Q.dot(x_0b)))+u_0b.dot((R.dot(u_0b)))\n",
    "\n",
    "costb[0]=c_0b\n",
    "x_normb[0]=LA.norm(x_0b,2)\n",
    "\n",
    "for t in range(1,time.shape[0]):\n",
    "    xprev=x_dynamicsb[:,t-1]\n",
    "    uprev=K.dot(xprev)\n",
    "    xt=A2.dot(xprev)+B2.dot(uprev)+np.random.normal(0,var2,xprev.shape)\n",
    "    ut=K.dot(xt)\n",
    "    ct=xt.dot(Q.dot(xt))+ut.dot(R.dot(ut))\n",
    "    c=(costb[t-1]*(t)+ct)/(t+1)\n",
    "    x_normb[t]=LA.norm(xt,2)\n",
    "    costb[t]=c\n",
    "    x_dynamicsb[:,t]=xt\n",
    "    \n",
    "Final_Costb=(costb[time.shape[0]-1]*(time.shape[0])+x_dynamicsb[:,time.shape[0]-1].dot(Q.dot(x_dynamicsb[:,time.shape[0]-1])))/(time.shape[0]+1)\n",
    "\n",
    "Final_Costb*=(time.shape[0]+1)\n",
    "\n",
    "print(Final_Costb)\n",
    "\n",
    "\n",
    "\n",
    "\n",
    "\n",
    "\n",
    "\n"
   ]
  },
  {
   "cell_type": "code",
   "execution_count": 12,
   "id": "conservative-colon",
   "metadata": {},
   "outputs": [],
   "source": [
    "#Now we set the hyperparameters for the OSLO Algorithm, alpha0 and alpha1 are same for both modes.\n",
    "\n",
    "\n",
    "n=4 #n=k+d=2+2=4\n",
    "\n",
    "delta=0.1\n",
    "\n",
    "q1,q2=LA.eigh(Q)\n",
    "r1,r2=LA.eigh(R)\n",
    "\n",
    "\n",
    "minq=np.amin(q1)\n",
    "maxq=np.amax(q1)\n",
    "minr=np.amin(r1)\n",
    "maxr=np.amax(r1)\n",
    "\n",
    "\n",
    "\n",
    "alpha0=min(minq,minr)\n",
    "\n",
    "alpha1=max(maxq,maxr)\n",
    "\n",
    "Augmenteda=np.column_stack((A1,B1))\n",
    "\n",
    "nua=0.0000005  #Experimental value from repeatedly upper bounding last to last cell\n",
    "\n",
    "          #based on the above experiment running the previous block several times, the average cost on convergence is\n",
    "\n",
    "         # always upper bounded by the value of nu chosen so J* is definitely upper bounded by it \n",
    "\n",
    "vhia=LA.norm(Augmenteda,2)\n",
    "\n",
    "\n",
    "\n",
    "\n",
    "\n",
    "Augmentedb=np.column_stack((A2,B2))\n",
    "\n",
    "nub=0.00000005  #Experimental value from repeatedly upper bounding last cell\n",
    "\n",
    "          #based on the above experiment running the previous block several times, the average cost on convergence is\n",
    "\n",
    "         # always upper bounded by the value of nu chosen so J* is definitely upper bounded by it \n",
    "\n",
    "vhib=LA.norm(Augmentedb,2)\n",
    "\n",
    "\n"
   ]
  },
  {
   "cell_type": "code",
   "execution_count": 13,
   "id": "preliminary-dinner",
   "metadata": {},
   "outputs": [
    {
     "name": "stdout",
     "output_type": "stream",
     "text": [
      "2436.189745859627 1000000 1e-07\n",
      "[[1000000       0       0       0]\n",
      " [      0 1000000       0       0]\n",
      " [      0       0 1000000       0]\n",
      " [      0       0       0 1000000]]\n",
      "2435.4985464518004 1000000 1e-07\n",
      "[[1000000       0       0       0]\n",
      " [      0 1000000       0       0]\n",
      " [      0       0 1000000       0]\n",
      " [      0       0       0 1000000]]\n"
     ]
    }
   ],
   "source": [
    "#Line 2 of the algorithm; initializing parameters\n",
    "\n",
    "mua=5*vhia*np.sqrt(time.shape[0])\n",
    "\n",
    "\n",
    "lamdaa=(2048*np.power(nua,5)*vhia*np.sqrt(time.shape[0]))/(np.power(alpha0,5)*np.power(var1,5))\n",
    "\n",
    "betaa=(256*1024*np.power(nua,4)*n*n*np.log((time.shape[0])/delta))/(np.power(alpha0,4)*np.power(var1,3))\n",
    "\n",
    "bigI=np.array([[1,0,0,0],[0,1,0,0],[0,0,1,0],[0,0,0,1]])\n",
    "\n",
    "\n",
    "#Manually setting lamda and beta\n",
    "\n",
    "lamdaa=1000000\n",
    "\n",
    "betaa=0.0000001\n",
    "\n",
    "#Try beta = 1 and lamda=0.01,0.1 both\n",
    "\n",
    "#manual setting done\n",
    "\n",
    "\n",
    "V1a=lamdaa*bigI\n",
    "\n",
    "\n",
    "\n",
    "print(mua,lamdaa,betaa)\n",
    "\n",
    "print(V1a)\n",
    "\n",
    "\n",
    "\n",
    "\n",
    "\n",
    "mub=5*vhib*np.sqrt(time.shape[0])\n",
    "\n",
    "lamdab=(2048*np.power(nub,5)*vhib*np.sqrt(time.shape[0]))/(np.power(alpha0,5)*np.power(var2,5))\n",
    "\n",
    "betab=(256*1024*np.power(nub,4)*n*n*np.log((time.shape[0])/delta))/(np.power(alpha0,4)*np.power(var2,3))\n",
    "\n",
    "\n",
    "\n",
    "#Manually setting lamda and beta\n",
    "\n",
    "lamdab=1000000\n",
    "\n",
    "betab=0.0000001\n",
    "\n",
    "#manual setting done\n",
    "\n",
    "\n",
    "V1b=lamdab*np.array([[1,0,0,0],[0,1,0,0],[0,0,1,0],[0,0,0,1]])\n",
    "\n",
    "\n",
    "\n",
    "print(mub,lamdab,betab)\n",
    "\n",
    "print(V1b)\n",
    "\n",
    "\n",
    "\n",
    "\n",
    "\n",
    "\n",
    "\n",
    "\n"
   ]
  },
  {
   "cell_type": "code",
   "execution_count": 14,
   "id": "eastern-railway",
   "metadata": {},
   "outputs": [],
   "source": [
    "# We set further parameters for input of the algorithm (1st line in the paper)\n",
    "\n",
    "\n",
    "delta=0.1\n",
    "\n",
    "epsilona=1/(4*lamdaa)\n",
    "\n",
    "epsa=0.0001 #Manually chosen epsilon\n",
    "\n",
    "A0a=A1+np.sqrt(epsa/n)*np.random.rand(2,2)\n",
    "\n",
    "B0a=B1+np.sqrt(epsa/n)*np.random.rand(2,2)\n",
    "\n",
    "Wa=var1*I\n",
    "\n",
    "epsilonb=1/(4*lamdab)\n",
    "\n",
    "epsb=0.0001 #Manually chosen epsilon\n",
    "\n",
    "A0b=A2+np.sqrt(epsb/n)*np.random.rand(2,2)\n",
    "\n",
    "B0b=B2+np.sqrt(epsb/n)*np.random.rand(2,2)\n",
    "\n",
    "Wb=var2*I\n",
    "\n",
    "\n",
    "\n",
    "\n"
   ]
  },
  {
   "cell_type": "code",
   "execution_count": 15,
   "id": "caroline-twins",
   "metadata": {},
   "outputs": [],
   "source": [
    "# We write a function to compute ridge regression for matrices for system parameter estimation\n",
    "\n",
    "def square_matrix_ridge_regression(X,Y,Astar,lmda,beeta):\n",
    "    t=1+X.shape[1]\n",
    "    D=lmda*np.array([[1,0,0,0],[0,1,0,0],[0,0,1,0],[0,0,0,1]])\n",
    "    C=lmda*Astar\n",
    "    for s in range(1,t):\n",
    "        xs=X[:,s-1]\n",
    "        ys=Y[:,s-1]\n",
    "        C=C+(1/beeta)*np.outer(ys,xs)\n",
    "        D=D+(1/beeta)*np.outer(xs,xs)\n",
    "    return C.dot(np.linalg.inv(D))"
   ]
  },
  {
   "cell_type": "code",
   "execution_count": 16,
   "id": "dutch-living",
   "metadata": {},
   "outputs": [],
   "source": [
    " # A function for the big dot\n",
    "\n",
    "def big_dot(A,B):\n",
    "    return np.trace(np.dot(A.T,B))\n"
   ]
  },
  {
   "cell_type": "code",
   "execution_count": 17,
   "id": "tender-burden",
   "metadata": {},
   "outputs": [],
   "source": [
    "# Function for the SDP solver for mode a\n",
    "\n",
    "def SDP_solver_a(At,Bt,Vt,W,mu):\n",
    "    Vtinv=np.linalg.inv(Vt)\n",
    "    Sigma=cp.Variable((n,n))\n",
    "    sxx=cp.Variable((2,2))\n",
    "    suu=cp.Variable((2,2))\n",
    "    constraints=[Sigma>>0]\n",
    "    bigI=np.array([[1,0,0,0],[0,1,0,0],[0,0,1,0],[0,0,0,1]])\n",
    "    ABt=np.column_stack((At,Bt))\n",
    "    #Cost_Coefficient=np.array([[Q,[[1,0],[0,1]]],[[[1,0],[0,1]],R]])\n",
    "    I=np.array([[1,0],[0,1]])\n",
    "    \n",
    "    Left=np.array([[1,0,0,0],[0,1,0,0]])\n",
    "    Right=np.array([[1,0],[0,1],[0,0],[0,0]])\n",
    "    \n",
    "    constraints+=[ sxx  >> (((ABt)@Sigma)@(ABt.T))+W-mu*cp.trace((Sigma.T)@(Vtinv))*I ]\n",
    "    \n",
    "    constraints+=[ sxx == (Left@Sigma)@Right  ]\n",
    "    \n",
    "    Lefty=np.array([[0,0,1,0],[0,0,0,1]])\n",
    "    Righty=np.array([[0,0],[0,0],[1,0],[0,1]])\n",
    "    \n",
    "    constraints+=[ suu == (Lefty@Sigma)@Righty  ]\n",
    "    \n",
    "    prob = cp.Problem(cp.Minimize(cp.trace(sxx.T @ Q + suu.T @ R)),constraints)\n",
    "    prob.solve()\n",
    "    if(Sigma.value is None):\n",
    "        infeasibility_flaga=1\n",
    "        print(prob.value)\n",
    "        #print(\"Infeasibilty_flag value is: \",infeasibility_flag)\n",
    "        return (bigI)\n",
    "    else:\n",
    "        infeasibility_flaga=0\n",
    "    \n",
    "        #print(\"Infeasibilty_flag value is: \",infeasibility_flag)\n",
    "        return (Sigma.value)\n",
    "\n",
    "\n",
    "\n",
    "\n"
   ]
  },
  {
   "cell_type": "code",
   "execution_count": 18,
   "id": "civic-savannah",
   "metadata": {},
   "outputs": [],
   "source": [
    "# Function for the SDP solver for mode b\n",
    "\n",
    "def SDP_solver_b(At,Bt,Vt,W,mu):\n",
    "    Vtinv=np.linalg.inv(Vt)\n",
    "    Sigma=cp.Variable((n,n))\n",
    "    sxx=cp.Variable((2,2))\n",
    "    suu=cp.Variable((2,2))\n",
    "    constraints=[Sigma>>0]\n",
    "    bigI=np.array([[1,0,0,0],[0,1,0,0],[0,0,1,0],[0,0,0,1]])\n",
    "    ABt=np.column_stack((At,Bt))\n",
    "    #Cost_Coefficient=np.array([[Q,[[1,0],[0,1]]],[[[1,0],[0,1]],R]])\n",
    "    I=np.array([[1,0],[0,1]])\n",
    "    \n",
    "    Left=np.array([[1,0,0,0],[0,1,0,0]])\n",
    "    Right=np.array([[1,0],[0,1],[0,0],[0,0]])\n",
    "    \n",
    "    constraints+=[ sxx  >> (((ABt)@Sigma)@(ABt.T))+W-mu*cp.trace((Sigma.T)@(Vtinv))*I ]\n",
    "    \n",
    "    constraints+=[ sxx == (Left@Sigma)@Right  ]\n",
    "    \n",
    "    Lefty=np.array([[0,0,1,0],[0,0,0,1]])\n",
    "    Righty=np.array([[0,0],[0,0],[1,0],[0,1]])\n",
    "    \n",
    "    constraints+=[ suu == (Lefty@Sigma)@Righty  ]\n",
    "    \n",
    "    prob = cp.Problem(cp.Minimize(cp.trace(sxx.T @ Q + suu.T @ R)),constraints)\n",
    "    prob.solve()\n",
    "    if(Sigma.value is None):\n",
    "        infeasibility_flagb=1\n",
    "        print(prob.value)\n",
    "        #print(\"Infeasibilty_flag value is: \",infeasibility_flag)\n",
    "        return (bigI)\n",
    "    else:\n",
    "        infeasibility_flagb=0\n",
    "    \n",
    "        #print(\"Infeasibilty_flag value is: \",infeasibility_flag)\n",
    "        return (Sigma.value)\n",
    "\n",
    "\n",
    "\n",
    "\n"
   ]
  },
  {
   "cell_type": "code",
   "execution_count": 19,
   "id": "biological-consensus",
   "metadata": {},
   "outputs": [
    {
     "name": "stdout",
     "output_type": "stream",
     "text": [
      "WARN: m less than n, problem likely degenerate\n",
      "WARN: m less than n, problem likely degenerate\n"
     ]
    }
   ],
   "source": [
    "#Now we prepare to run the dynamical system with policies as dictated by OSLO algorithm\n",
    "\n",
    "x_dynamics=np.zeros((2,time.shape[0]))\n",
    "z_dynamics=np.zeros((4,time.shape[0]))\n",
    "x_0=np.random.rand(2)\n",
    "x_dynamics[:,0]=x_0\n",
    "z_dynamics[0:2,0]=x_0\n",
    "\n",
    "#Now we assume the system begins at mode a\n",
    "\n",
    "acount=1\n",
    "bcount=0\n",
    "\n",
    "#K0=np.random.rand(2,2)\n",
    "#u_0=K0.dot(x_0)\n",
    "#z_dynamics[2:4,0]=u_0\n",
    "\n",
    "\n",
    "\n",
    "\n",
    "x_dynamicsa=np.zeros((2,time.shape[0]))\n",
    "z_dynamicsa=np.zeros((4,time.shape[0]))\n",
    "\n",
    "x_dynamicsb=np.zeros((2,time.shape[0]))\n",
    "z_dynamicsb=np.zeros((4,time.shape[0]))\n",
    "\n",
    "x_dynamicsa[:,0]=x_0\n",
    "z_dynamicsa[0:2,0]=x_0\n",
    "z_dynamicsb[0:2,0]=x_0\n",
    "#z_dynamicsa[2:4,0]=u_0\n",
    "\n",
    "\n",
    "\n",
    "\n",
    "\n",
    "\n",
    "\n",
    "\n",
    "A_dynamicsa=np.zeros((time.shape[0],2,2))\n",
    "B_dynamicsa=np.zeros((time.shape[0],2,2))\n",
    "K_dynamicsa=np.zeros((time.shape[0],2,2))\n",
    "\n",
    "A_dynamicsa[0]=A0a\n",
    "B_dynamicsa[0]=B0a\n",
    "#K_dynamicsa[0]=K0\n",
    "\n",
    "V_dynamicsa=np.zeros((time.shape[0]+1,4,4))\n",
    "V_dynamicsa[0]=V1a\n",
    "\n",
    "Sigma_0a=SDP_solver_a(A_dynamicsa[0],B_dynamicsa[0],V_dynamicsa[0],Wa,mua)\n",
    "\n",
    "Left=np.array([[1,0,0,0],[0,1,0,0]])\n",
    "Right=np.array([[1,0],[0,1],[0,0],[0,0]])\n",
    "\n",
    "#Do this correction while running as well, for policy computation take sigma_xx first and then take its inverse\n",
    "\n",
    "\n",
    "Sigma_0_xx=(Left.dot(Sigma_0a)).dot(Right)\n",
    "Sigma_0_xx_inv=np.linalg.inv(Sigma_0_xx)\n",
    "K0a=(Sigma_0a[2:4,0:2]).dot((Sigma_0_xx_inv))\n",
    "\n",
    "K_dynamicsa[0]=K0a\n",
    "\n",
    "u_0=K0a.dot(x_0)\n",
    "z_dynamicsa[2:4,0]=u_0\n",
    "z_dynamicsa[0:2,0]=x_0\n",
    "\n",
    "\n",
    "\n",
    "\n",
    "\n",
    "\n",
    "\n",
    "cost=np.zeros((time.shape[0]))\n",
    "agg_cost_dynamics=np.zeros((time.shape[0]))\n",
    "z_norm=np.zeros((time.shape[0]))\n",
    "\n",
    "c_0=x_0.dot((Q.dot(x_0)))+u_0.dot((R.dot(u_0)))\n",
    "\n",
    "cost[0]=c_0\n",
    "agg_cost_dynamics[0]=c_0\n",
    "z_norm[0]=LA.norm(z_dynamicsa[:,0],2)\n",
    "x_norm[0]=LA.norm(x_0,2)\n",
    "\n",
    "z0=z_dynamicsa[:,0]\n",
    "\n",
    "z_dynamics[:,0]=z0\n",
    "\n",
    "V_dynamicsa[1]=V_dynamicsa[0]+(1/betaa)*np.outer(z0,z0)\n",
    "\n",
    "#Episode index is tau, and we need to start an episode at the beginning\n",
    "\n",
    "taua=0\n",
    "\n",
    "#Now all the intializations are done for mode a, so we repeat the same for mode b\n",
    "\n",
    "\n",
    "\n",
    "A_dynamicsb=np.zeros((time.shape[0],2,2))\n",
    "B_dynamicsb=np.zeros((time.shape[0],2,2))\n",
    "K_dynamicsb=np.zeros((time.shape[0],2,2))\n",
    "\n",
    "A_dynamicsb[0]=A0b\n",
    "B_dynamicsb[0]=B0b\n",
    "#K_dynamicsb[0]=K0\n",
    "\n",
    "V_dynamicsb=np.zeros((time.shape[0]+1,4,4))\n",
    "V_dynamicsb[0]=V1b\n",
    "\n",
    "\n",
    "\n",
    "Sigma_0b=SDP_solver_b(A_dynamicsb[0],B_dynamicsb[0],V_dynamicsb[0],Wb,mub)\n",
    "\n",
    "Left=np.array([[1,0,0,0],[0,1,0,0]])\n",
    "Right=np.array([[1,0],[0,1],[0,0],[0,0]])\n",
    "\n",
    "#Do this correction while running as well, for policy computation take sigma_xx first and then take its inverse\n",
    "\n",
    "\n",
    "Sigma_0_xx=(Left.dot(Sigma_0b)).dot(Right)\n",
    "Sigma_0_xx_inv=np.linalg.inv(Sigma_0_xx)\n",
    "K0b=(Sigma_0b[2:4,0:2]).dot((Sigma_0_xx_inv))\n",
    "\n",
    "K_dynamicsb[0]=K0b\n",
    "\n",
    "u_0=K0b.dot(x_0)\n",
    "z_dynamicsb[2:4,0]=u_0\n",
    "z_dynamicsb[0:2,0]=x_0\n",
    "\n",
    "\n",
    "z0=z_dynamicsb[:,0]\n",
    "\n",
    "\n",
    "\n",
    "#V_dynamicsb[1]=V_dynamicsb[0]+(1/betab)*np.outer(z0,z0)\n",
    "\n",
    "\n",
    "#V_dynamicsb[1]=V_dynamicsb[0]\n",
    "\n",
    "\n",
    "\n",
    "#V_dynamicsb[1]=V_dynamicsb[0]+(1/betab)*np.outer(z0,z0)\n",
    "\n",
    "#Episode index is tau, and we need to start an episode at the beginning\n",
    "\n",
    "taub=0\n",
    "\n",
    "\n",
    "\n",
    "\n"
   ]
  },
  {
   "cell_type": "code",
   "execution_count": 20,
   "id": "secure-democrat",
   "metadata": {},
   "outputs": [
    {
     "name": "stdout",
     "output_type": "stream",
     "text": [
      "WARN: m less than n, problem likely degenerate\n",
      "1\n",
      "a\n",
      "[[ 5.80314118e-05  1.52019438e-07 -2.16588302e-07 -3.23413562e-07]\n",
      " [ 1.52019438e-07  5.74059500e-05 -9.29338345e-08 -1.31849163e-07]\n",
      " [-2.16588302e-07 -9.29338345e-08  9.56991456e-10  1.41784456e-09]\n",
      " [-3.23413562e-07 -1.31849163e-07  1.41784456e-09  2.10136855e-09]]\n",
      "WARN: m less than n, problem likely degenerate\n",
      "1350\n",
      "a\n",
      "[[ 5.80097578e-05  1.21658563e-07 -1.68647698e-07 -2.49714658e-07]\n",
      " [ 1.21658563e-07  5.74352546e-05 -1.15932438e-07 -1.68597675e-07]\n",
      " [-1.68647698e-07 -1.15932438e-07  7.22892543e-10  1.06420832e-09]\n",
      " [-2.49714658e-07 -1.68597675e-07  1.06420830e-09  1.56680143e-09]]\n",
      "WARN: m less than n, problem likely degenerate\n",
      "1750\n",
      "b\n",
      "[[ 2.38143576e-05  1.04336383e-08 -3.96171182e-08 -5.25192142e-08]\n",
      " [ 1.04336383e-08  2.37994779e-05  7.80748672e-09  1.09776014e-08]\n",
      " [-3.96171182e-08  7.80748672e-09  6.84776584e-11  9.09873624e-11]\n",
      " [-5.25192142e-08  1.09776014e-08  9.09873672e-11  1.20907326e-10]]\n",
      "WARN: m less than n, problem likely degenerate\n",
      "4111\n",
      "b\n",
      "[[ 2.38317422e-05  4.35205102e-09 -2.61042294e-08 -3.42933846e-08]\n",
      " [ 4.35205104e-09  2.38183621e-05  1.51052868e-09  2.43860941e-09]\n",
      " [-2.61042294e-08  1.51052868e-09  2.86913622e-11  3.77195623e-11]\n",
      " [-3.42933846e-08  2.43860941e-09  3.77195702e-11  4.96001782e-11]]\n",
      "WARN: m less than n, problem likely degenerate\n",
      "3688\n",
      "a\n",
      "[[ 5.78791544e-05  8.85174558e-08 -1.44440491e-07 -2.13436857e-07]\n",
      " [ 8.85174558e-08  5.74617530e-05 -9.56582594e-08 -1.39268625e-07]\n",
      " [-1.44440491e-07 -9.56582594e-08  5.18963812e-10  7.63417293e-10]\n",
      " [-2.13436857e-07 -1.39268625e-07  7.63417299e-10  1.12303451e-09]]\n",
      "WARN: m less than n, problem likely degenerate\n",
      "7566\n",
      "b\n",
      "[[ 2.38432027e-05  1.79953746e-09 -1.77793111e-08 -2.31766187e-08]\n",
      " [ 1.79953746e-09  2.38340241e-05  5.75712260e-11  4.11915426e-10]\n",
      " [-1.77793111e-08  5.75712260e-11  1.32550789e-11  1.72836587e-11]\n",
      " [-2.31766187e-08  4.11915426e-10  1.72836587e-11  2.25332969e-11]]\n",
      "WARN: m less than n, problem likely degenerate\n",
      "7160\n",
      "a\n",
      "[[ 5.77757894e-05  7.54018171e-08 -1.45175131e-07 -2.17096220e-07]\n",
      " [ 7.54018171e-08  5.74942169e-05 -7.18001112e-08 -1.02712228e-07]\n",
      " [-1.45175131e-07 -7.18001112e-08  4.53986280e-10  6.73081840e-10]\n",
      " [-2.17096220e-07 -1.02712228e-07  6.73081868e-10  9.98241909e-10]]\n",
      "WARN: m less than n, problem likely degenerate\n",
      "12365\n",
      "b\n",
      "[[ 2.38552323e-05 -1.22387077e-09 -4.17443875e-09 -4.59125417e-09]\n",
      " [-1.22387073e-09  2.38461755e-05 -1.00652637e-08 -1.32352170e-08]\n",
      " [-4.17443875e-09 -1.00652637e-08  4.98200034e-12  6.38726638e-12]\n",
      " [-4.59125417e-09 -1.32352170e-08  6.38726454e-12  8.23174854e-12]]\n",
      "WARN: m less than n, problem likely degenerate\n",
      "12284\n",
      "a\n",
      "[[ 5.76738735e-05  3.11651995e-08 -8.76770228e-08 -1.29615928e-07]\n",
      " [ 3.11651995e-08  5.74825237e-05 -6.38898894e-08 -9.19168431e-08]\n",
      " [-8.76770228e-08 -6.38898894e-08  2.04194177e-10  2.99059096e-10]\n",
      " [-1.29615928e-07 -9.19168431e-08  2.99059075e-10  4.38054136e-10]]\n",
      "WARN: m less than n, problem likely degenerate\n",
      "19263\n",
      "b\n",
      "[[ 2.38593913e-05 -4.32467608e-10 -2.17826438e-10  3.76206564e-10]\n",
      " [-4.32467587e-10  2.38545226e-05 -9.90246741e-09 -1.29182859e-08]\n",
      " [-2.17826438e-10 -9.90246741e-09  4.11060980e-12  5.36129850e-12]\n",
      " [ 3.76206564e-10 -1.29182859e-08  5.36131259e-12  7.00033421e-12]]\n",
      "WARN: m less than n, problem likely degenerate\n",
      "19800\n",
      "a\n",
      "[[ 5.75812606e-05  1.03067846e-08 -2.97777791e-08 -4.26677560e-08]\n",
      " [ 1.03067846e-08  5.74846798e-05 -6.04966518e-08 -8.78767786e-08]\n",
      " [-2.97777791e-08 -6.04966518e-08  7.90613041e-11  1.14528307e-10]\n",
      " [-4.26677560e-08 -8.78767786e-08  1.14528307e-10  1.65936690e-10]]\n",
      "WARN: m less than n, problem likely degenerate\n",
      "28934\n",
      "b\n",
      "[[ 2.38658463e-05  7.19994437e-10 -8.78489731e-09 -1.12943431e-08]\n",
      " [ 7.19994428e-10  2.38600455e-05 -8.21264244e-09 -1.06448414e-08]\n",
      " [-8.78489731e-09 -8.21264244e-09  6.06103225e-12  7.82230376e-12]\n",
      " [-1.12943431e-08 -1.06448414e-08  7.82231847e-12  1.00948302e-11]]\n",
      "WARN: m less than n, problem likely degenerate\n",
      "30548\n",
      "a\n",
      "[[ 5.75527276e-05 -9.89524404e-10 -3.10986211e-08 -4.53045120e-08]\n",
      " [-9.89524450e-10  5.74899285e-05 -2.96873655e-08 -4.10623010e-08]\n",
      " [-3.10986211e-08 -2.96873655e-08  3.21378774e-11  4.56826941e-11]\n",
      " [-4.53045120e-08 -4.10623010e-08  4.56826793e-11  6.49949564e-11]]\n",
      "WARN: m less than n, problem likely degenerate\n",
      "42457\n",
      "b\n",
      "[[ 2.38684256e-05  8.77960757e-10 -1.15278585e-08 -1.50929156e-08]\n",
      " [ 8.77960749e-10  2.38644651e-05 -3.48758079e-09 -4.37650172e-09]\n",
      " [-1.15278585e-08 -3.48758079e-09  6.07575368e-12  7.92828386e-12]\n",
      " [-1.50929156e-08 -4.37650172e-09  7.92828385e-12  1.03445386e-11]]\n",
      "WARN: m less than n, problem likely degenerate\n",
      "45741\n",
      "a\n",
      "[[ 5.75310310e-05  2.59906346e-09 -2.78464457e-08 -4.07843782e-08]\n",
      " [ 2.59906346e-09  5.74935922e-05 -2.79730985e-08 -3.96932282e-08]\n",
      " [-2.78464457e-08 -2.79730985e-08  2.70862987e-11  3.90517205e-11]\n",
      " [-4.07843782e-08 -3.96932282e-08  3.90517382e-11  5.63130494e-11]]\n",
      "WARN: m less than n, problem likely degenerate\n",
      "61657\n",
      "b\n",
      "[[ 2.38692090e-05  5.20509435e-10 -7.13744792e-09 -9.40826975e-09]\n",
      " [ 5.20509435e-10  2.38673806e-05 -5.34333473e-09 -6.90866521e-09]\n",
      " [-7.13744792e-09 -5.34333473e-09  3.33087475e-12  4.35764850e-12]\n",
      " [-9.40826975e-09 -6.90866521e-09  4.35764850e-12  5.70773720e-12]]\n",
      "WARN: m less than n, problem likely degenerate\n",
      "67670\n",
      "a\n",
      "[[ 5.75204014e-05  1.89536323e-09 -1.84647496e-08 -2.62092729e-08]\n",
      " [ 1.89536331e-09  5.74960231e-05 -2.59583792e-08 -3.76540412e-08]\n",
      " [-1.84647496e-08 -2.59583792e-08  1.76485739e-11  2.54093354e-11]\n",
      " [-2.62092729e-08 -3.76540412e-08  2.54093354e-11  3.66016525e-11]]\n",
      "WARN: m less than n, problem likely degenerate\n",
      "88918\n",
      "b\n",
      "[[ 2.38708035e-05  6.33490137e-10 -6.95782596e-09 -9.22714472e-09]\n",
      " [ 6.33490129e-10  2.38696257e-05 -6.41748328e-09 -8.43687856e-09]\n",
      " [-6.95782596e-09 -6.41748328e-09  3.75416838e-12  4.95736409e-12]\n",
      " [-9.22714472e-09 -8.43687856e-09  4.95736899e-12  6.54934301e-12]]\n",
      "WARN: m less than n, problem likely degenerate\n",
      "98693\n",
      "a\n",
      "[[ 5.75116127e-05  5.78520123e-10 -1.45417877e-08 -2.06038907e-08]\n",
      " [ 5.78520147e-10  5.74977552e-05 -1.65514676e-08 -2.37809747e-08]\n",
      " [-1.45417877e-08 -1.65514676e-08  8.44326411e-12  1.20569581e-11]\n",
      " [-2.06038907e-08 -2.37809747e-08  1.20569463e-11  1.72195499e-11]]\n",
      "WARN: m less than n, problem likely degenerate\n",
      "127482\n",
      "b\n",
      "[[ 2.38726415e-05  5.25944181e-10 -7.21907553e-09 -9.47977285e-09]\n",
      " [ 5.25944171e-10  2.38710013e-05 -4.91263693e-09 -6.40217265e-09]\n",
      " [-7.21907553e-09 -4.91263693e-09  3.19396948e-12  4.18425776e-12]\n",
      " [-9.47977285e-09 -6.40217265e-09  4.18425346e-12  5.48134603e-12]]\n",
      "WARN: m less than n, problem likely degenerate\n",
      "142355\n",
      "a\n",
      "[[ 5.75057029e-05 -1.97884021e-09 -2.89062083e-09 -2.88471895e-09]\n",
      " [-1.97884012e-09  5.74996602e-05 -2.50780152e-09 -2.68261037e-09]\n",
      " [-2.89062083e-09 -2.50780152e-09  2.50389954e-13  2.67583725e-13]\n",
      " [-2.88471895e-09 -2.68261037e-09  2.67549765e-13  2.67375835e-13]]\n",
      "WARN: m less than n, problem likely degenerate\n",
      "182482\n",
      "b\n",
      "[[ 2.38732593e-05  3.80775921e-10 -6.90179649e-09 -9.06667971e-09]\n",
      " [ 3.80775931e-10  2.38720271e-05 -2.94484468e-09 -3.79457943e-09]\n",
      " [-6.90179649e-09 -2.94484468e-09  2.36021266e-12  3.08744223e-12]\n",
      " [-9.06667971e-09 -3.79457943e-09  3.08744101e-12  4.04755496e-12]]\n",
      "WARN: m less than n, problem likely degenerate\n",
      "203700\n",
      "a\n",
      "[[ 5.75045282e-05 -2.29504071e-10 -1.00208656e-08 -1.42038137e-08]\n",
      " [-2.29504036e-10  5.75000870e-05 -2.56371942e-09 -3.13786075e-09]\n",
      " [-1.00208656e-08 -2.56371942e-09  1.86204294e-12  2.61417748e-12]\n",
      " [-1.42038137e-08 -3.13786075e-09  2.61417748e-12  3.68080556e-12]]\n",
      "WARN: m less than n, problem likely degenerate\n",
      "260216\n",
      "b\n",
      "[[ 2.38734582e-05  7.96449630e-11 -2.68950333e-09 -3.40469146e-09]\n",
      " [ 7.96449502e-11  2.38726770e-05 -3.37646892e-09 -4.40478349e-09]\n",
      " [-2.68950333e-09 -3.37646892e-09  7.79669381e-13  1.00870908e-12]\n",
      " [-3.40469146e-09 -4.40478349e-09  1.00871399e-12  1.29808710e-12]]\n",
      "WARN: m less than n, problem likely degenerate\n",
      "290832\n",
      "a\n",
      "[[ 5.75028789e-05  1.08803755e-10 -7.82847631e-09 -1.11826091e-08]\n",
      " [ 1.08803793e-10  5.75007054e-05 -4.02297552e-09 -5.74020919e-09]\n",
      " [-7.82847631e-09 -4.02297552e-09  1.34602291e-12  1.92603310e-12]\n",
      " [-1.11826091e-08 -5.74020919e-09  1.92603015e-12  2.74715563e-12]]\n",
      "WARN: m less than n, problem likely degenerate\n",
      "369448\n",
      "b\n",
      "[[ 2.38735867e-05  6.30731090e-11 -1.09292516e-09 -1.27992053e-09]\n",
      " [ 6.30731266e-11  2.38733232e-05 -4.46493807e-09 -5.99277804e-09]\n",
      " [-1.09292516e-09 -4.46493807e-09  8.86122334e-13  1.18080339e-12]\n",
      " [-1.27992053e-09 -5.99277804e-09  1.18080645e-12  1.57443562e-12]]\n"
     ]
    },
    {
     "name": "stdout",
     "output_type": "stream",
     "text": [
      "WARN: m less than n, problem likely degenerate\n",
      "414597\n",
      "a\n",
      "[[ 5.75016354e-05 -6.14245659e-11 -4.62684113e-09 -6.80313964e-09]\n",
      " [-6.14245108e-11  5.75013007e-05  1.81874511e-09  3.18525629e-09]\n",
      " [-4.62684113e-09  1.81874511e-09  4.26842968e-13  6.48331010e-13]\n",
      " [-6.80313964e-09  3.18525629e-09  6.48351685e-13  9.78365795e-13]]\n",
      "WARN: m less than n, problem likely degenerate\n",
      "525009\n",
      "b\n",
      "[[ 2.38738704e-05 -2.71551692e-11 -1.01982289e-09 -1.17653147e-09]\n",
      " [-2.71551575e-11  2.38736928e-05 -3.44857093e-09 -4.69252388e-09]\n",
      " [-1.01982289e-09 -3.44857093e-09  5.40882019e-13  7.28180055e-13]\n",
      " [-1.17653147e-09 -4.69252388e-09  7.28184343e-13  9.79514858e-13]]\n",
      "WARN: m less than n, problem likely degenerate\n",
      "588565\n",
      "a\n",
      "[[ 5.75017783e-05 -1.25841379e-10 -3.05070599e-09 -4.42697870e-09]\n",
      " [-1.25841367e-10  5.75017766e-05  4.90662897e-09  7.89513711e-09]\n",
      " [-3.05070599e-09  4.90662897e-09  5.85474485e-13  9.06145070e-13]\n",
      " [-4.42697870e-09  7.89513711e-09  9.06128840e-13  1.42899937e-12]]\n",
      "WARN: m less than n, problem likely degenerate\n",
      "744669\n",
      "b\n",
      "[[ 2.38739614e-05  2.21974029e-11 -9.45250824e-10 -1.16825057e-09]\n",
      " [ 2.21973854e-11  2.38738650e-05 -2.26785364e-09 -3.04176220e-09]\n",
      " [-9.45250824e-10 -2.26785364e-09  2.53064944e-13  3.36143852e-13]\n",
      " [-1.16825057e-09 -3.04176220e-09  3.36140786e-13  4.45227071e-13]]\n",
      "WARN: m less than n, problem likely degenerate\n",
      "835508\n",
      "a\n",
      "[[ 5.75021760e-05 -7.76756865e-12 -5.46903981e-09 -8.07537604e-09]\n",
      " [-7.76754790e-12  5.75019402e-05  3.43804295e-09  5.59645429e-09]\n",
      " [-5.46903981e-09  3.43804295e-09  7.26783215e-13  1.10457265e-12]\n",
      " [-8.07537604e-09  5.59645429e-09  1.10455936e-12  1.68039043e-12]]\n",
      "WARN: m less than n, problem likely degenerate\n",
      "1054486\n",
      "b\n",
      "[[ 2.38742179e-05  9.48211661e-12 -1.63520513e-09 -2.06359715e-09]\n",
      " [ 9.48212575e-12  2.38740748e-05 -2.30143956e-09 -3.13849266e-09]\n",
      " [-1.63520513e-09 -2.30143956e-09  3.31296135e-13  4.43554527e-13]\n",
      " [-2.06359715e-09 -3.13849266e-09  4.43554528e-13  5.88297629e-13]]\n",
      "WARN: m less than n, problem likely degenerate\n",
      "1185649\n",
      "a\n",
      "[[ 5.75023304e-05  1.28601821e-10 -7.22258844e-09 -1.07840645e-08]\n",
      " [ 1.28601815e-10  5.75021377e-05  3.56395055e-09  5.69477882e-09]\n",
      " [-7.22258844e-09  3.56395055e-09  1.12429742e-12  1.70722125e-12]\n",
      " [-1.07840645e-08  5.69477882e-09  1.70722125e-12  2.58253396e-12]]\n",
      "WARN: m less than n, problem likely degenerate\n",
      "1491265\n",
      "b\n",
      "[[ 2.38742819e-05 -2.02617841e-11 -5.33477486e-10 -5.87024720e-10]\n",
      " [-2.02617752e-11  2.38741963e-05 -1.91450454e-09 -2.60328872e-09]\n",
      " [-5.33477486e-10 -1.91450454e-09  1.65852221e-13  2.21945506e-13]\n",
      " [-5.87024720e-10 -2.60328872e-09  2.21945511e-13  2.98731251e-13]]\n",
      "WARN: m less than n, problem likely degenerate\n",
      "1679797\n",
      "a\n",
      "[[ 5.75024086e-05  1.09057125e-10 -6.62540488e-09 -9.89208346e-09]\n",
      " [ 1.09057099e-10  5.75021718e-05  1.76874349e-09  2.92747105e-09]\n",
      " [-6.62540488e-09  1.76874349e-09  8.21803719e-13  1.22961886e-12]\n",
      " [-9.89208346e-09  2.92747105e-09  1.22961885e-12  1.85469721e-12]]\n",
      "WARN: m less than n, problem likely degenerate\n",
      "2110450\n",
      "b\n",
      "[[ 2.38744120e-05 -5.62942588e-13 -1.00573757e-09 -1.22555231e-09]\n",
      " [-5.62927042e-13  2.38742643e-05 -1.63972665e-09 -2.19004315e-09]\n",
      " [-1.00573757e-09 -1.63972665e-09  1.55834606e-13  2.03349288e-13]\n",
      " [-1.22555231e-09 -2.19004315e-09  2.03340098e-13  2.65067097e-13]]\n",
      "WARN: m less than n, problem likely degenerate\n",
      "2376946\n",
      "a\n",
      "[[ 5.75023595e-05  1.17078992e-10 -5.84242349e-09 -8.74159240e-09]\n",
      " [ 1.17079008e-10  5.75021945e-05  1.94618970e-10  3.74774223e-10]\n",
      " [-5.84242349e-09  1.94618970e-10  5.96656831e-13  8.90324111e-13]\n",
      " [-8.74159240e-09  3.74774223e-10  8.90321163e-13  1.33392362e-12]]\n",
      "WARN: m less than n, problem likely degenerate\n",
      "2985263\n",
      "b\n",
      "[[ 2.38744116e-05  1.28399770e-11 -1.07063812e-09 -1.34962129e-09]\n",
      " [ 1.28399784e-11  2.38743327e-05 -1.63301253e-09 -2.19766023e-09]\n",
      " [-1.07063812e-09 -1.63301253e-09  1.59290199e-13  2.12951405e-13]\n",
      " [-1.34962129e-09 -2.19766023e-09  2.12946501e-13  2.78836920e-13]]\n",
      "WARN: m less than n, problem likely degenerate\n",
      "3362936\n",
      "a\n",
      "[[ 5.75023738e-05  1.18845745e-10 -5.84074789e-09 -8.76946214e-09]\n",
      " [ 1.18845722e-10  5.75022694e-05 -1.24586442e-09 -1.94814047e-09]\n",
      " [-5.84074789e-09 -1.24586442e-09  6.26082481e-13  9.30239415e-13]\n",
      " [-8.76946214e-09 -1.94814047e-09  9.30239409e-13  1.40833971e-12]]\n",
      "WARN: m less than n, problem likely degenerate\n",
      "4224863\n",
      "b\n",
      "[[ 2.38745064e-05  1.16412296e-11 -1.43225857e-09 -1.81778691e-09]\n",
      " [ 1.16412319e-11  2.38743681e-05 -1.19118505e-09 -1.58576461e-09]\n",
      " [-1.43225857e-09 -1.19118505e-09  1.45065322e-13  1.87208901e-13]\n",
      " [-1.81778691e-09 -1.58576461e-09  1.87208898e-13  2.43134442e-13]]\n"
     ]
    }
   ],
   "source": [
    "#Next we implement the modified OSLO here\n",
    "\n",
    "\n",
    "markov_state=0\n",
    "ms=np.zeros((time.shape[0]))\n",
    "ms[0]=0\n",
    "\n",
    "#noise1=np.array([[var1,0],[0,var1]])\n",
    "\n",
    "#noise2=np.array([[var2,0],[0,var2]])\n",
    "\n",
    "for t in range(1,time.shape[0]):\n",
    "    xprev=x_dynamics[:,t-1]\n",
    "    zprev=z_dynamics[:,t-1]\n",
    "    uprev=zprev[2:4]\n",
    "    markov_state=ms[t-1]\n",
    "    if (markov_state==0):\n",
    "        markov_state=np.random.choice(2,1,p=[p,1-p])\n",
    "        ms[t]=markov_state\n",
    "    else:\n",
    "        markov_state=np.random.choice(2,1,p=[1-q,q])\n",
    "        ms[t]=markov_state\n",
    "    \n",
    "    if (markov_state==0):\n",
    "        xt=A1.dot(xprev)+B1.dot(uprev)+np.random.normal(0,np.sqrt(var1),xprev.shape)\n",
    "        x_dynamicsa[:,acount]=xt\n",
    "        acount=acount+1\n",
    "    else:\n",
    "        xt=A2.dot(xprev)+B2.dot(uprev)+np.random.normal(0,np.sqrt(var2),xprev.shape)\n",
    "        x_dynamicsb[:,bcount]=xt\n",
    "        bcount=bcount+1\n",
    "        \n",
    "        \n",
    "    x_dynamics[:,t]=xt\n",
    "    \n",
    "    #The big else from OSLO should be nested within the if else for Markov State here:\n",
    "\n",
    "    if (markov_state==0):\n",
    "        \n",
    "        if (np.linalg.det(V_dynamicsa[acount-1])>2*np.linalg.det(V_dynamicsa[taua])):\n",
    "            taua=acount-1 \n",
    "            #starts a new episode in this case and estimate parameters for this episode next\n",
    "            X=x_dynamicsa[:,1:acount+1]\n",
    "            Z=z_dynamicsa[:,0:acount]\n",
    "            A0B0=np.column_stack((A0a,B0a))\n",
    "            AtBt=square_matrix_ridge_regression(Z,X,A0B0,lamdaa,betaa)\n",
    "            A_dynamicsa[acount-1]=AtBt[:,0:2]\n",
    "            B_dynamicsa[acount-1]=AtBt[:,2:4]\n",
    "\n",
    "            #Now we compute the policy for this round using SDP solver\n",
    "\n",
    "\n",
    "            Sigmat=SDP_solver_a(A_dynamicsa[acount-1],B_dynamicsa[acount-1],V_dynamicsa[acount-1],Wa,mua)\n",
    "            \n",
    "            \n",
    "            if (infeasibility_flaga == 1):\n",
    "                #A_dynamicsa[acount]=A_dynamicsa[acount-1]\n",
    "                #B_dynamicsa[acount]=B_dynamicsa[acount-1]\n",
    "                K_dynamicsa[t]=K_dynamicsa[t-1]\n",
    "                K_dynamicsb[t]=K_dynamicsb[t-1]\n",
    "                \n",
    "                print(taua)\n",
    "                print(Sigmat)\n",
    "                \n",
    "        \n",
    "            else:\n",
    "                print(taua)\n",
    "                print('a')\n",
    "                print(Sigmat)\n",
    "            \n",
    "            #Extracting policy from the relaxed SDP's solution\n",
    "            \n",
    "                Left=np.array([[1,0,0,0],[0,1,0,0]])\n",
    "                Right=np.array([[1,0],[0,1],[0,0],[0,0]])\n",
    "            \n",
    "                Sigma_t_xx=(Left.dot(Sigmat)).dot(Right)\n",
    "                Sigma_t_xx_inv=np.linalg.inv(Sigma_t_xx)\n",
    "                Kt=(Sigmat[2:4,0:2]).dot((Sigma_t_xx_inv))\n",
    "                K_dynamicsa[t]=Kt\n",
    "                K_dynamicsb[t]=K_dynamicsb[t-1]\n",
    "        \n",
    "\n",
    "\n",
    "        else:\n",
    "            A_dynamicsa[acount-1]=A_dynamicsa[acount-2]\n",
    "            B_dynamicsa[acount-1]=B_dynamicsa[acount-2]\n",
    "            K_dynamicsa[t]=K_dynamicsa[t-1]\n",
    "            K_dynamicsb[t]=K_dynamicsb[t-1]\n",
    "                \n",
    "   \n",
    "        \n",
    "    \n",
    "    \n",
    "    \n",
    "    \n",
    "        #Policy computed\n",
    "        #Now we update the parameters for the next round: part of the OSLO\n",
    "        ut=K_dynamicsa[t].dot(xt)\n",
    "        zt=np.zeros(4)\n",
    "        zt[0:2]=xt\n",
    "        zt[2:4]=ut\n",
    "        z_dynamics[:,t]=zt\n",
    "        z_dynamicsa[:,acount]=zt\n",
    "        z_norm[t]=LA.norm(zt,2)\n",
    "        V_dynamicsa[acount]=V_dynamicsa[acount-1]+(1/betaa)*np.outer(zt,zt)\n",
    "        # Change to OSLO ends here\n",
    "        ct=xt.dot(Q.dot(xt))+ut.dot(R.dot(ut))\n",
    "        c=(cost[t-1]*(t)+ct)/(t+1)\n",
    "        x_norm[t]=LA.norm(xt,2)\n",
    "        cost[t]=c\n",
    "        agg_cost_dynamics[t]=agg_cost_dynamics[t-1]+ct\n",
    "        \n",
    "        \n",
    "        \n",
    "        \n",
    "        \n",
    "        \n",
    "        \n",
    "        \n",
    "    else:\n",
    "        \n",
    "        \n",
    "        if (np.linalg.det(V_dynamicsb[bcount-1])>2*np.linalg.det(V_dynamicsb[taub])):\n",
    "            taub=bcount-1 \n",
    "            #starts a new episode in this case and estimate parameters for this episode next\n",
    "            X=x_dynamicsb[:,1:bcount+1]\n",
    "            Z=z_dynamicsb[:,0:bcount]\n",
    "            A0B0=np.column_stack((A0b,B0b))\n",
    "            AtBt=square_matrix_ridge_regression(Z,X,A0B0,lamdab,betab)\n",
    "            A_dynamicsb[bcount-1]=AtBt[:,0:2]\n",
    "            B_dynamicsb[bcount-1]=AtBt[:,2:4]\n",
    "\n",
    "            #Now we compute the policy for this round using SDP solver\n",
    "\n",
    "\n",
    "            Sigmat=SDP_solver_b(A_dynamicsb[bcount-1],B_dynamicsb[bcount-1],V_dynamicsb[bcount-1],Wb,mub)\n",
    "            \n",
    "            \n",
    "            if (infeasibility_flagb == 1):\n",
    "                #A_dynamicsb[t]=A_dynamicsb[t-1]\n",
    "                #B_dynamicsb[t]=B_dynamicsb[t-1]\n",
    "                K_dynamicsb[t]=K_dynamicsb[t-1]\n",
    "                K_dynamicsa[t]=K_dynamicsa[t-1]\n",
    "                print(taub)\n",
    "                print(Sigmat)\n",
    "        \n",
    "            else:\n",
    "                print(taub)\n",
    "                print('b')\n",
    "                print(Sigmat)\n",
    "            \n",
    "            #Extracting policy from the relaxed SDP's solution\n",
    "            \n",
    "                Left=np.array([[1,0,0,0],[0,1,0,0]])\n",
    "                Right=np.array([[1,0],[0,1],[0,0],[0,0]])\n",
    "            \n",
    "                Sigma_t_xx=(Left.dot(Sigmat)).dot(Right)\n",
    "                Sigma_t_xx_inv=np.linalg.inv(Sigma_t_xx)\n",
    "                Kt=(Sigmat[2:4,0:2]).dot((Sigma_t_xx_inv))\n",
    "                K_dynamicsb[t]=Kt\n",
    "                K_dynamicsa[t]=K_dynamicsa[t-1]\n",
    "        \n",
    "\n",
    "                \n",
    "        else:\n",
    "            A_dynamicsb[bcount-1]=A_dynamicsb[bcount-2]\n",
    "            B_dynamicsb[bcount-1]=B_dynamicsb[bcount-2]\n",
    "            K_dynamicsb[t]=K_dynamicsb[t-1]\n",
    "            K_dynamicsa[t]=K_dynamicsa[t-1]\n",
    "   \n",
    "        \n",
    "    \n",
    "    \n",
    "    \n",
    "    \n",
    "        #Policy computed\n",
    "        #Now we update the parameters for the next round: part of the OSLO\n",
    "        ut=K_dynamicsb[t].dot(xt)\n",
    "        zt=np.zeros(4)\n",
    "        zt[0:2]=xt\n",
    "        zt[2:4]=ut\n",
    "        z_dynamics[:,t]=zt\n",
    "        z_dynamicsb[:,bcount]=zt\n",
    "        z_norm[t]=LA.norm(zt,2)\n",
    "        V_dynamicsb[bcount]=V_dynamicsb[bcount-1]+(1/betab)*np.outer(zt,zt)\n",
    "        # Change to OSLO ends here\n",
    "        ct=xt.dot(Q.dot(xt))+ut.dot(R.dot(ut))\n",
    "        c=(cost[t-1]*(t)+ct)/(t+1)\n",
    "        x_norm[t]=LA.norm(xt,2)\n",
    "        cost[t]=c\n",
    "        agg_cost_dynamics[t]=agg_cost_dynamics[t-1]+ct\n",
    "\n",
    "        \n",
    "Final_Cost=(cost[time.shape[0]-1]*(time.shape[0])+x_dynamics[:,time.shape[0]-1].dot(Q.dot(x_dynamics[:,time.shape[0]-1])))/(time.shape[0]+1)\n",
    "        \n",
    "Final_Cost*=(time.shape[0]+1)      \n",
    "        \n",
    "        \n",
    "        \n",
    "        \n",
    "        \n",
    "\n",
    "\n",
    "\n",
    "\n",
    "\n",
    "\n",
    "\n",
    "\n",
    "\n"
   ]
  },
  {
   "cell_type": "code",
   "execution_count": 21,
   "id": "educated-pontiac",
   "metadata": {},
   "outputs": [
    {
     "data": {
      "text/plain": [
       "[<matplotlib.lines.Line2D at 0x17c8ffaf0>]"
      ]
     },
     "execution_count": 21,
     "metadata": {},
     "output_type": "execute_result"
    },
    {
     "data": {
      "image/png": "[encoded data removed]",
      "text/plain": [
       "<Figure size 432x288 with 1 Axes>"
      ]
     },
     "metadata": {
      "needs_background": "light"
     },
     "output_type": "display_data"
    }
   ],
   "source": [
    "plt.plot(time[0:2000],cost[0:2000])"
   ]
  },
  {
   "cell_type": "code",
   "execution_count": 22,
   "id": "furnished-panel",
   "metadata": {},
   "outputs": [
    {
     "data": {
      "text/plain": [
       "[<matplotlib.lines.Line2D at 0x17ca55eb0>]"
      ]
     },
     "execution_count": 22,
     "metadata": {},
     "output_type": "execute_result"
    },
    {
     "data": {
      "image/png": "[encoded data removed]",
      "text/plain": [
       "<Figure size 432x288 with 1 Axes>"
      ]
     },
     "metadata": {
      "needs_background": "light"
     },
     "output_type": "display_data"
    }
   ],
   "source": [
    "plt.plot(time[0:20],cost[0:20])"
   ]
  },
  {
   "cell_type": "code",
   "execution_count": 23,
   "id": "billion-static",
   "metadata": {},
   "outputs": [
    {
     "data": {
      "text/plain": [
       "466.99557191462236"
      ]
     },
     "execution_count": 23,
     "metadata": {},
     "output_type": "execute_result"
    }
   ],
   "source": [
    "Final_Cost"
   ]
  },
  {
   "cell_type": "code",
   "execution_count": 24,
   "id": "imported-rainbow",
   "metadata": {},
   "outputs": [
    {
     "data": {
      "text/plain": [
       "[<matplotlib.lines.Line2D at 0x17cabe220>]"
      ]
     },
     "execution_count": 24,
     "metadata": {},
     "output_type": "execute_result"
    },
    {
     "data": {
      "image/png": "[encoded data removed]",
      "text/plain": [
       "<Figure size 432x288 with 1 Axes>"
      ]
     },
     "metadata": {
      "needs_background": "light"
     },
     "output_type": "display_data"
    }
   ],
   "source": [
    "plt.plot(time[0:200],x_norm[0:200])"
   ]
  },
  {
   "cell_type": "code",
   "execution_count": 25,
   "id": "competent-complex",
   "metadata": {},
   "outputs": [
    {
     "data": {
      "text/plain": [
       "[<matplotlib.lines.Line2D at 0x17cb15eb0>]"
      ]
     },
     "execution_count": 25,
     "metadata": {},
     "output_type": "execute_result"
    },
    {
     "data": {
      "image/png": "[encoded data removed]",
      "text/plain": [
       "<Figure size 432x288 with 1 Axes>"
      ]
     },
     "metadata": {
      "needs_background": "light"
     },
     "output_type": "display_data"
    }
   ],
   "source": [
    "plt.plot(time[0:10],ms[0:10])"
   ]
  },
  {
   "cell_type": "code",
   "execution_count": 26,
   "id": "killing-stone",
   "metadata": {},
   "outputs": [
    {
     "data": {
      "text/plain": [
       "[<matplotlib.lines.Line2D at 0x17cb6f490>]"
      ]
     },
     "execution_count": 26,
     "metadata": {},
     "output_type": "execute_result"
    },
    {
     "data": {
      "image/png": "[encoded data removed]",
      "text/plain": [
       "<Figure size 432x288 with 1 Axes>"
      ]
     },
     "metadata": {
      "needs_background": "light"
     },
     "output_type": "display_data"
    }
   ],
   "source": [
    "#Testing convergence of parameter estimation for mode a:\n",
    "#print(LA.norm((Augmented-AtBt),'fro'))\n",
    "erra=np.zeros((time.shape[0]))\n",
    "for t in range(time.shape[0]):\n",
    "    AtBt=np.column_stack((A_dynamicsa[t],B_dynamicsa[t]))\n",
    "    erra[t]=LA.norm((Augmenteda-AtBt),'fro')\n",
    "    \n",
    "plt.plot(time[0:time.shape[0]],erra[0:time.shape[0]])"
   ]
  },
  {
   "cell_type": "code",
   "execution_count": 27,
   "id": "athletic-authentication",
   "metadata": {},
   "outputs": [
    {
     "data": {
      "text/plain": [
       "[<matplotlib.lines.Line2D at 0x17cbc1a30>]"
      ]
     },
     "execution_count": 27,
     "metadata": {},
     "output_type": "execute_result"
    },
    {
     "data": {
      "image/png": "[encoded data removed]",
      "text/plain": [
       "<Figure size 432x288 with 1 Axes>"
      ]
     },
     "metadata": {
      "needs_background": "light"
     },
     "output_type": "display_data"
    }
   ],
   "source": [
    "plt.plot(time[0:300],erra[0:300])"
   ]
  },
  {
   "cell_type": "code",
   "execution_count": 28,
   "id": "unlimited-coach",
   "metadata": {},
   "outputs": [
    {
     "data": {
      "text/plain": [
       "[<matplotlib.lines.Line2D at 0x17cc29040>]"
      ]
     },
     "execution_count": 28,
     "metadata": {},
     "output_type": "execute_result"
    },
    {
     "data": {
      "image/png": "[encoded data removed]",
      "text/plain": [
       "<Figure size 432x288 with 1 Axes>"
      ]
     },
     "metadata": {
      "needs_background": "light"
     },
     "output_type": "display_data"
    }
   ],
   "source": [
    "#Testing convergence of parameter estimation for mode b:\n",
    "#print(LA.norm((Augmented-AtBt),'fro'))\n",
    "errb=np.zeros((time.shape[0]))\n",
    "for t in range(time.shape[0]):\n",
    "    AtBt=np.column_stack((A_dynamicsb[t],B_dynamicsb[t]))\n",
    "    errb[t]=LA.norm((Augmentedb-AtBt),'fro')\n",
    "    \n",
    "plt.plot(time[10:time.shape[0]],errb[10:time.shape[0]])"
   ]
  },
  {
   "cell_type": "code",
   "execution_count": 29,
   "id": "neither-republic",
   "metadata": {},
   "outputs": [
    {
     "data": {
      "text/plain": [
       "[<matplotlib.lines.Line2D at 0x17cc72e20>]"
      ]
     },
     "execution_count": 29,
     "metadata": {},
     "output_type": "execute_result"
    },
    {
     "data": {
      "image/png": "[encoded data removed]",
      "text/plain": [
       "<Figure size 432x288 with 1 Axes>"
      ]
     },
     "metadata": {
      "needs_background": "light"
     },
     "output_type": "display_data"
    }
   ],
   "source": [
    "plt.plot(time[10:time.shape[0]],errb[10:time.shape[0]])"
   ]
  },
  {
   "cell_type": "code",
   "execution_count": 30,
   "id": "reported-field",
   "metadata": {},
   "outputs": [
    {
     "name": "stdout",
     "output_type": "stream",
     "text": [
      "Last Iterate Instantaneous cost of Modified OSLO:\n",
      "1.1149607716478047e-06\n"
     ]
    }
   ],
   "source": [
    "print(\"Last Iterate Instantaneous cost of Modified OSLO:\")\n",
    "print(ct)"
   ]
  },
  {
   "cell_type": "code",
   "execution_count": 31,
   "id": "prescription-bubble",
   "metadata": {},
   "outputs": [
    {
     "name": "stdout",
     "output_type": "stream",
     "text": [
      "0.010008649890675759\n",
      "0.009702519704738528\n"
     ]
    }
   ],
   "source": [
    "estimatea=np.column_stack((A0a,B0a))\n",
    "estimateb=np.column_stack((A0b,B0b))\n",
    "\n",
    "actuala=np.column_stack((A1,B1))\n",
    "actualb=np.column_stack((A2,B2))\n",
    "\n",
    "print(LA.norm((actuala-estimatea),'fro'))\n",
    "print(LA.norm((actualb-estimateb),'fro'))\n"
   ]
  },
  {
   "cell_type": "code",
   "execution_count": 32,
   "id": "verbal-brunei",
   "metadata": {},
   "outputs": [
    {
     "name": "stdout",
     "output_type": "stream",
     "text": [
      "0.12179078125849072\n",
      "0.12227316698493249\n"
     ]
    }
   ],
   "source": [
    "X=x_dynamicsa[:,1:acount+1]\n",
    "Z=z_dynamicsa[:,0:acount]\n",
    "AtBt=square_matrix_ridge_regression(Z,X,estimatea,lamdaa,betaa)\n",
    "print(LA.norm((actuala-AtBt),'fro'))\n",
    "\n",
    "\n",
    "X=x_dynamicsb[:,1:bcount+1]\n",
    "Z=z_dynamicsb[:,0:bcount]\n",
    "AtBt=square_matrix_ridge_regression(Z,X,estimateb,lamdab,betab)\n",
    "print(LA.norm((actualb-AtBt),'fro'))\n",
    "\n",
    "\n",
    "\n"
   ]
  },
  {
   "cell_type": "code",
   "execution_count": 33,
   "id": "absent-marriage",
   "metadata": {},
   "outputs": [],
   "source": [
    "#Now we compare against the benchmark from Vijay Gupta's extension of the Riccati Equations based Optimal Policy\n",
    "\n",
    "\n",
    "#Ricatti Solver and testing the average cost with this\n",
    "\n",
    "Opt_x_dynamics=np.zeros((2,time.shape[0]))\n",
    "Opt_x_0=np.random.rand(2)\n",
    "Opt_x_dynamics[:,0]=Opt_x_0\n",
    "Opt_x_dynamics\n",
    "Opt_cost=np.zeros((time.shape[0]))\n",
    "Opt_x_norm=np.zeros((time.shape[0]))\n",
    "\n",
    "\n",
    "\n",
    "# Dynamic Programming for Riccati Solver Policies as in Vijay Gupta's MJLS notes: http://www.cds.caltech.edu/~murray/books/AM08/pdf/ncs-markjls_22Jan10.pdf\n",
    "\n",
    "\n",
    "P1=np.zeros((time.shape[0],2,2))\n",
    "K1=np.zeros((time.shape[0],2,2))\n",
    "P2=np.zeros((time.shape[0],2,2))\n",
    "K2=np.zeros((time.shape[0],2,2))\n",
    "#zero_init=np.zeros((2,2))\n",
    "for t in range((time.shape[0])):\n",
    "    P1[t]=np.zeros((2,2))\n",
    "    P2[t]=np.zeros((2,2))\n",
    "    K1[t]=np.zeros((2,2))\n",
    "    K2[t]=np.zeros((2,2))\n",
    "P1[time.shape[0]-1]=Q\n",
    "P2[time.shape[0]-1]=Q\n",
    "K1[time.shape[0]-1]=np.dot(np.dot(np.dot(np.linalg.inv(R+np.dot(np.dot(B1.T,Q),B1)),B1.T),Q),A1)\n",
    "K2[time.shape[0]-1]=np.dot(np.dot(np.dot(np.linalg.inv(R+np.dot(np.dot(B2.T,Q),B2)),B2.T),Q),A2)\n",
    "\n",
    "for t in range(1,time.shape[0]):\n",
    "    P1[time.shape[0]-t-1]=p*(Q+np.dot(A1.T,np.dot(P1[time.shape[0]-t],A1))-np.dot(np.dot(np.dot(np.dot(np.dot(np.dot(A1.T,P1[time.shape[0]-t].T),B1),np.linalg.inv(R+np.dot(B1.T,np.dot(P1[time.shape[0]-t],B1)))),B1.T),P1[time.shape[0]-t]),A1))+(1-p)*(Q+np.dot(A2.T,np.dot(P2[time.shape[0]-t],A2))-np.dot(np.dot(np.dot(np.dot(np.dot(np.dot(A2.T,P2[time.shape[0]-t].T),B2),np.linalg.inv(R+np.dot(B2.T,np.dot(P2[time.shape[0]-t],B2)))),B2.T),P2[time.shape[0]-t]),A2))\n",
    "    P2[time.shape[0]-t-1]=(1-q)*(Q+np.dot(A1.T,np.dot(P1[time.shape[0]-t],A1))-np.dot(np.dot(np.dot(np.dot(np.dot(np.dot(A1.T,P1[time.shape[0]-t].T),B1),np.linalg.inv(R+np.dot(B1.T,np.dot(P1[time.shape[0]-t],B1)))),B1.T),P1[time.shape[0]-t]),A1))+q*(Q+np.dot(A2.T,np.dot(P2[time.shape[0]-t],A2))-np.dot(np.dot(np.dot(np.dot(np.dot(np.dot(A2.T,P2[time.shape[0]-t].T),B2),np.linalg.inv(R+np.dot(B2.T,np.dot(P2[time.shape[0]-t],B2)))),B2.T),P2[time.shape[0]-t]),A2))\n",
    "    K1[time.shape[0]-t-1]=np.dot(np.dot(np.dot(np.linalg.inv(R+np.dot(np.dot(B1.T,P1[time.shape[0]-t]),B1)),B1.T),P1[time.shape[0]-t]),A1)\n",
    "    K2[time.shape[0]-t-1]=np.dot(np.dot(np.dot(np.linalg.inv(R+np.dot(np.dot(B2.T,P1[time.shape[0]-t]),B2)),B2.T),P2[time.shape[0]-t]),A2)\n",
    "\n",
    "\n",
    "\n",
    "\n",
    "\n",
    "\n",
    "\n",
    "\n",
    "\n",
    "\n",
    "\n",
    "\n",
    "\n",
    "\n"
   ]
  },
  {
   "cell_type": "code",
   "execution_count": 34,
   "id": "little-leisure",
   "metadata": {},
   "outputs": [],
   "source": [
    "#Now we run the Riccati Optimal Policies\n",
    "\n",
    "#First some initializations\n",
    "\n",
    "markov_state=0\n",
    "Opt_ms=np.zeros((time.shape[0]))\n",
    "Opt_ms[0]=0\n",
    "\n",
    "Opt_u_0= -K1[0].dot(Opt_x_0)\n",
    "\n",
    "Opt_c_0=Opt_x_0.dot((Q.dot(Opt_x_0)))+Opt_u_0.dot((R.dot(Opt_u_0)))\n",
    "\n",
    "Opt_cost[0]=Opt_c_0\n",
    "Opt_x_norm[0]=LA.norm(Opt_x_0,2)\n",
    "\n",
    "#Now we simulate the Markov Jump Dynamical System, this time playing optimally using Riccati Policies\n",
    "\n",
    "for t in range(1,time.shape[0]):\n",
    "    xprev=Opt_x_dynamics[:,t-1]\n",
    "    markov_state=Opt_ms[t-1]\n",
    "    if (markov_state==0):\n",
    "        uprev=-K1[t-1].dot(xprev)\n",
    "        markov_state=np.random.choice(2,1,p=[p,1-p])\n",
    "    else:\n",
    "        uprev=-K2[t-1].dot(xprev)\n",
    "        markov_state=np.random.choice(2,1,p=[1-q,q])    \n",
    "    if (markov_state==0):\n",
    "        xt=A1.dot(xprev)+B1.dot(uprev)+np.random.normal(0,np.sqrt(var1),xprev.shape)\n",
    "        ut=-K1[t].dot(xt)\n",
    "    else:\n",
    "        xt=A2.dot(xprev)+B2.dot(uprev)+np.random.normal(0,np.sqrt(var2),xprev.shape)\n",
    "        ut=-K2[t].dot(xt)\n",
    "    nct=xt.dot(Q.dot(xt))+ut.dot(R.dot(ut))\n",
    "    c=(Opt_cost[t-1]*(t)+ct)/(t+1)\n",
    "    Opt_x_norm[t]=LA.norm(xt,2)\n",
    "    Opt_cost[t]=c\n",
    "    Opt_ms[t]=markov_state\n",
    "    Opt_x_dynamics[:,t]=xt\n",
    "\n",
    "Opt_Final_Cost=(Opt_cost[time.shape[0]-1]*(time.shape[0])+Opt_x_dynamics[:,time.shape[0]-1].dot(Q.dot(Opt_x_dynamics[:,time.shape[0]-1])))/(time.shape[0]+1)\n",
    "\n",
    "Opt_Final_Cost*=(time.shape[0]+1)\n",
    "\n"
   ]
  },
  {
   "cell_type": "code",
   "execution_count": 35,
   "id": "qualified-pollution",
   "metadata": {},
   "outputs": [
    {
     "data": {
      "text/plain": [
       "11.251556819364405"
      ]
     },
     "execution_count": 35,
     "metadata": {},
     "output_type": "execute_result"
    }
   ],
   "source": [
    "Opt_Final_Cost"
   ]
  },
  {
   "cell_type": "code",
   "execution_count": 36,
   "id": "passive-necessity",
   "metadata": {},
   "outputs": [
    {
     "data": {
      "text/plain": [
       "[<matplotlib.lines.Line2D at 0x17cce5220>]"
      ]
     },
     "execution_count": 36,
     "metadata": {},
     "output_type": "execute_result"
    },
    {
     "data": {
      "image/png": "[encoded data removed]",
      "text/plain": [
       "<Figure size 432x288 with 1 Axes>"
      ]
     },
     "metadata": {
      "needs_background": "light"
     },
     "output_type": "display_data"
    }
   ],
   "source": [
    "plt.plot(time[0:20],Opt_cost[0:20])"
   ]
  },
  {
   "cell_type": "code",
   "execution_count": 37,
   "id": "unlimited-cedar",
   "metadata": {},
   "outputs": [
    {
     "data": {
      "text/plain": [
       "[<matplotlib.lines.Line2D at 0x17c8f7f10>]"
      ]
     },
     "execution_count": 37,
     "metadata": {},
     "output_type": "execute_result"
    },
    {
     "data": {
      "image/png": "[encoded data removed]",
      "text/plain": [
       "<Figure size 432x288 with 1 Axes>"
      ]
     },
     "metadata": {
      "needs_background": "light"
     },
     "output_type": "display_data"
    }
   ],
   "source": [
    "plt.plot(time[0:20],cost[0:20])"
   ]
  },
  {
   "cell_type": "code",
   "execution_count": 38,
   "id": "numerous-short",
   "metadata": {},
   "outputs": [],
   "source": [
    "avg_regret=np.zeros((time.shape[0]))\n",
    "frac_regret=np.zeros((time.shape[0]))\n",
    "for t in range((time.shape[0])):\n",
    "    avg_regret[t]=cost[t]-Opt_cost[t]\n",
    "    frac_regret[t]=avg_regret[t]/Opt_cost[t]\n",
    "    "
   ]
  },
  {
   "cell_type": "code",
   "execution_count": 39,
   "id": "parallel-fifth",
   "metadata": {},
   "outputs": [
    {
     "data": {
      "text/plain": [
       "[<matplotlib.lines.Line2D at 0x17cd67670>]"
      ]
     },
     "execution_count": 39,
     "metadata": {},
     "output_type": "execute_result"
    },
    {
     "data": {
      "image/png": "[encoded data removed]",
      "text/plain": [
       "<Figure size 432x288 with 1 Axes>"
      ]
     },
     "metadata": {
      "needs_background": "light"
     },
     "output_type": "display_data"
    }
   ],
   "source": [
    "plt.plot(time[1000:time.shape[0]],avg_regret[1000:time.shape[0]])"
   ]
  },
  {
   "cell_type": "code",
   "execution_count": 40,
   "id": "remarkable-proposal",
   "metadata": {},
   "outputs": [
    {
     "data": {
      "text/plain": [
       "[<matplotlib.lines.Line2D at 0x17cdb8e50>]"
      ]
     },
     "execution_count": 40,
     "metadata": {},
     "output_type": "execute_result"
    },
    {
     "data": {
      "image/png": "[encoded data removed]",
      "text/plain": [
       "<Figure size 432x288 with 1 Axes>"
      ]
     },
     "metadata": {
      "needs_background": "light"
     },
     "output_type": "display_data"
    }
   ],
   "source": [
    "plt.plot(time[1000:time.shape[0]],frac_regret[1000:time.shape[0]])"
   ]
  },
  {
   "cell_type": "code",
   "execution_count": 41,
   "id": "ordinary-rental",
   "metadata": {},
   "outputs": [
    {
     "data": {
      "text/plain": [
       "[<matplotlib.lines.Line2D at 0x17ce222e0>]"
      ]
     },
     "execution_count": 41,
     "metadata": {},
     "output_type": "execute_result"
    },
    {
     "data": {
      "image/png": "[encoded data removed]",
      "text/plain": [
       "<Figure size 432x288 with 1 Axes>"
      ]
     },
     "metadata": {
      "needs_background": "light"
     },
     "output_type": "display_data"
    }
   ],
   "source": [
    "plt.plot(time[786:792],Opt_ms[786:792])"
   ]
  },
  {
   "cell_type": "code",
   "execution_count": 42,
   "id": "rotary-diesel",
   "metadata": {},
   "outputs": [
    {
     "data": {
      "text/plain": [
       "[<matplotlib.lines.Line2D at 0x17ce7c310>]"
      ]
     },
     "execution_count": 42,
     "metadata": {},
     "output_type": "execute_result"
    },
    {
     "data": {
      "image/png": "[encoded data removed]",
      "text/plain": [
       "<Figure size 432x288 with 1 Axes>"
      ]
     },
     "metadata": {
      "needs_background": "light"
     },
     "output_type": "display_data"
    }
   ],
   "source": [
    "#Testing convergence of parameter estimation for mode a:\n",
    "#print(LA.norm((Augmented-AtBt),'fro'))\n",
    "err=np.zeros((time.shape[0]))\n",
    "for t in range(time.shape[0]):\n",
    "    AtBt=np.column_stack((A_dynamicsa[t],B_dynamicsa[t]))\n",
    "    err[t]=LA.norm((Augmenteda-AtBt),'fro')\n",
    "    \n",
    "plt.plot(time[0:time.shape[0]],err[0:time.shape[0]])"
   ]
  },
  {
   "cell_type": "code",
   "execution_count": 43,
   "id": "polar-wesley",
   "metadata": {},
   "outputs": [
    {
     "data": {
      "text/plain": [
       "[<matplotlib.lines.Line2D at 0x17cecfe20>]"
      ]
     },
     "execution_count": 43,
     "metadata": {},
     "output_type": "execute_result"
    },
    {
     "data": {
      "image/png": "[encoded data removed]",
      "text/plain": [
       "<Figure size 432x288 with 1 Axes>"
      ]
     },
     "metadata": {
      "needs_background": "light"
     },
     "output_type": "display_data"
    }
   ],
   "source": [
    "plt.plot(time[0:300],err[0:300])"
   ]
  },
  {
   "cell_type": "code",
   "execution_count": 44,
   "id": "convertible-chocolate",
   "metadata": {},
   "outputs": [
    {
     "data": {
      "text/plain": [
       "[<matplotlib.lines.Line2D at 0x17cf30f10>]"
      ]
     },
     "execution_count": 44,
     "metadata": {},
     "output_type": "execute_result"
    },
    {
     "data": {
      "image/png": "[encoded data removed]",
      "text/plain": [
       "<Figure size 432x288 with 1 Axes>"
      ]
     },
     "metadata": {
      "needs_background": "light"
     },
     "output_type": "display_data"
    }
   ],
   "source": [
    "#Testing convergence of parameter estimation for mode b:\n",
    "#print(LA.norm((Augmented-AtBt),'fro'))\n",
    "err=np.zeros((time.shape[0]))\n",
    "for t in range(time.shape[0]):\n",
    "    AtBt=np.column_stack((A_dynamicsb[t],B_dynamicsb[t]))\n",
    "    err[t]=LA.norm((Augmentedb-AtBt),'fro')\n",
    "    \n",
    "plt.plot(time[0:time.shape[0]],err[0:time.shape[0]])"
   ]
  },
  {
   "cell_type": "code",
   "execution_count": 45,
   "id": "indoor-minute",
   "metadata": {
    "scrolled": true
   },
   "outputs": [
    {
     "data": {
      "text/plain": [
       "[<matplotlib.lines.Line2D at 0x17cf950a0>]"
      ]
     },
     "execution_count": 45,
     "metadata": {},
     "output_type": "execute_result"
    },
    {
     "data": {
      "image/png": "[encoded data removed]",
      "text/plain": [
       "<Figure size 432x288 with 1 Axes>"
      ]
     },
     "metadata": {
      "needs_background": "light"
     },
     "output_type": "display_data"
    }
   ],
   "source": [
    "plt.plot(time[0:time.shape[0]],err[0:time.shape[0]])"
   ]
  },
  {
   "cell_type": "code",
   "execution_count": 46,
   "id": "responsible-masters",
   "metadata": {},
   "outputs": [
    {
     "name": "stdout",
     "output_type": "stream",
     "text": [
      "Last Iterate Instantaneous cost of Modified OSLO:\n",
      "1.1149607716478047e-06\n"
     ]
    }
   ],
   "source": [
    "print(\"Last Iterate Instantaneous cost of Modified OSLO:\")\n",
    "print(ct)"
   ]
  },
  {
   "cell_type": "code",
   "execution_count": 47,
   "id": "positive-pipeline",
   "metadata": {},
   "outputs": [
    {
     "name": "stdout",
     "output_type": "stream",
     "text": [
      "Last Iterate Instantaneous cost of Vijay Gupta's Riccati:\n",
      "4.7052863034595045e-05\n"
     ]
    }
   ],
   "source": [
    "print(\"Last Iterate Instantaneous cost of Vijay Gupta's Riccati:\")\n",
    "print(nct)"
   ]
  },
  {
   "cell_type": "code",
   "execution_count": 48,
   "id": "baking-opinion",
   "metadata": {},
   "outputs": [],
   "source": [
    "dill.dump_session('notebook_env.db')"
   ]
  },
  {
   "cell_type": "code",
   "execution_count": 49,
   "id": "split-percentage",
   "metadata": {},
   "outputs": [
    {
     "name": "stdout",
     "output_type": "stream",
     "text": [
      "4667157\n"
     ]
    }
   ],
   "source": [
    "print(acount)"
   ]
  },
  {
   "cell_type": "code",
   "execution_count": 50,
   "id": "established-elite",
   "metadata": {},
   "outputs": [
    {
     "name": "stdout",
     "output_type": "stream",
     "text": [
      "5332843\n"
     ]
    }
   ],
   "source": [
    "print(bcount)"
   ]
  },
  {
   "cell_type": "code",
   "execution_count": 51,
   "id": "robust-overview",
   "metadata": {},
   "outputs": [
    {
     "name": "stdout",
     "output_type": "stream",
     "text": [
      "10000000\n"
     ]
    }
   ],
   "source": [
    "print(acount+bcount)\n"
   ]
  },
  {
   "cell_type": "code",
   "execution_count": 52,
   "id": "environmental-nursery",
   "metadata": {},
   "outputs": [],
   "source": [
    "estimatea=np.column_stack((A0a,B0a))\n",
    "estimateb=np.column_stack((A0b,B0b))"
   ]
  },
  {
   "cell_type": "code",
   "execution_count": 53,
   "id": "endless-canberra",
   "metadata": {},
   "outputs": [],
   "source": [
    "actuala=np.column_stack((A1,B1))\n",
    "actualb=np.column_stack((A2,B2))"
   ]
  },
  {
   "cell_type": "code",
   "execution_count": 54,
   "id": "buried-adobe",
   "metadata": {},
   "outputs": [
    {
     "name": "stdout",
     "output_type": "stream",
     "text": [
      "0.010008649890675759\n",
      "0.009702519704738528\n"
     ]
    }
   ],
   "source": [
    "print(LA.norm((actuala-estimatea),'fro'))\n",
    "print(LA.norm((actualb-estimateb),'fro'))"
   ]
  },
  {
   "cell_type": "code",
   "execution_count": 55,
   "id": "static-tunisia",
   "metadata": {},
   "outputs": [
    {
     "name": "stdout",
     "output_type": "stream",
     "text": [
      "0.12227316698493249\n"
     ]
    }
   ],
   "source": [
    "X=x_dynamicsb[:,1:bcount+1]\n",
    "Z=z_dynamicsb[:,0:bcount]\n",
    "AtBt=square_matrix_ridge_regression(Z,X,estimateb,lamdab,betab)\n",
    "print(LA.norm((actualb-AtBt),'fro'))"
   ]
  },
  {
   "cell_type": "code",
   "execution_count": 56,
   "id": "another-manner",
   "metadata": {},
   "outputs": [
    {
     "name": "stdout",
     "output_type": "stream",
     "text": [
      "0.12179078125849072\n"
     ]
    }
   ],
   "source": [
    "X=x_dynamicsa[:,1:acount+1]\n",
    "Z=z_dynamicsa[:,0:acount]\n",
    "AtBt=square_matrix_ridge_regression(Z,X,estimatea,lamdaa,betaa)\n",
    "print(LA.norm((actuala-AtBt),'fro'))"
   ]
  },
  {
   "cell_type": "code",
   "execution_count": 57,
   "id": "pregnant-contest",
   "metadata": {},
   "outputs": [
    {
     "data": {
      "text/plain": [
       "array([[-0.00482802, -0.00248314],\n",
       "       [-0.00636866, -0.00321073]])"
      ]
     },
     "execution_count": 57,
     "metadata": {},
     "output_type": "execute_result"
    }
   ],
   "source": [
    "K_dynamicsb[100]"
   ]
  },
  {
   "cell_type": "code",
   "execution_count": 58,
   "id": "italian-kitchen",
   "metadata": {},
   "outputs": [
    {
     "data": {
      "text/plain": [
       "array([[0.00449112, 0.00212775],\n",
       "       [0.00550676, 0.00256386]])"
      ]
     },
     "execution_count": 58,
     "metadata": {},
     "output_type": "execute_result"
    }
   ],
   "source": [
    "K2[100]"
   ]
  },
  {
   "cell_type": "code",
   "execution_count": 59,
   "id": "rural-membership",
   "metadata": {},
   "outputs": [
    {
     "data": {
      "text/plain": [
       "array([[0.00340508, 0.0019643 ],\n",
       "       [0.0059273 , 0.00332454]])"
      ]
     },
     "execution_count": 59,
     "metadata": {},
     "output_type": "execute_result"
    }
   ],
   "source": [
    "K1[100]"
   ]
  },
  {
   "cell_type": "code",
   "execution_count": 60,
   "id": "caring-digit",
   "metadata": {},
   "outputs": [
    {
     "data": {
      "text/plain": [
       "array([[-0.00372804, -0.00160902],\n",
       "       [-0.0055671 , -0.00228204]])"
      ]
     },
     "execution_count": 60,
     "metadata": {},
     "output_type": "execute_result"
    }
   ],
   "source": [
    "K_dynamicsa[100]"
   ]
  },
  {
   "cell_type": "code",
   "execution_count": 61,
   "id": "derived-sigma",
   "metadata": {},
   "outputs": [
    {
     "data": {
      "text/plain": [
       "array([[-0.00436857, -0.00258206],\n",
       "       [-0.00654921, -0.00377831]])"
      ]
     },
     "execution_count": 61,
     "metadata": {},
     "output_type": "execute_result"
    }
   ],
   "source": [
    "K_dynamicsa[0]"
   ]
  },
  {
   "cell_type": "code",
   "execution_count": 62,
   "id": "clinical-gathering",
   "metadata": {},
   "outputs": [
    {
     "data": {
      "text/plain": [
       "array([[-0.00482802, -0.00248314],\n",
       "       [-0.00636866, -0.00321073]])"
      ]
     },
     "execution_count": 62,
     "metadata": {},
     "output_type": "execute_result"
    }
   ],
   "source": [
    "K_dynamicsb[0]"
   ]
  },
  {
   "cell_type": "code",
   "execution_count": null,
   "id": "measured-session",
   "metadata": {},
   "outputs": [],
   "source": []
  }
 ],
 "metadata": {
  "kernelspec": {
   "display_name": "Python 3",
   "language": "python",
   "name": "python3"
  },
  "language_info": {
   "codemirror_mode": {
    "name": "ipython",
    "version": 3
   },
   "file_extension": ".py",
   "mimetype": "text/x-python",
   "name": "python",
   "nbconvert_exporter": "python",
   "pygments_lexer": "ipython3",
   "version": "3.9.2"
  }
 },
 "nbformat": 4,
 "nbformat_minor": 5
}
