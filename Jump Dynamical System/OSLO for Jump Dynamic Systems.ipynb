{
 "cells": [
  {
   "cell_type": "code",
   "execution_count": 1,
   "id": "assured-election",
   "metadata": {},
   "outputs": [],
   "source": [
    "import numpy as np\n",
    "from scipy.signal import StateSpace, lsim\n",
    "import matplotlib.pyplot as plt\n",
    "from numpy import linalg as LA\n",
    "import cvxpy as cp\n",
    "import dill"
   ]
  },
  {
   "cell_type": "code",
   "execution_count": 2,
   "id": "incoming-consolidation",
   "metadata": {},
   "outputs": [],
   "source": [
    "#dill.load_session('notebook_env.db')       #Uncomment it to load previous session"
   ]
  },
  {
   "cell_type": "code",
   "execution_count": 3,
   "id": "finite-brown",
   "metadata": {},
   "outputs": [],
   "source": [
    "p=0.2\n",
    "q=0.3\n",
    "M=np.matrix([[p,1-p],[1-q,q]])\n",
    "\n",
    "\n",
    "infeasibility_flag=0\n"
   ]
  },
  {
   "cell_type": "code",
   "execution_count": 4,
   "id": "natural-gossip",
   "metadata": {},
   "outputs": [],
   "source": [
    "# We write a function to compute ridge regression for matrices for system parameter estimation\n",
    "\n",
    "def square_matrix_ridge_regression(X,Y,Astar,lmda,beeta):\n",
    "    t=1+X.shape[1]\n",
    "    D=lmda*np.array([[1,0,0,0],[0,1,0,0],[0,0,1,0],[0,0,0,1]])\n",
    "    C=lmda*Astar\n",
    "    for s in range(1,t):\n",
    "        xs=X[:,s-1]\n",
    "        ys=Y[:,s-1]\n",
    "        C=C+(1/beeta)*np.outer(ys,xs)\n",
    "        D=D+(1/beeta)*np.outer(xs,xs)\n",
    "    return C.dot(np.linalg.inv(D))"
   ]
  },
  {
   "cell_type": "code",
   "execution_count": 5,
   "id": "historic-senegal",
   "metadata": {},
   "outputs": [],
   "source": [
    "# A function for the big dot\n",
    "\n",
    "def big_dot(A,B):\n",
    "    return np.trace(np.dot(A.T,B))\n"
   ]
  },
  {
   "cell_type": "code",
   "execution_count": 6,
   "id": "extraordinary-anger",
   "metadata": {},
   "outputs": [],
   "source": [
    "# Function for the SDP solver\n",
    "\n",
    "def SDP_solver(At,Bt,Vt,W,mu):\n",
    "    Vtinv=np.linalg.inv(Vt)\n",
    "    Sigma=cp.Variable((n,n))\n",
    "    sxx=cp.Variable((2,2))\n",
    "    suu=cp.Variable((2,2))\n",
    "    constraints=[Sigma>>0]\n",
    "    bigI=np.array([[1,0,0,0],[0,1,0,0],[0,0,1,0],[0,0,0,1]])\n",
    "    ABt=np.column_stack((At,Bt))\n",
    "    #Cost_Coefficient=np.array([[Q,[[1,0],[0,1]]],[[[1,0],[0,1]],R]])\n",
    "    I=np.array([[1,0],[0,1]])\n",
    "    \n",
    "    Left=np.array([[1,0,0,0],[0,1,0,0]])\n",
    "    Right=np.array([[1,0],[0,1],[0,0],[0,0]])\n",
    "    \n",
    "    constraints+=[ sxx  >> (((ABt)@Sigma)@(ABt.T))+W-mu*cp.trace((Sigma.T)@(Vtinv))*I ]\n",
    "    \n",
    "    constraints+=[ sxx == (Left@Sigma)@Right  ]\n",
    "    \n",
    "    Lefty=np.array([[0,0,1,0],[0,0,0,1]])\n",
    "    Righty=np.array([[0,0],[0,0],[1,0],[0,1]])\n",
    "    \n",
    "    constraints+=[ suu == (Lefty@Sigma)@Righty  ]\n",
    "    \n",
    "    prob = cp.Problem(cp.Minimize(cp.trace(sxx.T @ Q + suu.T @ R)),constraints)\n",
    "    prob.solve()\n",
    "    if(Sigma.value is None):\n",
    "        infeasibility_flag=1\n",
    "        print(prob.value)\n",
    "        print(\"Infeasibilty_flag value is: \",infeasibility_flag)\n",
    "        return (bigI)\n",
    "    else:\n",
    "        infeasibility_flag=0\n",
    "    \n",
    "        #print(\"Infeasibilty_flag value is: \",infeasibility_flag)\n",
    "        return (Sigma.value)\n"
   ]
  },
  {
   "cell_type": "code",
   "execution_count": 7,
   "id": "minor-award",
   "metadata": {},
   "outputs": [
    {
     "data": {
      "text/plain": [
       "(array([0.07960128, 0.1540188 ]), array([0.18826692, 0.80851911]))"
      ]
     },
     "execution_count": 7,
     "metadata": {},
     "output_type": "execute_result"
    }
   ],
   "source": [
    "a=np.random.rand(2)\n",
    "b=np.random.rand(2)\n",
    "a,b"
   ]
  },
  {
   "cell_type": "code",
   "execution_count": 8,
   "id": "smaller-transcription",
   "metadata": {},
   "outputs": [],
   "source": [
    "Q=np.outer(a,a)\n",
    "R=np.outer(b,b)\n",
    "\n",
    "\n",
    "pd1=0.5*np.random.rand(1)\n",
    "pd2=0.5*np.random.rand(1)\n",
    "\n",
    "I=np.array([[1,0],[0,1]])\n",
    "\n",
    "Q=Q+pd1*I\n",
    "R=R+pd2*I\n",
    "\n",
    "mode_difference_std_dev=0.5"
   ]
  },
  {
   "cell_type": "code",
   "execution_count": 9,
   "id": "mighty-borough",
   "metadata": {},
   "outputs": [],
   "source": [
    "A1=np.random.rand(2,2)\n",
    "B1=np.random.rand(2,2)\n",
    "A2=A1+np.random.normal(0,mode_difference_std_dev,A1.shape)\n",
    "B2=B1+np.random.normal(0,mode_difference_std_dev,B1.shape)\n",
    "#var1=0.01*np.random.rand(1)  Original\n",
    "#var2=0.01*np.random.rand(1)  Original\n",
    "var1=0.001*np.random.rand(1)  #Trying low noise\n",
    "var2=0.001*np.random.rand(1)  #TRying low noise\n",
    "K=np.random.rand(2,2)\n",
    "\n",
    "\n",
    "\n",
    "#scale=0.1\n",
    "\n",
    "scale1=0.1\n",
    "scale2=0.1\n",
    "K=scale1*K\n",
    "A1=scale1*A1\n",
    "A2=scale2*A2\n",
    "B1=scale1*B1\n",
    "B2=scale2*B2\n",
    "var1=scale1*scale1*var1\n",
    "var2=scale2*scale2*var2\n"
   ]
  },
  {
   "cell_type": "code",
   "execution_count": 10,
   "id": "headed-center",
   "metadata": {},
   "outputs": [
    {
     "data": {
      "text/plain": [
       "0.11771457971729964"
      ]
     },
     "execution_count": 10,
     "metadata": {},
     "output_type": "execute_result"
    }
   ],
   "source": [
    "LA.norm(A1+B1.dot(K),2)\n"
   ]
  },
  {
   "cell_type": "code",
   "execution_count": 11,
   "id": "boolean-oasis",
   "metadata": {},
   "outputs": [
    {
     "data": {
      "text/plain": [
       "0.12051627457761196"
      ]
     },
     "execution_count": 11,
     "metadata": {},
     "output_type": "execute_result"
    }
   ],
   "source": [
    "LA.norm(A2+B2.dot(K),2)"
   ]
  },
  {
   "cell_type": "code",
   "execution_count": 12,
   "id": "amber-denver",
   "metadata": {},
   "outputs": [],
   "source": [
    "time=np.arange(0,3000,1e-3)\n",
    "time.shape\n",
    "cost=np.zeros((time.shape[0]))\n",
    "x_norm=np.zeros((time.shape[0]))"
   ]
  },
  {
   "cell_type": "code",
   "execution_count": 13,
   "id": "genetic-variation",
   "metadata": {},
   "outputs": [
    {
     "name": "stdout",
     "output_type": "stream",
     "text": [
      "7.3421305630782095e-06\n",
      "22.02639903136519\n"
     ]
    }
   ],
   "source": [
    "#Here we run the previous Riccati to empirically find a safe nu, note we use a random policy K instead of the Riccati\n",
    "# equation based optimal policy to get a safe upper bound and find all the hyperparameters for both modes a and b.\n",
    "\n",
    "\n",
    "\n",
    "#Starting Mode a\n",
    "\n",
    "x_dynamicsa=np.zeros((2,time.shape[0]))\n",
    "x_0a=np.random.rand(2)\n",
    "x_dynamicsa[:,0]=x_0a\n",
    "\n",
    "\n",
    "u_0a=K.dot(x_0a)\n",
    "\n",
    "costa=np.zeros((time.shape[0]))\n",
    "x_norma=np.zeros((time.shape[0]))\n",
    "\n",
    "c_0a=x_0a.dot((Q.dot(x_0a)))+u_0a.dot((R.dot(u_0a)))\n",
    "\n",
    "costa[0]=c_0a\n",
    "x_norma[0]=LA.norm(x_0a,2)\n",
    "\n",
    "for t in range(1,time.shape[0]):\n",
    "    xprev=x_dynamicsa[:,t-1]\n",
    "    uprev=K.dot(xprev)\n",
    "    xt=A1.dot(xprev)+B1.dot(uprev)+np.random.normal(0,np.sqrt(var1),xprev.shape)\n",
    "    ut=K.dot(xt)\n",
    "    ct=xt.dot(Q.dot(xt))+ut.dot(R.dot(ut))\n",
    "    c=(costa[t-1]*(t)+ct)/(t+1)\n",
    "    x_norma[t]=LA.norm(xt,2)\n",
    "    costa[t]=c\n",
    "    x_dynamicsa[:,t]=xt\n",
    "    \n",
    "Final_Costa=(costa[time.shape[0]-1]*(time.shape[0])+x_dynamicsa[:,time.shape[0]-1].dot(Q.dot(x_dynamicsa[:,time.shape[0]-1])))/(time.shape[0]+1)\n",
    "\n",
    "Final_Costa_agg=Final_Costa*(time.shape[0]+1)\n",
    "\n",
    "print(Final_Costa)\n",
    "\n",
    "print(Final_Costa_agg)\n"
   ]
  },
  {
   "cell_type": "code",
   "execution_count": 14,
   "id": "instant-garlic",
   "metadata": {},
   "outputs": [
    {
     "name": "stdout",
     "output_type": "stream",
     "text": [
      "8.044635604795514e-06\n",
      "24.133914859022145\n"
     ]
    }
   ],
   "source": [
    "#Now for Mode b\n",
    "\n",
    "x_dynamicsb=np.zeros((2,time.shape[0]))\n",
    "x_0b=np.random.rand(2)\n",
    "x_dynamicsb[:,0]=x_0b\n",
    "\n",
    "\n",
    "u_0b=K.dot(x_0b)\n",
    "\n",
    "costb=np.zeros((time.shape[0]))\n",
    "x_normb=np.zeros((time.shape[0]))\n",
    "\n",
    "c_0b=x_0b.dot((Q.dot(x_0b)))+u_0b.dot((R.dot(u_0b)))\n",
    "\n",
    "costb[0]=c_0b\n",
    "x_normb[0]=LA.norm(x_0b,2)\n",
    "\n",
    "for t in range(1,time.shape[0]):\n",
    "    xprev=x_dynamicsb[:,t-1]\n",
    "    uprev=K.dot(xprev)\n",
    "    xt=A2.dot(xprev)+B2.dot(uprev)+np.random.normal(0,np.sqrt(var2),xprev.shape)\n",
    "    ut=K.dot(xt)\n",
    "    ct=xt.dot(Q.dot(xt))+ut.dot(R.dot(ut))\n",
    "    c=(costb[t-1]*(t)+ct)/(t+1)\n",
    "    x_normb[t]=LA.norm(xt,2)\n",
    "    costb[t]=c\n",
    "    x_dynamicsb[:,t]=xt\n",
    "    \n",
    "Final_Costb=(costb[time.shape[0]-1]*(time.shape[0])+x_dynamicsb[:,time.shape[0]-1].dot(Q.dot(x_dynamicsb[:,time.shape[0]-1])))/(time.shape[0]+1)\n",
    "\n",
    "Final_Costb_agg=Final_Costb*(time.shape[0]+1)\n",
    "\n",
    "print(Final_Costb)\n",
    "\n",
    "print(Final_Costb_agg)\n"
   ]
  },
  {
   "cell_type": "code",
   "execution_count": 15,
   "id": "configured-ottawa",
   "metadata": {},
   "outputs": [
    {
     "name": "stdout",
     "output_type": "stream",
     "text": [
      "7.342130869700224e-06\n"
     ]
    }
   ],
   "source": [
    "print(costa[time.shape[0]-1])"
   ]
  },
  {
   "cell_type": "code",
   "execution_count": 16,
   "id": "stone-palace",
   "metadata": {},
   "outputs": [
    {
     "name": "stdout",
     "output_type": "stream",
     "text": [
      "8.04463764339432e-06\n"
     ]
    }
   ],
   "source": [
    "print(costb[time.shape[0]-1])"
   ]
  },
  {
   "cell_type": "code",
   "execution_count": 17,
   "id": "variable-antique",
   "metadata": {},
   "outputs": [
    {
     "name": "stdout",
     "output_type": "stream",
     "text": [
      "[ 0.00429802 -0.0033808 ]\n",
      "1.129970334463239e-05\n"
     ]
    }
   ],
   "source": [
    "noise_sample=np.random.normal(0,np.sqrt(var2),xprev.shape)\n",
    "print(noise_sample)\n",
    "\n",
    "control_noise_sample=K.dot(noise_sample)\n",
    "\n",
    "cost_noise=noise_sample.dot(Q.dot(noise_sample))+control_noise_sample.dot(R.dot(control_noise_sample))\n",
    "print(cost_noise)"
   ]
  },
  {
   "cell_type": "code",
   "execution_count": 18,
   "id": "special-mercy",
   "metadata": {},
   "outputs": [
    {
     "data": {
      "text/plain": [
       "1.1428118661478224"
      ]
     },
     "execution_count": 18,
     "metadata": {},
     "output_type": "execute_result"
    }
   ],
   "source": [
    "x_normb[0]"
   ]
  },
  {
   "cell_type": "code",
   "execution_count": 19,
   "id": "personal-rebate",
   "metadata": {},
   "outputs": [],
   "source": [
    "#Now we set the hyperparameters for the OSLO Algorithm, alpha0 and alpha1 are same for both modes.\n",
    "\n",
    "\n",
    "n=4 #n=k+d=2+2=4\n",
    "\n",
    "delta=0.1\n",
    "\n",
    "q1,q2=LA.eigh(Q)\n",
    "r1,r2=LA.eigh(R)\n",
    "\n",
    "\n",
    "minq=np.amin(q1)\n",
    "maxq=np.amax(q1)\n",
    "minr=np.amin(r1)\n",
    "maxr=np.amax(r1)\n",
    "\n",
    "\n",
    "\n",
    "alpha0=min(minq,minr)\n",
    "\n",
    "alpha1=max(maxq,maxr)\n",
    "\n",
    "Augmenteda=np.column_stack((A1,B1))\n",
    "\n",
    "nua=0.0005  #Experimental value from repeatedly upper bounding last to last cell\n",
    "\n",
    "          #based on the above experiment running the previous block several times, the average cost on convergence is\n",
    "\n",
    "         # always upper bounded by the value of nu chosen so J* is definitely upper bounded by it \n",
    "\n",
    "vhia=LA.norm(Augmenteda,2)\n",
    "\n",
    "\n",
    "\n",
    "\n",
    "\n",
    "Augmentedb=np.column_stack((A2,B2))\n",
    "\n",
    "nub=0.0005  #Experimental value from repeatedly upper bounding last cell\n",
    "\n",
    "          #based on the above experiment running the previous block several times, the average cost on convergence is\n",
    "\n",
    "         # always upper bounded by the value of nu chosen so J* is definitely upper bounded by it \n",
    "\n",
    "vhib=LA.norm(Augmentedb,2)\n",
    "\n"
   ]
  },
  {
   "cell_type": "code",
   "execution_count": 20,
   "id": "classified-packing",
   "metadata": {},
   "outputs": [
    {
     "name": "stdout",
     "output_type": "stream",
     "text": [
      "1289.0994223863584 1000000 1e-07\n",
      "[[1000000       0       0       0]\n",
      " [      0 1000000       0       0]\n",
      " [      0       0 1000000       0]\n",
      " [      0       0       0 1000000]]\n",
      "1183.2338323098923 1000000 1e-07\n",
      "[[1000000       0       0       0]\n",
      " [      0 1000000       0       0]\n",
      " [      0       0 1000000       0]\n",
      " [      0       0       0 1000000]]\n"
     ]
    }
   ],
   "source": [
    "#Line 2 of the algorithm; initializing parameters\n",
    "\n",
    "mua=5*vhia*np.sqrt(time.shape[0])\n",
    "\n",
    "\n",
    "lamdaa=(2048*np.power(nua,5)*vhia*np.sqrt(time.shape[0]))/(np.power(alpha0,5)*np.power(var1,5))\n",
    "\n",
    "betaa=(256*1024*np.power(nua,4)*n*n*np.log((time.shape[0])/delta))/(np.power(alpha0,4)*np.power(var1,3))\n",
    "\n",
    "bigI=np.array([[1,0,0,0],[0,1,0,0],[0,0,1,0],[0,0,0,1]])\n",
    "\n",
    "\n",
    "#Manually setting lamda and beta\n",
    "\n",
    "lamdaa=1000000\n",
    "\n",
    "betaa=0.0000001\n",
    "\n",
    "#Try beta = 1 and lamda=0.01,0.1 both\n",
    "\n",
    "#manual setting done\n",
    "\n",
    "\n",
    "V1a=lamdaa*bigI\n",
    "\n",
    "\n",
    "\n",
    "print(mua,lamdaa,betaa)\n",
    "\n",
    "print(V1a)\n",
    "\n",
    "\n",
    "#The other mode\n",
    "\n",
    "mub=5*vhib*np.sqrt(time.shape[0])\n",
    "\n",
    "lamdab=(2048*np.power(nub,5)*vhib*np.sqrt(time.shape[0]))/(np.power(alpha0,5)*np.power(var2,5))\n",
    "\n",
    "betab=(256*1024*np.power(nub,4)*n*n*np.log((time.shape[0])/delta))/(np.power(alpha0,4)*np.power(var2,3))\n",
    "\n",
    "\n",
    "\n",
    "#Manually setting lamda and beta\n",
    "\n",
    "lamdab=1000000\n",
    "\n",
    "betab=0.0000001\n",
    "\n",
    "#manual setting done\n",
    "\n",
    "\n",
    "V1b=lamdab*np.array([[1,0,0,0],[0,1,0,0],[0,0,1,0],[0,0,0,1]])\n",
    "\n",
    "\n",
    "\n",
    "print(mub,lamdab,betab)\n",
    "\n",
    "print(V1b)\n",
    "\n",
    "\n",
    "\n"
   ]
  },
  {
   "cell_type": "code",
   "execution_count": 21,
   "id": "public-links",
   "metadata": {},
   "outputs": [],
   "source": [
    "# We set further parameters for input of the algorithm (1st line in the paper)\n",
    "\n",
    "\n",
    "delta=0.1\n",
    "\n",
    "epsilona=1/(4*lamdaa)\n",
    "\n",
    "epsa=0.007 #Manually chosen epsilon\n",
    "\n",
    "A0a=A1+np.sqrt(epsa/n)*np.random.rand(2,2)\n",
    "\n",
    "B0a=B1+np.sqrt(epsa/n)*np.random.rand(2,2)\n",
    "\n",
    "Wa=var1*I\n",
    "\n",
    "epsilonb=1/(4*lamdab)\n",
    "\n",
    "epsb=0.007 #Manually chosen epsilon\n",
    "\n",
    "A0b=A2+np.sqrt(epsb/n)*np.random.rand(2,2)\n",
    "\n",
    "B0b=B2+np.sqrt(epsb/n)*np.random.rand(2,2)\n",
    "\n",
    "Wb=var2*I\n",
    "\n"
   ]
  },
  {
   "cell_type": "code",
   "execution_count": 22,
   "id": "alternative-sauce",
   "metadata": {},
   "outputs": [
    {
     "name": "stdout",
     "output_type": "stream",
     "text": [
      "WARN: m less than n, problem likely degenerate\n",
      "WARN: m less than n, problem likely degenerate\n"
     ]
    }
   ],
   "source": [
    "#Now we prepare to run the dynamical system with policies as dictated by OSLO algorithm\n",
    "\n",
    "x_dynamics=np.zeros((2,time.shape[0]+1))\n",
    "z_dynamics=np.zeros((4,time.shape[0]+1))\n",
    "x_0=(0.1)*np.random.rand(2)\n",
    "x_dynamics[:,0]=x_0\n",
    "z_dynamics[0:2,0]=x_0\n",
    "\n",
    "#Now we assume the system begins at mode a\n",
    "\n",
    "acount=1\n",
    "bcount=0\n",
    "\n",
    "#K0=np.random.rand(2,2)\n",
    "#u_0=K0.dot(x_0)\n",
    "#z_dynamics[2:4,0]=u_0\n",
    "\n",
    "\n",
    "\n",
    "\n",
    "x_dynamicsa=np.zeros((2,time.shape[0]+1))\n",
    "z_dynamicsa=np.zeros((4,time.shape[0]+1))\n",
    "\n",
    "x_dynamicsb=np.zeros((2,time.shape[0]+1))\n",
    "z_dynamicsb=np.zeros((4,time.shape[0]+1))\n",
    "\n",
    "x_dynamicsa[:,0]=x_0\n",
    "z_dynamicsa[0:2,0]=x_0\n",
    "\n",
    "#z_dynamicsb[0:2,0]=x_0\n",
    "#z_dynamicsa[2:4,0]=u_0\n",
    "\n",
    "\n",
    "\n",
    "\n",
    "\n",
    "\n",
    "\n",
    "\n",
    "A_dynamicsa=np.zeros((time.shape[0]+1,2,2))\n",
    "B_dynamicsa=np.zeros((time.shape[0]+1,2,2))\n",
    "K_dynamicsa=np.zeros((time.shape[0]+1,2,2))\n",
    "\n",
    "A_dynamicsa[0]=A0a\n",
    "B_dynamicsa[0]=B0a\n",
    "#K_dynamicsa[0]=K0\n",
    "\n",
    "V_dynamicsa=np.zeros((time.shape[0]+1,4,4))\n",
    "V_dynamicsa[0]=V1a\n",
    "\n",
    "Sigma_0a=SDP_solver(A_dynamicsa[0],B_dynamicsa[0],V_dynamicsa[0],Wa,mua)\n",
    "\n",
    "Left=np.array([[1,0,0,0],[0,1,0,0]])\n",
    "Right=np.array([[1,0],[0,1],[0,0],[0,0]])\n",
    "\n",
    "#Do this correction while running as well, for policy computation take sigma_xx first and then take its inverse\n",
    "\n",
    "\n",
    "Sigma_0_xx=(Left.dot(Sigma_0a)).dot(Right)\n",
    "Sigma_0_xx_inv=np.linalg.inv(Sigma_0_xx)\n",
    "K0a=(Sigma_0a[2:4,0:2]).dot((Sigma_0_xx_inv))\n",
    "\n",
    "K_dynamicsa[0]=K0a\n",
    "\n",
    "u_0=K0a.dot(x_0)\n",
    "z_dynamicsa[2:4,0]=u_0\n",
    "\n",
    "\n",
    "\n",
    "\n",
    "\n",
    "\n",
    "\n",
    "\n",
    "cost=np.zeros((time.shape[0]+1))\n",
    "agg_cost_dynamics=np.zeros((time.shape[0]+1))\n",
    "z_norm=np.zeros((time.shape[0]+1))\n",
    "x_norm=np.zeros((time.shape[0]+1))\n",
    "c_0=x_0.dot((Q.dot(x_0)))+u_0.dot((R.dot(u_0)))\n",
    "\n",
    "\n",
    "cost[0]=c_0\n",
    "agg_cost_dynamics[0]=c_0\n",
    "\n",
    "x_1=A1.dot(x_0)+B1.dot(u_0)+np.random.normal(0,np.sqrt(var1),x_0.shape)\n",
    "\n",
    "z_norm[0]=LA.norm(z_dynamicsa[:,0],2)\n",
    "x_norm[0]=LA.norm(x_0,2)\n",
    "\n",
    "x_dynamicsa[:,1]=x_1\n",
    "\n",
    "x_norm[1]=LA.norm(x_1,2)\n",
    "\n",
    "\n",
    "z0=z_dynamicsa[:,0]\n",
    "\n",
    "z_dynamics[:,0]=z0\n",
    "x_dynamics[:,1]=x_1\n",
    "\n",
    "V_dynamicsa[1]=V_dynamicsa[0]+(1/betaa)*np.outer(z0,z0)\n",
    "\n",
    "#Episode index is tau, and we need to start an episode at the beginning\n",
    "\n",
    "taua=0\n",
    "\n",
    "#Now all the intializations are done for mode a, so we repeat the same for mode b\n",
    "\n",
    "\n",
    "\n",
    "A_dynamicsb=np.zeros((time.shape[0]+1,2,2))\n",
    "B_dynamicsb=np.zeros((time.shape[0]+1,2,2))\n",
    "K_dynamicsb=np.zeros((time.shape[0]+1,2,2))\n",
    "\n",
    "A_dynamicsb[0]=A0b\n",
    "B_dynamicsb[0]=B0b\n",
    "#K_dynamicsb[0]=K0a #We need this policy to run when mode B is encountered first it just needs to be any policy(??)\n",
    "\n",
    "V_dynamicsb=np.zeros((time.shape[0]+1,4,4))\n",
    "V_dynamicsb[0]=V1b\n",
    "\n",
    "\n",
    "\n",
    "Sigma_0b=SDP_solver(A_dynamicsb[0],B_dynamicsb[0],V_dynamicsb[0],Wb,mub)\n",
    "\n",
    "Left=np.array([[1,0,0,0],[0,1,0,0]])\n",
    "Right=np.array([[1,0],[0,1],[0,0],[0,0]])\n",
    "\n",
    "#Do this correction while running as well, for policy computation take sigma_xx first and then take its inverse\n",
    "\n",
    "\n",
    "Sigma_0_xx=(Left.dot(Sigma_0b)).dot(Right)\n",
    "Sigma_0_xx_inv=np.linalg.inv(Sigma_0_xx)\n",
    "K0b=(Sigma_0b[2:4,0:2]).dot((Sigma_0_xx_inv))\n",
    "\n",
    "K_dynamicsb[0]=K0b\n",
    "\n",
    "#u_0=K0b.dot(x_0)\n",
    "#z_dynamicsb[2:4,0]=u_0\n",
    "#z_dynamicsb[0:2,0]=x_0\n",
    "\n",
    "\n",
    "#z0=z_dynamicsb[:,0]\n",
    "\n",
    "\n",
    "\n",
    "#V_dynamicsb[1]=V_dynamicsb[0]+(1/betab)*np.outer(z0,z0)\n",
    "\n",
    "\n",
    "#V_dynamicsb[1]=V_dynamicsb[0]\n",
    "\n",
    "\n",
    "\n",
    "#V_dynamicsb[1]=V_dynamicsb[0]+(1/betab)*np.outer(z0,z0)\n",
    "\n",
    "#Episode index is tau, and we need to start an episode at the beginning\n",
    "\n",
    "taub=0\n",
    "\n"
   ]
  },
  {
   "cell_type": "code",
   "execution_count": 23,
   "id": "photographic-bulgarian",
   "metadata": {},
   "outputs": [
    {
     "name": "stdout",
     "output_type": "stream",
     "text": [
      "WARN: m less than n, problem likely degenerate\n",
      "4479\n",
      "b\n",
      "[[-0.00580248 -0.00237958]\n",
      " [ 0.0040491  -0.00159174]]\n",
      "WARN: m less than n, problem likely degenerate\n",
      "4053\n",
      "a\n",
      "[[-0.01621197 -0.02356089]\n",
      " [ 0.00162064  0.00099815]]\n",
      "WARN: m less than n, problem likely degenerate\n",
      "10854\n",
      "b\n",
      "[[-0.00585812 -0.0029536 ]\n",
      " [ 0.00429293 -0.00117991]]\n",
      "WARN: m less than n, problem likely degenerate\n",
      "10091\n",
      "a\n",
      "[[-0.01488313 -0.02219673]\n",
      " [ 0.00143443  0.00082601]]\n",
      "WARN: m less than n, problem likely degenerate\n",
      "19811\n",
      "b\n",
      "[[-0.00611472 -0.00338917]\n",
      " [ 0.00477138 -0.00068843]]\n",
      "WARN: m less than n, problem likely degenerate\n",
      "18647\n",
      "a\n",
      "[[-0.01349704 -0.02134823]\n",
      " [ 0.00135441  0.0007818 ]]\n",
      "WARN: m less than n, problem likely degenerate\n",
      "32382\n",
      "b\n",
      "[[-0.00619173 -0.00342686]\n",
      " [ 0.00494054 -0.00055664]]\n",
      "WARN: m less than n, problem likely degenerate\n",
      "30463\n",
      "a\n",
      "[[-0.01291708 -0.02018644]\n",
      " [ 0.00123479  0.0006136 ]]\n",
      "WARN: m less than n, problem likely degenerate\n",
      "50216\n",
      "b\n",
      "[[-0.00620588 -0.00341666]\n",
      " [ 0.0049862  -0.00043258]]\n",
      "WARN: m less than n, problem likely degenerate\n",
      "47395\n",
      "a\n",
      "[[-0.01261244 -0.0196519 ]\n",
      " [ 0.0012706   0.00051547]]\n",
      "WARN: m less than n, problem likely degenerate\n",
      "75570\n",
      "b\n",
      "[[-0.00601911 -0.00323581]\n",
      " [ 0.00497169 -0.00049933]]\n",
      "WARN: m less than n, problem likely degenerate\n",
      "71358\n",
      "a\n",
      "[[-0.01354971 -0.01904674]\n",
      " [ 0.00133593  0.00043443]]\n",
      "WARN: m less than n, problem likely degenerate\n",
      "111101\n",
      "b\n",
      "[[-0.00605164 -0.00306856]\n",
      " [ 0.00498662 -0.00062799]]\n",
      "WARN: m less than n, problem likely degenerate\n",
      "105233\n",
      "a\n",
      "[[-0.01341578 -0.01893475]\n",
      " [ 0.00130052  0.00042867]]\n",
      "WARN: m less than n, problem likely degenerate\n",
      "161215\n",
      "b\n",
      "[[-0.00596501 -0.003146  ]\n",
      " [ 0.00498175 -0.00057188]]\n",
      "WARN: m less than n, problem likely degenerate\n",
      "153298\n",
      "a\n",
      "[[-0.0129516  -0.01891545]\n",
      " [ 0.00126075  0.00040699]]\n",
      "WARN: m less than n, problem likely degenerate\n",
      "232498\n",
      "b\n",
      "[[-0.00598432 -0.00316067]\n",
      " [ 0.00505572 -0.00057416]]\n",
      "WARN: m less than n, problem likely degenerate\n",
      "220920\n",
      "a\n",
      "[[-0.01249508 -0.01841484]\n",
      " [ 0.00123671  0.00040758]]\n",
      "WARN: m less than n, problem likely degenerate\n",
      "333763\n",
      "b\n",
      "[[-0.00592527 -0.00308765]\n",
      " [ 0.00501436 -0.00061237]]\n",
      "WARN: m less than n, problem likely degenerate\n",
      "317287\n",
      "a\n",
      "[[-0.01246535 -0.01835576]\n",
      " [ 0.00121727  0.00038922]]\n",
      "WARN: m less than n, problem likely degenerate\n",
      "476456\n",
      "b\n",
      "[[-0.00592159 -0.00310245]\n",
      " [ 0.0050355  -0.00055883]]\n",
      "WARN: m less than n, problem likely degenerate\n",
      "452960\n",
      "a\n",
      "[[-0.01238152 -0.01814067]\n",
      " [ 0.00122675  0.00038689]]\n",
      "WARN: m less than n, problem likely degenerate\n",
      "678779\n",
      "b\n",
      "[[-0.00595419 -0.00309027]\n",
      " [ 0.00508171 -0.00056046]]\n",
      "WARN: m less than n, problem likely degenerate\n",
      "644606\n",
      "a\n",
      "[[-0.0123644  -0.01810275]\n",
      " [ 0.0011907   0.00037907]]\n",
      "WARN: m less than n, problem likely degenerate\n",
      "964305\n",
      "b\n",
      "[[-0.00589794 -0.00306784]\n",
      " [ 0.00506617 -0.00056338]]\n",
      "WARN: m less than n, problem likely degenerate\n",
      "916297\n",
      "a\n",
      "[[-0.01257976 -0.01806745]\n",
      " [ 0.00121051  0.00038597]]\n",
      "WARN: m less than n, problem likely degenerate\n",
      "1366819\n",
      "b\n",
      "[[-0.00590517 -0.00306264]\n",
      " [ 0.00507174 -0.00058618]]\n",
      "WARN: m less than n, problem likely degenerate\n",
      "1300685\n",
      "a\n",
      "[[-0.01244676 -0.01803888]\n",
      " [ 0.00121928  0.00035649]]\n"
     ]
    }
   ],
   "source": [
    "#Next we implement the modified OSLO here\n",
    "\n",
    "\n",
    "markov_state=0\n",
    "ms=np.zeros((time.shape[0]))\n",
    "ms[0]=0\n",
    "\n",
    "#noise1=np.array([[var1,0],[0,var1]])\n",
    "\n",
    "#noise2=np.array([[var2,0],[0,var2]])\n",
    "\n",
    "for t in range(1,time.shape[0]):\n",
    "    \n",
    "    markov_state=ms[t-1]\n",
    "    if (markov_state==0):\n",
    "        markov_state=np.random.choice(2,1,p=[p,1-p])\n",
    "        ms[t]=markov_state\n",
    "    else:\n",
    "        markov_state=np.random.choice(2,1,p=[1-q,q])\n",
    "        ms[t]=markov_state\n",
    "        \n",
    "\n",
    "        \n",
    "    \n",
    "    \n",
    "    #The big else from OSLO should be nested within the if else for Markov State here:\n",
    "\n",
    "    if (markov_state==0):\n",
    "        \n",
    "        if (np.linalg.det(V_dynamicsa[acount])>2*np.linalg.det(V_dynamicsa[taua])):\n",
    "            taua=acount \n",
    "            #starts a new episode in this case and estimate parameters for this episode next\n",
    "            X=x_dynamicsa[:,1:acount]\n",
    "            Z=z_dynamicsa[:,0:acount-1]\n",
    "            A0B0=np.column_stack((A0a,B0a))\n",
    "            AtBt=square_matrix_ridge_regression(Z,X,A0B0,lamdaa,betaa)\n",
    "            A_dynamicsa[acount]=AtBt[:,0:2]\n",
    "            B_dynamicsa[acount]=AtBt[:,2:4]\n",
    "\n",
    "            #Now we compute the policy for this round using SDP solver\n",
    "\n",
    "\n",
    "            Sigmat=SDP_solver(A_dynamicsa[acount],B_dynamicsa[acount],V_dynamicsa[acount],Wa,mua)\n",
    "            \n",
    "            \n",
    "            if (infeasibility_flag == 1):\n",
    "                #A_dynamicsa[acount]=A_dynamicsa[acount-1]\n",
    "                #B_dynamicsa[acount]=B_dynamicsa[acount-1]\n",
    "                K_dynamicsa[t]=K_dynamicsa[t-1]\n",
    "                K_dynamicsb[t]=K_dynamicsb[t-1]\n",
    "                \n",
    "                print(taua)\n",
    "                print(Sigmat)\n",
    "                \n",
    "        \n",
    "            else:\n",
    "                print(taua)\n",
    "                print('a')\n",
    "                #print(Sigmat)\n",
    "            \n",
    "            #Extracting policy from the relaxed SDP's solution\n",
    "            \n",
    "                Left=np.array([[1,0,0,0],[0,1,0,0]])\n",
    "                Right=np.array([[1,0],[0,1],[0,0],[0,0]])\n",
    "            \n",
    "                Sigma_t_xx=(Left.dot(Sigmat)).dot(Right)\n",
    "                Sigma_t_xx_inv=np.linalg.inv(Sigma_t_xx)\n",
    "                Kt=(Sigmat[2:4,0:2]).dot((Sigma_t_xx_inv))\n",
    "                K_dynamicsa[t]=Kt\n",
    "                K_dynamicsb[t]=K_dynamicsb[t-1]\n",
    "                print(K_dynamicsa[t])\n",
    "                \n",
    "        \n",
    "\n",
    "\n",
    "        else:\n",
    "            A_dynamicsa[acount]=A_dynamicsa[acount-1]\n",
    "            B_dynamicsa[acount]=B_dynamicsa[acount-1]\n",
    "            K_dynamicsa[t]=K_dynamicsa[t-1]\n",
    "            K_dynamicsb[t]=K_dynamicsb[t-1]   ##Doubtful line\n",
    "                \n",
    "   \n",
    "        \n",
    "    \n",
    "    \n",
    "    \n",
    "    \n",
    "        #Policy computed\n",
    "        #Now we update the parameters for the next round: part of the OSLO\n",
    "        ut=K_dynamicsa[t].dot(x_dynamics[:,t])\n",
    "        \n",
    "        x_dynamics[:,t+1]=A1.dot(x_dynamics[:,t])+B1.dot(ut)+np.random.normal(0,np.sqrt(var1),x_dynamics[:,t].shape)\n",
    "        acount=acount+1\n",
    "        x_dynamicsa[:,acount]=x_dynamics[:,t+1]\n",
    "        \n",
    "        \n",
    "        zt=np.zeros(4)\n",
    "        zt[0:2]=x_dynamics[:,t]\n",
    "        zt[2:4]=ut\n",
    "        xt=x_dynamics[:,t]\n",
    "        z_dynamics[:,t]=zt\n",
    "        z_dynamicsa[:,acount-1]=zt\n",
    "        z_norm[t]=LA.norm(zt,2)\n",
    "        V_dynamicsa[acount]=V_dynamicsa[acount-1]+(1/betaa)*np.outer(zt,zt)\n",
    "        # Change to OSLO ends here\n",
    "        ct=xt.dot(Q.dot(xt))+ut.dot(R.dot(ut))\n",
    "        c=(cost[t-1]*(t)+ct)/(t+1)\n",
    "        x_norm[t+1]=LA.norm(x_dynamics[:,t+1],2)\n",
    "        cost[t]=c\n",
    "        agg_cost_dynamics[t]=agg_cost_dynamics[t-1]+ct\n",
    "        \n",
    "        \n",
    "        \n",
    "        \n",
    "        \n",
    "        \n",
    "        \n",
    "        \n",
    "    else:\n",
    "        \n",
    "        if(bcount==0):\n",
    "            x_dynamicsb[:,bcount]=x_dynamics[:,t]\n",
    "        \n",
    "        bcount=bcount+1\n",
    "        \n",
    "        \n",
    "        if (np.linalg.det(V_dynamicsb[bcount-1])>2*np.linalg.det(V_dynamicsb[taub])):\n",
    "            taub=bcount-1 \n",
    "            #starts a new episode in this case and estimate parameters for this episode next\n",
    "            X=x_dynamicsb[:,1:bcount]\n",
    "            Z=z_dynamicsb[:,0:bcount-1]\n",
    "            A0B0=np.column_stack((A0b,B0b))\n",
    "            AtBt=square_matrix_ridge_regression(Z,X,A0B0,lamdab,betab)\n",
    "            A_dynamicsb[bcount]=AtBt[:,0:2]\n",
    "            B_dynamicsb[bcount]=AtBt[:,2:4]\n",
    "\n",
    "            #Now we compute the policy for this round using SDP solver\n",
    "\n",
    "\n",
    "            Sigmat=SDP_solver(A_dynamicsb[bcount],B_dynamicsb[bcount],V_dynamicsb[bcount-1],Wb,mub)\n",
    "            \n",
    "            \n",
    "            if (infeasibility_flag == 1):\n",
    "                #A_dynamicsb[t]=A_dynamicsb[t-1]\n",
    "                #B_dynamicsb[t]=B_dynamicsb[t-1]\n",
    "                K_dynamicsb[t]=K_dynamicsb[t-1]\n",
    "                K_dynamicsa[t]=K_dynamicsa[t-1]\n",
    "                print(taub)\n",
    "                print(Sigmat)\n",
    "        \n",
    "            else:\n",
    "                print(taub)\n",
    "                print('b')\n",
    "                #print(Sigmat)\n",
    "            \n",
    "            #Extracting policy from the relaxed SDP's solution\n",
    "            \n",
    "                Left=np.array([[1,0,0,0],[0,1,0,0]])\n",
    "                Right=np.array([[1,0],[0,1],[0,0],[0,0]])\n",
    "            \n",
    "                Sigma_t_xx=(Left.dot(Sigmat)).dot(Right)\n",
    "                Sigma_t_xx_inv=np.linalg.inv(Sigma_t_xx)\n",
    "                Kt=(Sigmat[2:4,0:2]).dot((Sigma_t_xx_inv))\n",
    "                K_dynamicsb[t]=Kt\n",
    "                K_dynamicsa[t]=K_dynamicsa[t-1]\n",
    "                print(K_dynamicsb[t])\n",
    "\n",
    "                \n",
    "        else:\n",
    "            A_dynamicsb[bcount]=A_dynamicsb[bcount-1]\n",
    "            B_dynamicsb[bcount]=B_dynamicsb[bcount-1]\n",
    "            K_dynamicsb[t]=K_dynamicsb[t-1]\n",
    "            K_dynamicsa[t]=K_dynamicsa[t-1]\n",
    "   \n",
    "        \n",
    "    \n",
    "    \n",
    "    \n",
    "    \n",
    "        #Policy computed\n",
    "        #Now we update the parameters for the next round: part of the OSLO\n",
    "        xt=x_dynamics[:,t]\n",
    "        ut=K_dynamicsb[t].dot(xt)\n",
    "        \n",
    "        #Play this policy\n",
    "        \n",
    "        x_dynamics[:,t+1]=A2.dot(x_dynamics[:,t])+B2.dot(ut)+np.random.normal(0,np.sqrt(var2),x_dynamics[:,t].shape)\n",
    "        \n",
    "        x_dynamicsb[:,bcount]=x_dynamics[:,t+1]\n",
    "        \n",
    "        \n",
    "        \n",
    "        zt=np.zeros(4)\n",
    "        zt[0:2]=xt\n",
    "        zt[2:4]=ut\n",
    "        z_dynamics[:,t]=zt\n",
    "        z_dynamicsb[:,bcount-1]=zt\n",
    "        z_norm[t]=LA.norm(zt,2)\n",
    "        V_dynamicsb[bcount]=V_dynamicsb[bcount-1]+(1/betab)*np.outer(zt,zt)\n",
    "        # Change to OSLO ends here\n",
    "        ct=xt.dot(Q.dot(xt))+ut.dot(R.dot(ut))\n",
    "        c=(cost[t-1]*(t)+ct)/(t+1)\n",
    "        x_norm[t+1]=LA.norm(x_dynamics[:,t+1],2)\n",
    "        cost[t]=c\n",
    "        agg_cost_dynamics[t]=agg_cost_dynamics[t-1]+ct\n",
    "\n",
    "        \n",
    "Final_Cost=(cost[time.shape[0]-1]*(time.shape[0])+x_dynamics[:,time.shape[0]].dot(Q.dot(x_dynamics[:,time.shape[0]])))/(time.shape[0]+1)\n",
    "        \n",
    "Final_Cost_agg=Final_Cost*(time.shape[0]+1)      \n",
    "        \n",
    "        \n",
    "        \n",
    "        \n",
    "        \n",
    "\n",
    "\n",
    "\n",
    "\n",
    "\n",
    "\n",
    "\n"
   ]
  },
  {
   "cell_type": "code",
   "execution_count": 24,
   "id": "equal-thermal",
   "metadata": {},
   "outputs": [],
   "source": [
    "#Testing convergence of parameter estimation for mode a:\n",
    "#print(LA.norm((Augmented-AtBt),'fro'))\n",
    "erra=np.zeros((time.shape[0]))\n",
    "for t in range(time.shape[0]):\n",
    "    AtBt=np.column_stack((A_dynamicsa[t],B_dynamicsa[t]))\n",
    "    erra[t]=LA.norm((Augmenteda-AtBt),'fro')\n",
    "    \n",
    "#plt.plot(time[0:time.shape[0]],erra[0:time.shape[0]])"
   ]
  },
  {
   "cell_type": "code",
   "execution_count": 25,
   "id": "floating-wheel",
   "metadata": {},
   "outputs": [],
   "source": [
    "#Testing convergence of parameter estimation for mode b:\n",
    "#print(LA.norm((Augmented-AtBt),'fro'))\n",
    "errb=np.zeros((time.shape[0]))\n",
    "for t in range(time.shape[0]):\n",
    "    AtBt=np.column_stack((A_dynamicsb[t],B_dynamicsb[t]))\n",
    "    errb[t]=LA.norm((Augmentedb-AtBt),'fro')\n",
    "    \n",
    "#plt.plot(time[10:time.shape[0]],errb[10:time.shape[0]])"
   ]
  },
  {
   "cell_type": "code",
   "execution_count": 26,
   "id": "wicked-plumbing",
   "metadata": {},
   "outputs": [
    {
     "data": {
      "text/plain": [
       "7.42244079792391e-06"
      ]
     },
     "execution_count": 26,
     "metadata": {},
     "output_type": "execute_result"
    }
   ],
   "source": [
    "Final_Cost"
   ]
  },
  {
   "cell_type": "code",
   "execution_count": 27,
   "id": "moved-beach",
   "metadata": {},
   "outputs": [
    {
     "data": {
      "text/plain": [
       "22.267329816212527"
      ]
     },
     "execution_count": 27,
     "metadata": {},
     "output_type": "execute_result"
    }
   ],
   "source": [
    "Final_Cost_agg"
   ]
  },
  {
   "cell_type": "code",
   "execution_count": 88,
   "id": "paperback-folder",
   "metadata": {},
   "outputs": [
    {
     "data": {
      "text/plain": [
       "Text(0.5, 1.0, 'Learning the system parameters for mode 1')"
      ]
     },
     "execution_count": 88,
     "metadata": {},
     "output_type": "execute_result"
    },
    {
     "data": {
      "image/png": "[encoded data removed]",
      "text/plain": [
       "<Figure size 432x288 with 1 Axes>"
      ]
     },
     "metadata": {
      "needs_background": "light"
     },
     "output_type": "display_data"
    }
   ],
   "source": [
    "plt.plot(time[0:1100000],erra[0:1100000])\n",
    "plt.xlabel(\"time\")\n",
    "plt.ylabel(\"Frobenius norm of parameter estimation error\")\n",
    "plt.title(\"Learning the system parameters for mode 1\",fontsize=20)"
   ]
  },
  {
   "cell_type": "code",
   "execution_count": 89,
   "id": "linear-assembly",
   "metadata": {},
   "outputs": [
    {
     "data": {
      "text/plain": [
       "Text(0.5, 1.0, 'Learning the System Parameters for mode 2')"
      ]
     },
     "execution_count": 89,
     "metadata": {},
     "output_type": "execute_result"
    },
    {
     "data": {
      "image/png": "[encoded data removed]",
      "text/plain": [
       "<Figure size 432x288 with 1 Axes>"
      ]
     },
     "metadata": {
      "needs_background": "light"
     },
     "output_type": "display_data"
    }
   ],
   "source": [
    "plt.plot(time[0:1100000],errb[0:1100000])\n",
    "plt.xlabel(\"time\")\n",
    "plt.ylabel(\"Frobenius norm of parameter estimation error\")\n",
    "plt.title(\"Learning the System Parameters for mode 2\",fontsize=20)"
   ]
  },
  {
   "cell_type": "code",
   "execution_count": 30,
   "id": "extreme-reunion",
   "metadata": {},
   "outputs": [],
   "source": [
    "#Now we compare against the benchmark from Vijay Gupta's extension of the Riccati Equations based Optimal Policy\n",
    "\n",
    "\n",
    "#Ricatti Solver and testing the average cost with this\n",
    "\n",
    "Opt_x_dynamics=np.zeros((2,time.shape[0]))\n",
    "Opt_x_0=np.random.rand(2)\n",
    "Opt_x_dynamics[:,0]=Opt_x_0\n",
    "Opt_x_dynamics\n",
    "Opt_cost=np.zeros((time.shape[0]))\n",
    "Opt_cost_agg=np.zeros((time.shape[0]))\n",
    "Opt_x_norm=np.zeros((time.shape[0]))\n",
    "\n",
    "\n",
    "\n",
    "# Dynamic Programming for Riccati Solver Policies as in Vijay Gupta's MJLS notes: http://www.cds.caltech.edu/~murray/books/AM08/pdf/ncs-markjls_22Jan10.pdf\n",
    "\n",
    "\n",
    "P1=np.zeros((time.shape[0],2,2))\n",
    "K1=np.zeros((time.shape[0],2,2))\n",
    "P2=np.zeros((time.shape[0],2,2))\n",
    "K2=np.zeros((time.shape[0],2,2))\n",
    "#zero_init=np.zeros((2,2))\n",
    "for t in range((time.shape[0])):\n",
    "    P1[t]=np.zeros((2,2))\n",
    "    P2[t]=np.zeros((2,2))\n",
    "    K1[t]=np.zeros((2,2))\n",
    "    K2[t]=np.zeros((2,2))\n",
    "P1[time.shape[0]-1]=Q\n",
    "P2[time.shape[0]-1]=Q\n",
    "K1[time.shape[0]-1]=np.dot(np.dot(np.dot(np.linalg.inv(R+np.dot(np.dot(B1.T,Q),B1)),B1.T),Q),A1)\n",
    "K2[time.shape[0]-1]=np.dot(np.dot(np.dot(np.linalg.inv(R+np.dot(np.dot(B2.T,Q),B2)),B2.T),Q),A2)\n",
    "\n",
    "for t in range(1,time.shape[0]):\n",
    "    P1[time.shape[0]-t-1]=p*(Q+np.dot(A1.T,np.dot(P1[time.shape[0]-t],A1))-np.dot(np.dot(np.dot(np.dot(np.dot(np.dot(A1.T,P1[time.shape[0]-t].T),B1),np.linalg.inv(R+np.dot(B1.T,np.dot(P1[time.shape[0]-t],B1)))),B1.T),P1[time.shape[0]-t]),A1))+(1-p)*(Q+np.dot(A2.T,np.dot(P2[time.shape[0]-t],A2))-np.dot(np.dot(np.dot(np.dot(np.dot(np.dot(A2.T,P2[time.shape[0]-t].T),B2),np.linalg.inv(R+np.dot(B2.T,np.dot(P2[time.shape[0]-t],B2)))),B2.T),P2[time.shape[0]-t]),A2))\n",
    "    P2[time.shape[0]-t-1]=(1-q)*(Q+np.dot(A1.T,np.dot(P1[time.shape[0]-t],A1))-np.dot(np.dot(np.dot(np.dot(np.dot(np.dot(A1.T,P1[time.shape[0]-t].T),B1),np.linalg.inv(R+np.dot(B1.T,np.dot(P1[time.shape[0]-t],B1)))),B1.T),P1[time.shape[0]-t]),A1))+q*(Q+np.dot(A2.T,np.dot(P2[time.shape[0]-t],A2))-np.dot(np.dot(np.dot(np.dot(np.dot(np.dot(A2.T,P2[time.shape[0]-t].T),B2),np.linalg.inv(R+np.dot(B2.T,np.dot(P2[time.shape[0]-t],B2)))),B2.T),P2[time.shape[0]-t]),A2))\n",
    "    K1[time.shape[0]-t-1]=np.dot(np.dot(np.dot(np.linalg.inv(R+np.dot(np.dot(B1.T,P1[time.shape[0]-t]),B1)),B1.T),P1[time.shape[0]-t]),A1)\n",
    "    K2[time.shape[0]-t-1]=np.dot(np.dot(np.dot(np.linalg.inv(R+np.dot(np.dot(B2.T,P1[time.shape[0]-t]),B2)),B2.T),P2[time.shape[0]-t]),A2)\n",
    "\n",
    "\n",
    "\n",
    "\n",
    "\n",
    "\n",
    "\n",
    "\n",
    "\n",
    "\n",
    "\n"
   ]
  },
  {
   "cell_type": "code",
   "execution_count": 31,
   "id": "enhanced-exclusive",
   "metadata": {},
   "outputs": [],
   "source": [
    "#Now we run the Riccati Optimal Policies\n",
    "\n",
    "#First some initializations\n",
    "\n",
    "markov_state=0\n",
    "Opt_ms=np.zeros((time.shape[0]))\n",
    "Opt_ms[0]=0\n",
    "\n",
    "Opt_u_0= -K1[0].dot(Opt_x_0)\n",
    "\n",
    "Opt_c_0=Opt_x_0.dot((Q.dot(Opt_x_0)))+Opt_u_0.dot((R.dot(Opt_u_0)))\n",
    "\n",
    "Opt_cost[0]=Opt_c_0\n",
    "Opt_cost_agg[0]=Opt_c_0\n",
    "Opt_x_norm[0]=LA.norm(Opt_x_0,2)\n",
    "\n",
    "#Now we simulate the Markov Jump Dynamical System, this time playing optimally using Riccati Policies\n",
    "\n",
    "for t in range(1,time.shape[0]):\n",
    "    xprev=Opt_x_dynamics[:,t-1]\n",
    "    markov_state=Opt_ms[t-1]\n",
    "    if (markov_state==0):\n",
    "        uprev=-K1[t-1].dot(xprev)\n",
    "        markov_state=np.random.choice(2,1,p=[p,1-p])\n",
    "    else:\n",
    "        uprev=-K2[t-1].dot(xprev)\n",
    "        markov_state=np.random.choice(2,1,p=[1-q,q])    \n",
    "    if (markov_state==0):\n",
    "        xt=A1.dot(xprev)+B1.dot(uprev)+np.random.normal(0,np.sqrt(var1),xprev.shape)\n",
    "        ut=-K1[t].dot(xt)\n",
    "    else:\n",
    "        xt=A2.dot(xprev)+B2.dot(uprev)+np.random.normal(0,np.sqrt(var2),xprev.shape)\n",
    "        ut=-K2[t].dot(xt)\n",
    "    nct=xt.dot(Q.dot(xt))+ut.dot(R.dot(ut))\n",
    "    c=(Opt_cost[t-1]*(t)+nct)/(t+1)\n",
    "    Opt_x_norm[t]=LA.norm(xt,2)\n",
    "    Opt_cost[t]=c\n",
    "    Opt_cost_agg[t]=Opt_cost_agg[t-1]+nct\n",
    "    Opt_ms[t]=markov_state\n",
    "    Opt_x_dynamics[:,t]=xt\n",
    "\n",
    "Opt_Final_Cost=(Opt_cost[time.shape[0]-1]*(time.shape[0])+Opt_x_dynamics[:,time.shape[0]-1].dot(Q.dot(Opt_x_dynamics[:,time.shape[0]-1])))/(time.shape[0]+1)\n",
    "\n",
    "Opt_Final_Cost_agg=Opt_Final_Cost*(time.shape[0]+1)\n"
   ]
  },
  {
   "cell_type": "code",
   "execution_count": 36,
   "id": "assumed-parallel",
   "metadata": {},
   "outputs": [],
   "source": [
    "# The steady state probability for each mode \n",
    "pi_1=(1-q)/(1-p+1-q)\n",
    "pi_2=(1-p)/(1-p+1-q)"
   ]
  },
  {
   "cell_type": "code",
   "execution_count": 65,
   "id": "utility-stream",
   "metadata": {},
   "outputs": [],
   "source": [
    "#Der_Exp_Opt_Cost=pi_1*p*var1*np.trace(P1[0])+pi_2*(1-p)*var1*np.trace(P1[0])+pi_1*(1-q)*var2*np.trace(P2[0])+pi_2*q*var2*np.trace(P2[0])\n",
    "Der_Exp_Opt_Cost=pi_1*var1*np.trace(P1[0])+pi_2*var2*np.trace(P2[0])"
   ]
  },
  {
   "cell_type": "code",
   "execution_count": 66,
   "id": "alternative-myanmar",
   "metadata": {},
   "outputs": [
    {
     "name": "stdout",
     "output_type": "stream",
     "text": [
      "[7.42532249e-06]\n"
     ]
    }
   ],
   "source": [
    "print(Der_Exp_Opt_Cost)"
   ]
  },
  {
   "cell_type": "code",
   "execution_count": 67,
   "id": "macro-satisfaction",
   "metadata": {},
   "outputs": [
    {
     "data": {
      "text/plain": [
       "[<matplotlib.lines.Line2D at 0x1822ad370>]"
      ]
     },
     "execution_count": 67,
     "metadata": {},
     "output_type": "execute_result"
    },
    {
     "data": {
      "image/png": "[encoded data removed]",
      "text/plain": [
       "<Figure size 432x288 with 1 Axes>"
      ]
     },
     "metadata": {
      "needs_background": "light"
     },
     "output_type": "display_data"
    }
   ],
   "source": [
    "plt.plot(time[1000000:time.shape[0]],Opt_cost[1000000:time.shape[0]])"
   ]
  },
  {
   "cell_type": "code",
   "execution_count": 68,
   "id": "protective-glucose",
   "metadata": {},
   "outputs": [],
   "source": [
    "new_regret=np.zeros((time.shape[0]))\n",
    "for t in range((time.shape[0])):\n",
    "    new_regret[t]=cost[t]-Der_Exp_Opt_Cost                  \n",
    "    #avg_regret[t]*=(t+1)"
   ]
  },
  {
   "cell_type": "code",
   "execution_count": 93,
   "id": "connected-aging",
   "metadata": {},
   "outputs": [
    {
     "data": {
      "image/png": "[encoded data removed]",
      "text/plain": [
       "<Figure size 432x288 with 1 Axes>"
      ]
     },
     "metadata": {
      "needs_background": "light"
     },
     "output_type": "display_data"
    }
   ],
   "source": [
    "plt.plot(time[100:3000],new_regret[100:3000])\n",
    "plt.xlabel(\"time\")\n",
    "plt.ylabel(\"average regret\")\n",
    "plt.title(\"Average Regret of the Learning Algorithm\",fontsize=12)\n",
    "plt.show()"
   ]
  },
  {
   "cell_type": "code",
   "execution_count": 50,
   "id": "pacific-burden",
   "metadata": {},
   "outputs": [
    {
     "data": {
      "text/plain": [
       "7.52544330447001e-06"
      ]
     },
     "execution_count": 50,
     "metadata": {},
     "output_type": "execute_result"
    }
   ],
   "source": [
    "Opt_Final_Cost"
   ]
  },
  {
   "cell_type": "code",
   "execution_count": 51,
   "id": "infinite-communication",
   "metadata": {},
   "outputs": [],
   "source": [
    "#Sample Static Policy Run\n",
    "\n",
    "\n",
    "K=0.1*np.random.rand(2,2)\n",
    "\n",
    "\n",
    "Sample_x_dynamics=np.zeros((2,time.shape[0]))\n",
    "Sample_x_0=np.random.rand(2)\n",
    "Sample_x_dynamics[:,0]=Opt_x_0\n",
    "Sample_x_dynamics\n",
    "Sample_cost=np.zeros((time.shape[0]))\n",
    "Sample_cost_agg=np.zeros((time.shape[0]))\n",
    "Sample_x_norm=np.zeros((time.shape[0]))\n",
    "\n",
    "\n",
    "\n",
    "\n",
    "\n",
    "\n",
    "\n",
    "\n",
    "\n",
    "markov_state=0\n",
    "Sample_ms=np.zeros((time.shape[0]))\n",
    "Sample_ms[0]=0\n",
    "\n",
    "Sample_u_0= K.dot(Opt_x_0)\n",
    "\n",
    "Sample_c_0=Sample_x_0.dot((Q.dot(Sample_x_0)))+Sample_u_0.dot((R.dot(Sample_u_0)))\n",
    "\n",
    "Sample_cost[0]=Sample_c_0\n",
    "Sample_cost_agg[0]=Sample_c_0\n",
    "Sample_x_norm[0]=LA.norm(Sample_x_0,2)\n",
    "\n",
    "#Now we simulate the Markov Jump Dynamical System, this time playing optimally using Riccati Policies\n",
    "\n",
    "for t in range(1,time.shape[0]):\n",
    "    xprev=Sample_x_dynamics[:,t-1]\n",
    "    markov_state=Sample_ms[t-1]\n",
    "    if (markov_state==0):\n",
    "        uprev=K.dot(xprev)\n",
    "        markov_state=np.random.choice(2,1,p=[p,1-p])\n",
    "    else:\n",
    "        uprev=K.dot(xprev)\n",
    "        markov_state=np.random.choice(2,1,p=[1-q,q])    \n",
    "    if (markov_state==0):\n",
    "        xt=A1.dot(xprev)+B1.dot(uprev)+np.random.normal(0,np.sqrt(var1),xprev.shape)\n",
    "        ut=K.dot(xt)\n",
    "    else:\n",
    "        xt=A2.dot(xprev)+B2.dot(uprev)+np.random.normal(0,np.sqrt(var2),xprev.shape)\n",
    "        ut=K.dot(xt)\n",
    "    nct=xt.dot(Q.dot(xt))+ut.dot(R.dot(ut))\n",
    "    c=(Sample_cost[t-1]*(t)+nct)/(t+1)\n",
    "    Sample_x_norm[t]=LA.norm(xt,2)\n",
    "    Sample_cost[t]=c\n",
    "    Sample_cost_agg[t]=Sample_cost_agg[t-1]+nct\n",
    "    Sample_ms[t]=markov_state\n",
    "    Sample_x_dynamics[:,t]=xt\n",
    "\n",
    "Sample_Final_Cost=(Sample_cost[time.shape[0]-1]*(time.shape[0])+Sample_x_dynamics[:,time.shape[0]-1].dot(Q.dot(Sample_x_dynamics[:,time.shape[0]-1])))/(time.shape[0]+1)\n",
    "\n",
    "Sample_Final_Cost_agg=Sample_Final_Cost*(time.shape[0]+1)\n"
   ]
  },
  {
   "cell_type": "code",
   "execution_count": 52,
   "id": "thousand-hello",
   "metadata": {},
   "outputs": [
    {
     "data": {
      "image/png": "[encoded data removed]",
      "text/plain": [
       "<Figure size 576x432 with 1 Axes>"
      ]
     },
     "metadata": {
      "needs_background": "light"
     },
     "output_type": "display_data"
    }
   ],
   "source": [
    "# Initialise the figure and axes.\n",
    "#fig, ax = plt.subplots(1, figsize=(8, 6))\n",
    "\n",
    "\n",
    "# Set the title for the figure\n",
    "#fig.suptitle('Aggregate Costs of the three policies', fontsize=15)\n",
    "\n",
    "# Draw all the lines in the same plot, assigning a label for each one to be\n",
    "# shown in the legend.\n",
    "#ax.plot(time[0:700000], agg_cost_dynamics[0:700000], color=\"red\", label=\"Modified OSLO\")\n",
    "#ax.plot(time[0:700000], Opt_cost_agg[0:700000], color=\"green\", label=\"Ricatti Optimal\")\n",
    "#ax.plot(time[0:700000], Sample_cost_agg[0:700000], color=\"blue\", label=\"Sample Static Policy\")\n",
    "#ax.plot(time, agg_regret, color=\"red\", label=\"Sum Regret\")\n",
    "#ax.plot(time, avg_regret,color=\"black\", label=\"Average Regret\")\n",
    "# Add a legend, and position it on the lower right (with no box)\n",
    "#plt.legend(loc=\"lower right\", title=\"Legend\", frameon=False)\n",
    "\n",
    "#plt.show()\n"
   ]
  },
  {
   "cell_type": "code",
   "execution_count": 57,
   "id": "junior-river",
   "metadata": {},
   "outputs": [
    {
     "data": {
      "text/plain": [
       "array([[0.38531805, 0.01139385],\n",
       "       [0.01139385, 0.40266259]])"
      ]
     },
     "execution_count": 57,
     "metadata": {},
     "output_type": "execute_result"
    }
   ],
   "source": [
    "P1[1000]"
   ]
  },
  {
   "cell_type": "code",
   "execution_count": 58,
   "id": "certified-asbestos",
   "metadata": {},
   "outputs": [
    {
     "data": {
      "text/plain": [
       "array([[0.38531805, 0.01139385],\n",
       "       [0.01139385, 0.40266259]])"
      ]
     },
     "execution_count": 58,
     "metadata": {},
     "output_type": "execute_result"
    }
   ],
   "source": [
    "P1[1000000]"
   ]
  },
  {
   "cell_type": "code",
   "execution_count": 59,
   "id": "confirmed-territory",
   "metadata": {},
   "outputs": [
    {
     "data": {
      "text/plain": [
       "array([[0.38144483, 0.01226009],\n",
       "       [0.01226009, 0.39883026]])"
      ]
     },
     "execution_count": 59,
     "metadata": {},
     "output_type": "execute_result"
    }
   ],
   "source": [
    "P1[2999999]"
   ]
  },
  {
   "cell_type": "code",
   "execution_count": 60,
   "id": "scheduled-tuesday",
   "metadata": {},
   "outputs": [
    {
     "data": {
      "text/plain": [
       "array([[0.38531805, 0.01139385],\n",
       "       [0.01139385, 0.40266259]])"
      ]
     },
     "execution_count": 60,
     "metadata": {},
     "output_type": "execute_result"
    }
   ],
   "source": [
    "P1[0]"
   ]
  },
  {
   "cell_type": "code",
   "execution_count": 61,
   "id": "surrounded-worcester",
   "metadata": {},
   "outputs": [
    {
     "data": {
      "text/plain": [
       "array([[0.38437631, 0.0133146 ],\n",
       "       [0.0133146 , 0.40226816]])"
      ]
     },
     "execution_count": 61,
     "metadata": {},
     "output_type": "execute_result"
    }
   ],
   "source": [
    "P2[1000]"
   ]
  },
  {
   "cell_type": "code",
   "execution_count": 62,
   "id": "clinical-removal",
   "metadata": {},
   "outputs": [
    {
     "data": {
      "text/plain": [
       "array([[0.38437631, 0.0133146 ],\n",
       "       [0.0133146 , 0.40226816]])"
      ]
     },
     "execution_count": 62,
     "metadata": {},
     "output_type": "execute_result"
    }
   ],
   "source": [
    "P2[1000000]"
   ]
  },
  {
   "cell_type": "code",
   "execution_count": 63,
   "id": "exciting-cradle",
   "metadata": {},
   "outputs": [
    {
     "data": {
      "text/plain": [
       "array([[0.38144483, 0.01226009],\n",
       "       [0.01226009, 0.39883026]])"
      ]
     },
     "execution_count": 63,
     "metadata": {},
     "output_type": "execute_result"
    }
   ],
   "source": [
    "P2[2999999]"
   ]
  },
  {
   "cell_type": "code",
   "execution_count": 64,
   "id": "legendary-journalism",
   "metadata": {},
   "outputs": [
    {
     "data": {
      "text/plain": [
       "array([[0.38437631, 0.0133146 ],\n",
       "       [0.0133146 , 0.40226816]])"
      ]
     },
     "execution_count": 64,
     "metadata": {},
     "output_type": "execute_result"
    }
   ],
   "source": [
    "P2[0]"
   ]
  },
  {
   "cell_type": "code",
   "execution_count": null,
   "id": "hollow-purchase",
   "metadata": {},
   "outputs": [],
   "source": []
  }
 ],
 "metadata": {
  "kernelspec": {
   "display_name": "Python 3",
   "language": "python",
   "name": "python3"
  },
  "language_info": {
   "codemirror_mode": {
    "name": "ipython",
    "version": 3
   },
   "file_extension": ".py",
   "mimetype": "text/x-python",
   "name": "python",
   "nbconvert_exporter": "python",
   "pygments_lexer": "ipython3",
   "version": "3.9.2"
  }
 },
 "nbformat": 4,
 "nbformat_minor": 5
}
