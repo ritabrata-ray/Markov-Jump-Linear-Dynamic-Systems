{
 "cells": [
  {
   "cell_type": "code",
   "execution_count": 1,
   "id": "assured-election",
   "metadata": {},
   "outputs": [],
   "source": [
    "import numpy as np\n",
    "from scipy.signal import StateSpace, lsim\n",
    "import matplotlib.pyplot as plt\n",
    "from numpy import linalg as LA\n",
    "import cvxpy as cp\n",
    "import dill"
   ]
  },
  {
   "cell_type": "code",
   "execution_count": 2,
   "id": "incoming-consolidation",
   "metadata": {},
   "outputs": [],
   "source": [
    "#dill.load_session('notebook_env.db')       #Uncomment it to load previous session"
   ]
  },
  {
   "cell_type": "code",
   "execution_count": 3,
   "id": "finite-brown",
   "metadata": {},
   "outputs": [],
   "source": [
    "p=0.2\n",
    "q=0.3\n",
    "M=np.matrix([[p,1-p],[1-q,q]])\n",
    "\n",
    "\n",
    "infeasibility_flag=0\n"
   ]
  },
  {
   "cell_type": "code",
   "execution_count": 4,
   "id": "natural-gossip",
   "metadata": {},
   "outputs": [],
   "source": [
    "# We write a function to compute ridge regression for matrices for system parameter estimation\n",
    "\n",
    "def square_matrix_ridge_regression(X,Y,Astar,lmda,beeta):\n",
    "    t=1+X.shape[1]\n",
    "    D=lmda*np.array([[1,0,0,0],[0,1,0,0],[0,0,1,0],[0,0,0,1]])\n",
    "    C=lmda*Astar\n",
    "    for s in range(1,t):\n",
    "        xs=X[:,s-1]\n",
    "        ys=Y[:,s-1]\n",
    "        C=C+(1/beeta)*np.outer(ys,xs)\n",
    "        D=D+(1/beeta)*np.outer(xs,xs)\n",
    "    return C.dot(np.linalg.inv(D))"
   ]
  },
  {
   "cell_type": "code",
   "execution_count": 5,
   "id": "historic-senegal",
   "metadata": {},
   "outputs": [],
   "source": [
    "# A function for the big dot\n",
    "\n",
    "def big_dot(A,B):\n",
    "    return np.trace(np.dot(A.T,B))\n"
   ]
  },
  {
   "cell_type": "code",
   "execution_count": 6,
   "id": "extraordinary-anger",
   "metadata": {},
   "outputs": [],
   "source": [
    "# Function for the SDP solver\n",
    "\n",
    "def SDP_solver(At,Bt,Vt,W,mu):\n",
    "    Vtinv=np.linalg.inv(Vt)\n",
    "    Sigma=cp.Variable((n,n))\n",
    "    sxx=cp.Variable((2,2))\n",
    "    suu=cp.Variable((2,2))\n",
    "    constraints=[Sigma>>0]\n",
    "    bigI=np.array([[1,0,0,0],[0,1,0,0],[0,0,1,0],[0,0,0,1]])\n",
    "    ABt=np.column_stack((At,Bt))\n",
    "    #Cost_Coefficient=np.array([[Q,[[1,0],[0,1]]],[[[1,0],[0,1]],R]])\n",
    "    I=np.array([[1,0],[0,1]])\n",
    "    \n",
    "    Left=np.array([[1,0,0,0],[0,1,0,0]])\n",
    "    Right=np.array([[1,0],[0,1],[0,0],[0,0]])\n",
    "    \n",
    "    constraints+=[ sxx  >> (((ABt)@Sigma)@(ABt.T))+W-mu*cp.trace((Sigma.T)@(Vtinv))*I ]\n",
    "    \n",
    "    constraints+=[ sxx == (Left@Sigma)@Right  ]\n",
    "    \n",
    "    Lefty=np.array([[0,0,1,0],[0,0,0,1]])\n",
    "    Righty=np.array([[0,0],[0,0],[1,0],[0,1]])\n",
    "    \n",
    "    constraints+=[ suu == (Lefty@Sigma)@Righty  ]\n",
    "    \n",
    "    prob = cp.Problem(cp.Minimize(cp.trace(sxx.T @ Q + suu.T @ R)),constraints)\n",
    "    prob.solve()\n",
    "    if(Sigma.value is None):\n",
    "        infeasibility_flag=1\n",
    "        print(prob.value)\n",
    "        print(\"Infeasibilty_flag value is: \",infeasibility_flag)\n",
    "        return (bigI)\n",
    "    else:\n",
    "        infeasibility_flag=0\n",
    "    \n",
    "        #print(\"Infeasibilty_flag value is: \",infeasibility_flag)\n",
    "        return (Sigma.value)\n"
   ]
  },
  {
   "cell_type": "code",
   "execution_count": 7,
   "id": "minor-award",
   "metadata": {},
   "outputs": [
    {
     "data": {
      "text/plain": [
       "(array([0.22323657, 0.99045201]), array([0.39731452, 0.11762461]))"
      ]
     },
     "execution_count": 7,
     "metadata": {},
     "output_type": "execute_result"
    }
   ],
   "source": [
    "a=np.random.rand(2)\n",
    "b=np.random.rand(2)\n",
    "a,b"
   ]
  },
  {
   "cell_type": "code",
   "execution_count": 8,
   "id": "smaller-transcription",
   "metadata": {},
   "outputs": [],
   "source": [
    "Q=np.outer(a,a)\n",
    "R=np.outer(b,b)\n",
    "\n",
    "\n",
    "pd1=0.5*np.random.rand(1)\n",
    "pd2=0.5*np.random.rand(1)\n",
    "\n",
    "I=np.array([[1,0],[0,1]])\n",
    "\n",
    "Q=Q+pd1*I\n",
    "R=R+pd2*I\n",
    "\n",
    "mode_difference_std_dev=0.5"
   ]
  },
  {
   "cell_type": "code",
   "execution_count": 9,
   "id": "mighty-borough",
   "metadata": {},
   "outputs": [],
   "source": [
    "A1=np.random.rand(2,2)\n",
    "B1=np.random.rand(2,2)\n",
    "A2=A1+np.random.normal(0,mode_difference_std_dev,A1.shape)\n",
    "B2=B1+np.random.normal(0,mode_difference_std_dev,B1.shape)\n",
    "#var1=0.01*np.random.rand(1)  Original\n",
    "#var2=0.01*np.random.rand(1)  Original\n",
    "var1=0.001*np.random.rand(1)  #Trying low noise\n",
    "var2=0.001*np.random.rand(1)  #TRying low noise\n",
    "K=np.random.rand(2,2)\n",
    "\n",
    "\n",
    "\n",
    "#scale=0.1\n",
    "\n",
    "scale1=0.1\n",
    "scale2=0.1\n",
    "K=scale1*K\n",
    "A1=scale1*A1\n",
    "A2=scale2*A2\n",
    "B1=scale1*B1\n",
    "B2=scale2*B2\n",
    "var1=scale1*scale1*var1\n",
    "var2=scale2*scale2*var2\n"
   ]
  },
  {
   "cell_type": "code",
   "execution_count": 10,
   "id": "headed-center",
   "metadata": {},
   "outputs": [
    {
     "data": {
      "text/plain": [
       "0.09159062583209777"
      ]
     },
     "execution_count": 10,
     "metadata": {},
     "output_type": "execute_result"
    }
   ],
   "source": [
    "LA.norm(A1+B1.dot(K),2)\n"
   ]
  },
  {
   "cell_type": "code",
   "execution_count": 11,
   "id": "boolean-oasis",
   "metadata": {},
   "outputs": [
    {
     "data": {
      "text/plain": [
       "0.0733698662726976"
      ]
     },
     "execution_count": 11,
     "metadata": {},
     "output_type": "execute_result"
    }
   ],
   "source": [
    "LA.norm(A2+B2.dot(K),2)"
   ]
  },
  {
   "cell_type": "code",
   "execution_count": 12,
   "id": "amber-denver",
   "metadata": {},
   "outputs": [],
   "source": [
    "time=np.arange(0,3000,1e-3)\n",
    "time.shape\n",
    "cost=np.zeros((time.shape[0]))\n",
    "x_norm=np.zeros((time.shape[0]))"
   ]
  },
  {
   "cell_type": "code",
   "execution_count": 13,
   "id": "genetic-variation",
   "metadata": {},
   "outputs": [
    {
     "name": "stdout",
     "output_type": "stream",
     "text": [
      "3.1286182648143787e-06\n",
      "9.385857923061401\n"
     ]
    }
   ],
   "source": [
    "#Here we run the previous Riccati to empirically find a safe nu, note we use a random policy K instead of the Riccati\n",
    "# equation based optimal policy to get a safe upper bound and find all the hyperparameters for both modes a and b.\n",
    "\n",
    "\n",
    "\n",
    "#Starting Mode a\n",
    "\n",
    "x_dynamicsa=np.zeros((2,time.shape[0]))\n",
    "x_0a=np.random.rand(2)\n",
    "x_dynamicsa[:,0]=x_0a\n",
    "\n",
    "\n",
    "u_0a=K.dot(x_0a)\n",
    "\n",
    "costa=np.zeros((time.shape[0]))\n",
    "x_norma=np.zeros((time.shape[0]))\n",
    "\n",
    "c_0a=x_0a.dot((Q.dot(x_0a)))+u_0a.dot((R.dot(u_0a)))\n",
    "\n",
    "costa[0]=c_0a\n",
    "x_norma[0]=LA.norm(x_0a,2)\n",
    "\n",
    "for t in range(1,time.shape[0]):\n",
    "    xprev=x_dynamicsa[:,t-1]\n",
    "    uprev=K.dot(xprev)\n",
    "    xt=A1.dot(xprev)+B1.dot(uprev)+np.random.normal(0,np.sqrt(var1),xprev.shape)\n",
    "    ut=K.dot(xt)\n",
    "    ct=xt.dot(Q.dot(xt))+ut.dot(R.dot(ut))\n",
    "    c=(costa[t-1]*(t)+ct)/(t+1)\n",
    "    x_norma[t]=LA.norm(xt,2)\n",
    "    costa[t]=c\n",
    "    x_dynamicsa[:,t]=xt\n",
    "    \n",
    "Final_Costa=(costa[time.shape[0]-1]*(time.shape[0])+x_dynamicsa[:,time.shape[0]-1].dot(Q.dot(x_dynamicsa[:,time.shape[0]-1])))/(time.shape[0]+1)\n",
    "\n",
    "Final_Costa_agg=Final_Costa*(time.shape[0]+1)\n",
    "\n",
    "print(Final_Costa)\n",
    "\n",
    "print(Final_Costa_agg)\n"
   ]
  },
  {
   "cell_type": "code",
   "execution_count": 14,
   "id": "instant-garlic",
   "metadata": {},
   "outputs": [
    {
     "name": "stdout",
     "output_type": "stream",
     "text": [
      "6.644989025404693e-06\n",
      "19.934973721203104\n"
     ]
    }
   ],
   "source": [
    "#Now for Mode b\n",
    "\n",
    "x_dynamicsb=np.zeros((2,time.shape[0]))\n",
    "x_0b=np.random.rand(2)\n",
    "x_dynamicsb[:,0]=x_0b\n",
    "\n",
    "\n",
    "u_0b=K.dot(x_0b)\n",
    "\n",
    "costb=np.zeros((time.shape[0]))\n",
    "x_normb=np.zeros((time.shape[0]))\n",
    "\n",
    "c_0b=x_0b.dot((Q.dot(x_0b)))+u_0b.dot((R.dot(u_0b)))\n",
    "\n",
    "costb[0]=c_0b\n",
    "x_normb[0]=LA.norm(x_0b,2)\n",
    "\n",
    "for t in range(1,time.shape[0]):\n",
    "    xprev=x_dynamicsb[:,t-1]\n",
    "    uprev=K.dot(xprev)\n",
    "    xt=A2.dot(xprev)+B2.dot(uprev)+np.random.normal(0,np.sqrt(var2),xprev.shape)\n",
    "    ut=K.dot(xt)\n",
    "    ct=xt.dot(Q.dot(xt))+ut.dot(R.dot(ut))\n",
    "    c=(costb[t-1]*(t)+ct)/(t+1)\n",
    "    x_normb[t]=LA.norm(xt,2)\n",
    "    costb[t]=c\n",
    "    x_dynamicsb[:,t]=xt\n",
    "    \n",
    "Final_Costb=(costb[time.shape[0]-1]*(time.shape[0])+x_dynamicsb[:,time.shape[0]-1].dot(Q.dot(x_dynamicsb[:,time.shape[0]-1])))/(time.shape[0]+1)\n",
    "\n",
    "Final_Costb_agg=Final_Costb*(time.shape[0]+1)\n",
    "\n",
    "print(Final_Costb)\n",
    "\n",
    "print(Final_Costb_agg)\n"
   ]
  },
  {
   "cell_type": "code",
   "execution_count": 15,
   "id": "configured-ottawa",
   "metadata": {},
   "outputs": [
    {
     "name": "stdout",
     "output_type": "stream",
     "text": [
      "3.128618358577354e-06\n"
     ]
    }
   ],
   "source": [
    "print(costa[time.shape[0]-1])"
   ]
  },
  {
   "cell_type": "code",
   "execution_count": 16,
   "id": "stone-palace",
   "metadata": {},
   "outputs": [
    {
     "name": "stdout",
     "output_type": "stream",
     "text": [
      "6.6449910441997855e-06\n"
     ]
    }
   ],
   "source": [
    "print(costb[time.shape[0]-1])"
   ]
  },
  {
   "cell_type": "code",
   "execution_count": 17,
   "id": "variable-antique",
   "metadata": {},
   "outputs": [
    {
     "name": "stdout",
     "output_type": "stream",
     "text": [
      "[ 0.00075093 -0.00140748]\n",
      "1.872177295670858e-06\n"
     ]
    }
   ],
   "source": [
    "noise_sample=np.random.normal(0,np.sqrt(var2),xprev.shape)\n",
    "print(noise_sample)\n",
    "\n",
    "control_noise_sample=K.dot(noise_sample)\n",
    "\n",
    "cost_noise=noise_sample.dot(Q.dot(noise_sample))+control_noise_sample.dot(R.dot(control_noise_sample))\n",
    "print(cost_noise)"
   ]
  },
  {
   "cell_type": "code",
   "execution_count": 18,
   "id": "special-mercy",
   "metadata": {},
   "outputs": [
    {
     "data": {
      "text/plain": [
       "0.7800494845831847"
      ]
     },
     "execution_count": 18,
     "metadata": {},
     "output_type": "execute_result"
    }
   ],
   "source": [
    "x_normb[0]"
   ]
  },
  {
   "cell_type": "code",
   "execution_count": 19,
   "id": "personal-rebate",
   "metadata": {},
   "outputs": [],
   "source": [
    "#Now we set the hyperparameters for the OSLO Algorithm, alpha0 and alpha1 are same for both modes.\n",
    "\n",
    "\n",
    "n=4 #n=k+d=2+2=4\n",
    "\n",
    "delta=0.1\n",
    "\n",
    "q1,q2=LA.eigh(Q)\n",
    "r1,r2=LA.eigh(R)\n",
    "\n",
    "\n",
    "minq=np.amin(q1)\n",
    "maxq=np.amax(q1)\n",
    "minr=np.amin(r1)\n",
    "maxr=np.amax(r1)\n",
    "\n",
    "\n",
    "\n",
    "alpha0=min(minq,minr)\n",
    "\n",
    "alpha1=max(maxq,maxr)\n",
    "\n",
    "Augmenteda=np.column_stack((A1,B1))\n",
    "\n",
    "nua=0.0005  #Experimental value from repeatedly upper bounding last to last cell\n",
    "\n",
    "          #based on the above experiment running the previous block several times, the average cost on convergence is\n",
    "\n",
    "         # always upper bounded by the value of nu chosen so J* is definitely upper bounded by it \n",
    "\n",
    "vhia=LA.norm(Augmenteda,2)\n",
    "\n",
    "\n",
    "\n",
    "\n",
    "\n",
    "Augmentedb=np.column_stack((A2,B2))\n",
    "\n",
    "nub=0.0005  #Experimental value from repeatedly upper bounding last cell\n",
    "\n",
    "          #based on the above experiment running the previous block several times, the average cost on convergence is\n",
    "\n",
    "         # always upper bounded by the value of nu chosen so J* is definitely upper bounded by it \n",
    "\n",
    "vhib=LA.norm(Augmentedb,2)\n",
    "\n"
   ]
  },
  {
   "cell_type": "code",
   "execution_count": 20,
   "id": "classified-packing",
   "metadata": {},
   "outputs": [
    {
     "name": "stdout",
     "output_type": "stream",
     "text": [
      "1058.0056970245778 1000000 1e-07\n",
      "[[1000000       0       0       0]\n",
      " [      0 1000000       0       0]\n",
      " [      0       0 1000000       0]\n",
      " [      0       0       0 1000000]]\n",
      "1707.1023229898992 1000000 1e-07\n",
      "[[1000000       0       0       0]\n",
      " [      0 1000000       0       0]\n",
      " [      0       0 1000000       0]\n",
      " [      0       0       0 1000000]]\n"
     ]
    }
   ],
   "source": [
    "#Line 2 of the algorithm; initializing parameters\n",
    "\n",
    "mua=5*vhia*np.sqrt(time.shape[0])\n",
    "\n",
    "\n",
    "lamdaa=(2048*np.power(nua,5)*vhia*np.sqrt(time.shape[0]))/(np.power(alpha0,5)*np.power(var1,5))\n",
    "\n",
    "betaa=(256*1024*np.power(nua,4)*n*n*np.log((time.shape[0])/delta))/(np.power(alpha0,4)*np.power(var1,3))\n",
    "\n",
    "bigI=np.array([[1,0,0,0],[0,1,0,0],[0,0,1,0],[0,0,0,1]])\n",
    "\n",
    "\n",
    "#Manually setting lamda and beta\n",
    "\n",
    "lamdaa=1000000\n",
    "\n",
    "betaa=0.0000001\n",
    "\n",
    "#Try beta = 1 and lamda=0.01,0.1 both\n",
    "\n",
    "#manual setting done\n",
    "\n",
    "\n",
    "V1a=lamdaa*bigI\n",
    "\n",
    "\n",
    "\n",
    "print(mua,lamdaa,betaa)\n",
    "\n",
    "print(V1a)\n",
    "\n",
    "\n",
    "#The other mode\n",
    "\n",
    "mub=5*vhib*np.sqrt(time.shape[0])\n",
    "\n",
    "lamdab=(2048*np.power(nub,5)*vhib*np.sqrt(time.shape[0]))/(np.power(alpha0,5)*np.power(var2,5))\n",
    "\n",
    "betab=(256*1024*np.power(nub,4)*n*n*np.log((time.shape[0])/delta))/(np.power(alpha0,4)*np.power(var2,3))\n",
    "\n",
    "\n",
    "\n",
    "#Manually setting lamda and beta\n",
    "\n",
    "lamdab=1000000\n",
    "\n",
    "betab=0.0000001\n",
    "\n",
    "#manual setting done\n",
    "\n",
    "\n",
    "V1b=lamdab*np.array([[1,0,0,0],[0,1,0,0],[0,0,1,0],[0,0,0,1]])\n",
    "\n",
    "\n",
    "\n",
    "print(mub,lamdab,betab)\n",
    "\n",
    "print(V1b)\n",
    "\n",
    "\n",
    "\n"
   ]
  },
  {
   "cell_type": "code",
   "execution_count": 21,
   "id": "public-links",
   "metadata": {},
   "outputs": [],
   "source": [
    "# We set further parameters for input of the algorithm (1st line in the paper)\n",
    "\n",
    "\n",
    "delta=0.1\n",
    "\n",
    "epsilona=1/(4*lamdaa)\n",
    "\n",
    "epsa=0.007 #Manually chosen epsilon\n",
    "\n",
    "A0a=A1+np.sqrt(epsa/n)*np.random.rand(2,2)\n",
    "\n",
    "B0a=B1+np.sqrt(epsa/n)*np.random.rand(2,2)\n",
    "\n",
    "Wa=var1*I\n",
    "\n",
    "epsilonb=1/(4*lamdab)\n",
    "\n",
    "epsb=0.007 #Manually chosen epsilon\n",
    "\n",
    "A0b=A2+np.sqrt(epsb/n)*np.random.rand(2,2)\n",
    "\n",
    "B0b=B2+np.sqrt(epsb/n)*np.random.rand(2,2)\n",
    "\n",
    "Wb=var2*I\n",
    "\n"
   ]
  },
  {
   "cell_type": "code",
   "execution_count": 22,
   "id": "alternative-sauce",
   "metadata": {},
   "outputs": [
    {
     "name": "stdout",
     "output_type": "stream",
     "text": [
      "WARN: m less than n, problem likely degenerate\n",
      "WARN: m less than n, problem likely degenerate\n"
     ]
    }
   ],
   "source": [
    "#Now we prepare to run the dynamical system with policies as dictated by OSLO algorithm\n",
    "\n",
    "x_dynamics=np.zeros((2,time.shape[0]+1))\n",
    "z_dynamics=np.zeros((4,time.shape[0]+1))\n",
    "x_0=(0.1)*np.random.rand(2)\n",
    "x_dynamics[:,0]=x_0\n",
    "z_dynamics[0:2,0]=x_0\n",
    "\n",
    "#Now we assume the system begins at mode a\n",
    "\n",
    "acount=1\n",
    "bcount=0\n",
    "\n",
    "#K0=np.random.rand(2,2)\n",
    "#u_0=K0.dot(x_0)\n",
    "#z_dynamics[2:4,0]=u_0\n",
    "\n",
    "\n",
    "\n",
    "\n",
    "x_dynamicsa=np.zeros((2,time.shape[0]+1))\n",
    "z_dynamicsa=np.zeros((4,time.shape[0]+1))\n",
    "\n",
    "x_dynamicsb=np.zeros((2,time.shape[0]+1))\n",
    "z_dynamicsb=np.zeros((4,time.shape[0]+1))\n",
    "\n",
    "x_dynamicsa[:,0]=x_0\n",
    "z_dynamicsa[0:2,0]=x_0\n",
    "\n",
    "#z_dynamicsb[0:2,0]=x_0\n",
    "#z_dynamicsa[2:4,0]=u_0\n",
    "\n",
    "\n",
    "\n",
    "\n",
    "\n",
    "\n",
    "\n",
    "\n",
    "A_dynamicsa=np.zeros((time.shape[0]+1,2,2))\n",
    "B_dynamicsa=np.zeros((time.shape[0]+1,2,2))\n",
    "K_dynamicsa=np.zeros((time.shape[0]+1,2,2))\n",
    "\n",
    "A_dynamicsa[0]=A0a\n",
    "B_dynamicsa[0]=B0a\n",
    "#K_dynamicsa[0]=K0\n",
    "\n",
    "V_dynamicsa=np.zeros((time.shape[0]+1,4,4))\n",
    "V_dynamicsa[0]=V1a\n",
    "\n",
    "Sigma_0a=SDP_solver(A_dynamicsa[0],B_dynamicsa[0],V_dynamicsa[0],Wa,mua)\n",
    "\n",
    "Left=np.array([[1,0,0,0],[0,1,0,0]])\n",
    "Right=np.array([[1,0],[0,1],[0,0],[0,0]])\n",
    "\n",
    "#Do this correction while running as well, for policy computation take sigma_xx first and then take its inverse\n",
    "\n",
    "\n",
    "Sigma_0_xx=(Left.dot(Sigma_0a)).dot(Right)\n",
    "Sigma_0_xx_inv=np.linalg.inv(Sigma_0_xx)\n",
    "K0a=(Sigma_0a[2:4,0:2]).dot((Sigma_0_xx_inv))\n",
    "\n",
    "K_dynamicsa[0]=K0a\n",
    "\n",
    "u_0=K0a.dot(x_0)\n",
    "z_dynamicsa[2:4,0]=u_0\n",
    "\n",
    "\n",
    "\n",
    "\n",
    "\n",
    "\n",
    "\n",
    "\n",
    "cost=np.zeros((time.shape[0]+1))\n",
    "agg_cost_dynamics=np.zeros((time.shape[0]+1))\n",
    "z_norm=np.zeros((time.shape[0]+1))\n",
    "x_norm=np.zeros((time.shape[0]+1))\n",
    "c_0=x_0.dot((Q.dot(x_0)))+u_0.dot((R.dot(u_0)))\n",
    "\n",
    "\n",
    "cost[0]=c_0\n",
    "agg_cost_dynamics[0]=c_0\n",
    "\n",
    "x_1=A1.dot(x_0)+B1.dot(u_0)+np.random.normal(0,np.sqrt(var1),x_0.shape)\n",
    "\n",
    "z_norm[0]=LA.norm(z_dynamicsa[:,0],2)\n",
    "x_norm[0]=LA.norm(x_0,2)\n",
    "\n",
    "x_dynamicsa[:,1]=x_1\n",
    "\n",
    "x_norm[1]=LA.norm(x_1,2)\n",
    "\n",
    "\n",
    "z0=z_dynamicsa[:,0]\n",
    "\n",
    "z_dynamics[:,0]=z0\n",
    "x_dynamics[:,1]=x_1\n",
    "\n",
    "V_dynamicsa[1]=V_dynamicsa[0]+(1/betaa)*np.outer(z0,z0)\n",
    "\n",
    "#Episode index is tau, and we need to start an episode at the beginning\n",
    "\n",
    "taua=0\n",
    "\n",
    "#Now all the intializations are done for mode a, so we repeat the same for mode b\n",
    "\n",
    "\n",
    "\n",
    "A_dynamicsb=np.zeros((time.shape[0]+1,2,2))\n",
    "B_dynamicsb=np.zeros((time.shape[0]+1,2,2))\n",
    "K_dynamicsb=np.zeros((time.shape[0]+1,2,2))\n",
    "\n",
    "A_dynamicsb[0]=A0b\n",
    "B_dynamicsb[0]=B0b\n",
    "#K_dynamicsb[0]=K0a #We need this policy to run when mode B is encountered first it just needs to be any policy(??)\n",
    "\n",
    "V_dynamicsb=np.zeros((time.shape[0]+1,4,4))\n",
    "V_dynamicsb[0]=V1b\n",
    "\n",
    "\n",
    "\n",
    "Sigma_0b=SDP_solver(A_dynamicsb[0],B_dynamicsb[0],V_dynamicsb[0],Wb,mub)\n",
    "\n",
    "Left=np.array([[1,0,0,0],[0,1,0,0]])\n",
    "Right=np.array([[1,0],[0,1],[0,0],[0,0]])\n",
    "\n",
    "#Do this correction while running as well, for policy computation take sigma_xx first and then take its inverse\n",
    "\n",
    "\n",
    "Sigma_0_xx=(Left.dot(Sigma_0b)).dot(Right)\n",
    "Sigma_0_xx_inv=np.linalg.inv(Sigma_0_xx)\n",
    "K0b=(Sigma_0b[2:4,0:2]).dot((Sigma_0_xx_inv))\n",
    "\n",
    "K_dynamicsb[0]=K0b\n",
    "\n",
    "#u_0=K0b.dot(x_0)\n",
    "#z_dynamicsb[2:4,0]=u_0\n",
    "#z_dynamicsb[0:2,0]=x_0\n",
    "\n",
    "\n",
    "#z0=z_dynamicsb[:,0]\n",
    "\n",
    "\n",
    "\n",
    "#V_dynamicsb[1]=V_dynamicsb[0]+(1/betab)*np.outer(z0,z0)\n",
    "\n",
    "\n",
    "#V_dynamicsb[1]=V_dynamicsb[0]\n",
    "\n",
    "\n",
    "\n",
    "#V_dynamicsb[1]=V_dynamicsb[0]+(1/betab)*np.outer(z0,z0)\n",
    "\n",
    "#Episode index is tau, and we need to start an episode at the beginning\n",
    "\n",
    "taub=0\n",
    "\n"
   ]
  },
  {
   "cell_type": "code",
   "execution_count": 23,
   "id": "photographic-bulgarian",
   "metadata": {},
   "outputs": [
    {
     "name": "stdout",
     "output_type": "stream",
     "text": [
      "WARN: m less than n, problem likely degenerate\n",
      "9082\n",
      "a\n",
      "[[-0.01033147 -0.00430267]\n",
      " [-0.02342626 -0.01043816]]\n",
      "WARN: m less than n, problem likely degenerate\n",
      "14507\n",
      "b\n",
      "[[-0.00480069 -0.00877627]\n",
      " [-0.00649979 -0.01069113]]\n",
      "WARN: m less than n, problem likely degenerate\n",
      "22684\n",
      "a\n",
      "[[-0.00995674 -0.00331842]\n",
      " [-0.02264001 -0.00823408]]\n",
      "WARN: m less than n, problem likely degenerate\n",
      "35140\n",
      "b\n",
      "[[-0.00344089 -0.00676545]\n",
      " [-0.00478195 -0.0080979 ]]\n",
      "WARN: m less than n, problem likely degenerate\n",
      "42025\n",
      "a\n",
      "[[-0.0093847  -0.00303636]\n",
      " [-0.02126871 -0.00749695]]\n",
      "WARN: m less than n, problem likely degenerate\n",
      "64116\n",
      "b\n",
      "[[-0.00288614 -0.00554681]\n",
      " [-0.0040693  -0.00651232]]\n",
      "WARN: m less than n, problem likely degenerate\n",
      "69568\n",
      "a\n",
      "[[-0.0092891  -0.00311034]\n",
      " [-0.02088113 -0.00755962]]\n",
      "WARN: m less than n, problem likely degenerate\n",
      "104975\n",
      "b\n",
      "[[-0.00362126 -0.00486386]\n",
      " [-0.00500901 -0.00565862]]\n",
      "WARN: m less than n, problem likely degenerate\n",
      "108170\n",
      "a\n",
      "[[-0.0093833  -0.00291547]\n",
      " [-0.02106516 -0.00724959]]\n",
      "WARN: m less than n, problem likely degenerate\n",
      "162638\n",
      "b\n",
      "[[-0.00380911 -0.00382122]\n",
      " [-0.00523124 -0.00431237]]\n",
      "WARN: m less than n, problem likely degenerate\n",
      "162825\n",
      "a\n",
      "[[-0.00930195 -0.00297194]\n",
      " [-0.02083202 -0.0073465 ]]\n",
      "WARN: m less than n, problem likely degenerate\n",
      "243962\n",
      "b\n",
      "[[-0.00419362 -0.00360417]\n",
      " [-0.00571559 -0.00404885]]\n",
      "WARN: m less than n, problem likely degenerate\n",
      "239820\n",
      "a\n",
      "[[-0.00919344 -0.00293681]\n",
      " [-0.02060399 -0.00718395]]\n",
      "WARN: m less than n, problem likely degenerate\n",
      "360053\n",
      "b\n",
      "[[-0.00445912 -0.0027977 ]\n",
      " [-0.00604767 -0.00301068]]\n",
      "WARN: m less than n, problem likely degenerate\n",
      "349242\n",
      "a\n",
      "[[-0.00898663 -0.00284655]\n",
      " [-0.02016545 -0.00698135]]\n",
      "WARN: m less than n, problem likely degenerate\n",
      "523315\n",
      "b\n",
      "[[-0.00477525 -0.00322926]\n",
      " [-0.00645796 -0.00355771]]\n",
      "WARN: m less than n, problem likely degenerate\n",
      "504079\n",
      "a\n",
      "[[-0.0087653  -0.00276559]\n",
      " [-0.01964432 -0.00679188]]\n",
      "WARN: m less than n, problem likely degenerate\n",
      "754398\n",
      "b\n",
      "[[-0.00472515 -0.00303964]\n",
      " [-0.00638604 -0.00331823]]\n",
      "WARN: m less than n, problem likely degenerate\n",
      "723547\n",
      "a\n",
      "[[-0.0087632  -0.00273074]\n",
      " [-0.01962582 -0.0066691 ]]\n",
      "WARN: m less than n, problem likely degenerate\n",
      "1081876\n",
      "b\n",
      "[[-0.00495486 -0.00311947]\n",
      " [-0.00667576 -0.00342263]]\n",
      "WARN: m less than n, problem likely degenerate\n",
      "1034329\n",
      "a\n",
      "[[-0.00871145 -0.00260362]\n",
      " [-0.01951542 -0.00640302]]\n",
      "WARN: m less than n, problem likely degenerate\n",
      "1547787\n",
      "b\n",
      "[[-0.00467227 -0.00306972]\n",
      " [-0.00631013 -0.00336555]]\n"
     ]
    }
   ],
   "source": [
    "#Next we implement the modified OSLO here\n",
    "\n",
    "\n",
    "markov_state=0\n",
    "ms=np.zeros((time.shape[0]))\n",
    "ms[0]=0\n",
    "\n",
    "#noise1=np.array([[var1,0],[0,var1]])\n",
    "\n",
    "#noise2=np.array([[var2,0],[0,var2]])\n",
    "\n",
    "for t in range(1,time.shape[0]):\n",
    "    \n",
    "    markov_state=ms[t-1]\n",
    "    if (markov_state==0):\n",
    "        markov_state=np.random.choice(2,1,p=[p,1-p])\n",
    "        ms[t]=markov_state\n",
    "    else:\n",
    "        markov_state=np.random.choice(2,1,p=[1-q,q])\n",
    "        ms[t]=markov_state\n",
    "        \n",
    "\n",
    "        \n",
    "    \n",
    "    \n",
    "    #The big else from OSLO should be nested within the if else for Markov State here:\n",
    "\n",
    "    if (markov_state==0):\n",
    "        \n",
    "        if (np.linalg.det(V_dynamicsa[acount])>2*np.linalg.det(V_dynamicsa[taua])):\n",
    "            taua=acount \n",
    "            #starts a new episode in this case and estimate parameters for this episode next\n",
    "            X=x_dynamicsa[:,1:acount]\n",
    "            Z=z_dynamicsa[:,0:acount-1]\n",
    "            A0B0=np.column_stack((A0a,B0a))\n",
    "            AtBt=square_matrix_ridge_regression(Z,X,A0B0,lamdaa,betaa)\n",
    "            A_dynamicsa[acount]=AtBt[:,0:2]\n",
    "            B_dynamicsa[acount]=AtBt[:,2:4]\n",
    "\n",
    "            #Now we compute the policy for this round using SDP solver\n",
    "\n",
    "\n",
    "            Sigmat=SDP_solver(A_dynamicsa[acount],B_dynamicsa[acount],V_dynamicsa[acount],Wa,mua)\n",
    "            \n",
    "            \n",
    "            if (infeasibility_flag == 1):\n",
    "                #A_dynamicsa[acount]=A_dynamicsa[acount-1]\n",
    "                #B_dynamicsa[acount]=B_dynamicsa[acount-1]\n",
    "                K_dynamicsa[t]=K_dynamicsa[t-1]\n",
    "                K_dynamicsb[t]=K_dynamicsb[t-1]\n",
    "                \n",
    "                print(taua)\n",
    "                print(Sigmat)\n",
    "                \n",
    "        \n",
    "            else:\n",
    "                print(taua)\n",
    "                print('a')\n",
    "                #print(Sigmat)\n",
    "            \n",
    "            #Extracting policy from the relaxed SDP's solution\n",
    "            \n",
    "                Left=np.array([[1,0,0,0],[0,1,0,0]])\n",
    "                Right=np.array([[1,0],[0,1],[0,0],[0,0]])\n",
    "            \n",
    "                Sigma_t_xx=(Left.dot(Sigmat)).dot(Right)\n",
    "                Sigma_t_xx_inv=np.linalg.inv(Sigma_t_xx)\n",
    "                Kt=(Sigmat[2:4,0:2]).dot((Sigma_t_xx_inv))\n",
    "                K_dynamicsa[t]=Kt\n",
    "                K_dynamicsb[t]=K_dynamicsb[t-1]\n",
    "                print(K_dynamicsa[t])\n",
    "                \n",
    "        \n",
    "\n",
    "\n",
    "        else:\n",
    "            A_dynamicsa[acount]=A_dynamicsa[acount-1]\n",
    "            B_dynamicsa[acount]=B_dynamicsa[acount-1]\n",
    "            K_dynamicsa[t]=K_dynamicsa[t-1]\n",
    "            K_dynamicsb[t]=K_dynamicsb[t-1]   ##Doubtful line\n",
    "                \n",
    "   \n",
    "        \n",
    "    \n",
    "    \n",
    "    \n",
    "    \n",
    "        #Policy computed\n",
    "        #Now we update the parameters for the next round: part of the OSLO\n",
    "        ut=K_dynamicsa[t].dot(x_dynamics[:,t])\n",
    "        \n",
    "        x_dynamics[:,t+1]=A1.dot(x_dynamics[:,t])+B1.dot(ut)+np.random.normal(0,np.sqrt(var1),x_dynamics[:,t].shape)\n",
    "        acount=acount+1\n",
    "        x_dynamicsa[:,acount]=x_dynamics[:,t+1]\n",
    "        \n",
    "        \n",
    "        zt=np.zeros(4)\n",
    "        zt[0:2]=x_dynamics[:,t]\n",
    "        zt[2:4]=ut\n",
    "        xt=x_dynamics[:,t]\n",
    "        z_dynamics[:,t]=zt\n",
    "        z_dynamicsa[:,acount-1]=zt\n",
    "        z_norm[t]=LA.norm(zt,2)\n",
    "        V_dynamicsa[acount]=V_dynamicsa[acount-1]+(1/betaa)*np.outer(zt,zt)\n",
    "        # Change to OSLO ends here\n",
    "        ct=xt.dot(Q.dot(xt))+ut.dot(R.dot(ut))\n",
    "        c=(cost[t-1]*(t)+ct)/(t+1)\n",
    "        x_norm[t+1]=LA.norm(x_dynamics[:,t+1],2)\n",
    "        cost[t]=c\n",
    "        agg_cost_dynamics[t]=agg_cost_dynamics[t-1]+ct\n",
    "        \n",
    "        \n",
    "        \n",
    "        \n",
    "        \n",
    "        \n",
    "        \n",
    "        \n",
    "    else:\n",
    "        \n",
    "        if(bcount==0):\n",
    "            x_dynamicsb[:,bcount]=x_dynamics[:,t]\n",
    "        \n",
    "        bcount=bcount+1\n",
    "        \n",
    "        \n",
    "        if (np.linalg.det(V_dynamicsb[bcount-1])>2*np.linalg.det(V_dynamicsb[taub])):\n",
    "            taub=bcount-1 \n",
    "            #starts a new episode in this case and estimate parameters for this episode next\n",
    "            X=x_dynamicsb[:,1:bcount]\n",
    "            Z=z_dynamicsb[:,0:bcount-1]\n",
    "            A0B0=np.column_stack((A0b,B0b))\n",
    "            AtBt=square_matrix_ridge_regression(Z,X,A0B0,lamdab,betab)\n",
    "            A_dynamicsb[bcount]=AtBt[:,0:2]\n",
    "            B_dynamicsb[bcount]=AtBt[:,2:4]\n",
    "\n",
    "            #Now we compute the policy for this round using SDP solver\n",
    "\n",
    "\n",
    "            Sigmat=SDP_solver(A_dynamicsb[bcount],B_dynamicsb[bcount],V_dynamicsb[bcount-1],Wb,mub)\n",
    "            \n",
    "            \n",
    "            if (infeasibility_flag == 1):\n",
    "                #A_dynamicsb[t]=A_dynamicsb[t-1]\n",
    "                #B_dynamicsb[t]=B_dynamicsb[t-1]\n",
    "                K_dynamicsb[t]=K_dynamicsb[t-1]\n",
    "                K_dynamicsa[t]=K_dynamicsa[t-1]\n",
    "                print(taub)\n",
    "                print(Sigmat)\n",
    "        \n",
    "            else:\n",
    "                print(taub)\n",
    "                print('b')\n",
    "                #print(Sigmat)\n",
    "            \n",
    "            #Extracting policy from the relaxed SDP's solution\n",
    "            \n",
    "                Left=np.array([[1,0,0,0],[0,1,0,0]])\n",
    "                Right=np.array([[1,0],[0,1],[0,0],[0,0]])\n",
    "            \n",
    "                Sigma_t_xx=(Left.dot(Sigmat)).dot(Right)\n",
    "                Sigma_t_xx_inv=np.linalg.inv(Sigma_t_xx)\n",
    "                Kt=(Sigmat[2:4,0:2]).dot((Sigma_t_xx_inv))\n",
    "                K_dynamicsb[t]=Kt\n",
    "                K_dynamicsa[t]=K_dynamicsa[t-1]\n",
    "                print(K_dynamicsb[t])\n",
    "\n",
    "                \n",
    "        else:\n",
    "            A_dynamicsb[bcount]=A_dynamicsb[bcount-1]\n",
    "            B_dynamicsb[bcount]=B_dynamicsb[bcount-1]\n",
    "            K_dynamicsb[t]=K_dynamicsb[t-1]\n",
    "            K_dynamicsa[t]=K_dynamicsa[t-1]\n",
    "   \n",
    "        \n",
    "    \n",
    "    \n",
    "    \n",
    "    \n",
    "        #Policy computed\n",
    "        #Now we update the parameters for the next round: part of the OSLO\n",
    "        xt=x_dynamics[:,t]\n",
    "        ut=K_dynamicsb[t].dot(xt)\n",
    "        \n",
    "        #Play this policy\n",
    "        \n",
    "        x_dynamics[:,t+1]=A2.dot(x_dynamics[:,t])+B2.dot(ut)+np.random.normal(0,np.sqrt(var2),x_dynamics[:,t].shape)\n",
    "        \n",
    "        x_dynamicsb[:,bcount]=x_dynamics[:,t+1]\n",
    "        \n",
    "        \n",
    "        \n",
    "        zt=np.zeros(4)\n",
    "        zt[0:2]=xt\n",
    "        zt[2:4]=ut\n",
    "        z_dynamics[:,t]=zt\n",
    "        z_dynamicsb[:,bcount-1]=zt\n",
    "        z_norm[t]=LA.norm(zt,2)\n",
    "        V_dynamicsb[bcount]=V_dynamicsb[bcount-1]+(1/betab)*np.outer(zt,zt)\n",
    "        # Change to OSLO ends here\n",
    "        ct=xt.dot(Q.dot(xt))+ut.dot(R.dot(ut))\n",
    "        c=(cost[t-1]*(t)+ct)/(t+1)\n",
    "        x_norm[t+1]=LA.norm(x_dynamics[:,t+1],2)\n",
    "        cost[t]=c\n",
    "        agg_cost_dynamics[t]=agg_cost_dynamics[t-1]+ct\n",
    "\n",
    "        \n",
    "Final_Cost=(cost[time.shape[0]-1]*(time.shape[0])+x_dynamics[:,time.shape[0]].dot(Q.dot(x_dynamics[:,time.shape[0]])))/(time.shape[0]+1)\n",
    "        \n",
    "Final_Cost_agg=Final_Cost*(time.shape[0]+1)      \n",
    "        \n",
    "        \n",
    "        \n",
    "        \n",
    "        \n",
    "\n",
    "\n",
    "\n",
    "\n",
    "\n",
    "\n",
    "\n"
   ]
  },
  {
   "cell_type": "code",
   "execution_count": 24,
   "id": "equal-thermal",
   "metadata": {},
   "outputs": [],
   "source": [
    "#Testing convergence of parameter estimation for mode a:\n",
    "#print(LA.norm((Augmented-AtBt),'fro'))\n",
    "erra=np.zeros((time.shape[0]))\n",
    "for t in range(time.shape[0]):\n",
    "    AtBt=np.column_stack((A_dynamicsa[t],B_dynamicsa[t]))\n",
    "    erra[t]=LA.norm((Augmenteda-AtBt),'fro')\n",
    "    \n",
    "#plt.plot(time[0:time.shape[0]],erra[0:time.shape[0]])"
   ]
  },
  {
   "cell_type": "code",
   "execution_count": 25,
   "id": "floating-wheel",
   "metadata": {},
   "outputs": [],
   "source": [
    "#Testing convergence of parameter estimation for mode b:\n",
    "#print(LA.norm((Augmented-AtBt),'fro'))\n",
    "errb=np.zeros((time.shape[0]))\n",
    "for t in range(time.shape[0]):\n",
    "    AtBt=np.column_stack((A_dynamicsb[t],B_dynamicsb[t]))\n",
    "    errb[t]=LA.norm((Augmentedb-AtBt),'fro')\n",
    "    \n",
    "#plt.plot(time[10:time.shape[0]],errb[10:time.shape[0]])"
   ]
  },
  {
   "cell_type": "code",
   "execution_count": 26,
   "id": "wicked-plumbing",
   "metadata": {},
   "outputs": [
    {
     "data": {
      "text/plain": [
       "4.632892279092641e-06"
      ]
     },
     "execution_count": 26,
     "metadata": {},
     "output_type": "execute_result"
    }
   ],
   "source": [
    "Final_Cost"
   ]
  },
  {
   "cell_type": "code",
   "execution_count": 27,
   "id": "moved-beach",
   "metadata": {},
   "outputs": [
    {
     "data": {
      "text/plain": [
       "13.898681470170201"
      ]
     },
     "execution_count": 27,
     "metadata": {},
     "output_type": "execute_result"
    }
   ],
   "source": [
    "Final_Cost_agg"
   ]
  },
  {
   "cell_type": "code",
   "execution_count": 28,
   "id": "paperback-folder",
   "metadata": {},
   "outputs": [
    {
     "data": {
      "text/plain": [
       "[<matplotlib.lines.Line2D at 0x1155d7ac0>]"
      ]
     },
     "execution_count": 28,
     "metadata": {},
     "output_type": "execute_result"
    },
    {
     "data": {
      "image/png": "[encoded data removed]",
      "text/plain": [
       "<Figure size 432x288 with 1 Axes>"
      ]
     },
     "metadata": {
      "needs_background": "light"
     },
     "output_type": "display_data"
    }
   ],
   "source": [
    "plt.plot(time[0:1100000],erra[0:1100000])"
   ]
  },
  {
   "cell_type": "code",
   "execution_count": 29,
   "id": "linear-assembly",
   "metadata": {},
   "outputs": [
    {
     "data": {
      "text/plain": [
       "[<matplotlib.lines.Line2D at 0x115734580>]"
      ]
     },
     "execution_count": 29,
     "metadata": {},
     "output_type": "execute_result"
    },
    {
     "data": {
      "image/png": "[encoded data removed]",
      "text/plain": [
       "<Figure size 432x288 with 1 Axes>"
      ]
     },
     "metadata": {
      "needs_background": "light"
     },
     "output_type": "display_data"
    }
   ],
   "source": [
    "plt.plot(time[0:1100000],errb[0:1100000])"
   ]
  },
  {
   "cell_type": "code",
   "execution_count": 30,
   "id": "extreme-reunion",
   "metadata": {},
   "outputs": [],
   "source": [
    "#Now we compare against the benchmark from Vijay Gupta's extension of the Riccati Equations based Optimal Policy\n",
    "\n",
    "\n",
    "#Ricatti Solver and testing the average cost with this\n",
    "\n",
    "Opt_x_dynamics=np.zeros((2,time.shape[0]))\n",
    "Opt_x_0=np.random.rand(2)\n",
    "Opt_x_dynamics[:,0]=Opt_x_0\n",
    "Opt_x_dynamics\n",
    "Opt_cost=np.zeros((time.shape[0]))\n",
    "Opt_cost_agg=np.zeros((time.shape[0]))\n",
    "Opt_x_norm=np.zeros((time.shape[0]))\n",
    "\n",
    "\n",
    "\n",
    "# Dynamic Programming for Riccati Solver Policies as in Vijay Gupta's MJLS notes: http://www.cds.caltech.edu/~murray/books/AM08/pdf/ncs-markjls_22Jan10.pdf\n",
    "\n",
    "\n",
    "P1=np.zeros((time.shape[0],2,2))\n",
    "K1=np.zeros((time.shape[0],2,2))\n",
    "P2=np.zeros((time.shape[0],2,2))\n",
    "K2=np.zeros((time.shape[0],2,2))\n",
    "#zero_init=np.zeros((2,2))\n",
    "for t in range((time.shape[0])):\n",
    "    P1[t]=np.zeros((2,2))\n",
    "    P2[t]=np.zeros((2,2))\n",
    "    K1[t]=np.zeros((2,2))\n",
    "    K2[t]=np.zeros((2,2))\n",
    "P1[time.shape[0]-1]=Q\n",
    "P2[time.shape[0]-1]=Q\n",
    "K1[time.shape[0]-1]=np.dot(np.dot(np.dot(np.linalg.inv(R+np.dot(np.dot(B1.T,Q),B1)),B1.T),Q),A1)\n",
    "K2[time.shape[0]-1]=np.dot(np.dot(np.dot(np.linalg.inv(R+np.dot(np.dot(B2.T,Q),B2)),B2.T),Q),A2)\n",
    "\n",
    "for t in range(1,time.shape[0]):\n",
    "    P1[time.shape[0]-t-1]=p*(Q+np.dot(A1.T,np.dot(P1[time.shape[0]-t],A1))-np.dot(np.dot(np.dot(np.dot(np.dot(np.dot(A1.T,P1[time.shape[0]-t].T),B1),np.linalg.inv(R+np.dot(B1.T,np.dot(P1[time.shape[0]-t],B1)))),B1.T),P1[time.shape[0]-t]),A1))+(1-p)*(Q+np.dot(A2.T,np.dot(P2[time.shape[0]-t],A2))-np.dot(np.dot(np.dot(np.dot(np.dot(np.dot(A2.T,P2[time.shape[0]-t].T),B2),np.linalg.inv(R+np.dot(B2.T,np.dot(P2[time.shape[0]-t],B2)))),B2.T),P2[time.shape[0]-t]),A2))\n",
    "    P2[time.shape[0]-t-1]=(1-q)*(Q+np.dot(A1.T,np.dot(P1[time.shape[0]-t],A1))-np.dot(np.dot(np.dot(np.dot(np.dot(np.dot(A1.T,P1[time.shape[0]-t].T),B1),np.linalg.inv(R+np.dot(B1.T,np.dot(P1[time.shape[0]-t],B1)))),B1.T),P1[time.shape[0]-t]),A1))+q*(Q+np.dot(A2.T,np.dot(P2[time.shape[0]-t],A2))-np.dot(np.dot(np.dot(np.dot(np.dot(np.dot(A2.T,P2[time.shape[0]-t].T),B2),np.linalg.inv(R+np.dot(B2.T,np.dot(P2[time.shape[0]-t],B2)))),B2.T),P2[time.shape[0]-t]),A2))\n",
    "    K1[time.shape[0]-t-1]=np.dot(np.dot(np.dot(np.linalg.inv(R+np.dot(np.dot(B1.T,P1[time.shape[0]-t]),B1)),B1.T),P1[time.shape[0]-t]),A1)\n",
    "    K2[time.shape[0]-t-1]=np.dot(np.dot(np.dot(np.linalg.inv(R+np.dot(np.dot(B2.T,P1[time.shape[0]-t]),B2)),B2.T),P2[time.shape[0]-t]),A2)\n",
    "\n",
    "\n",
    "\n",
    "\n",
    "\n",
    "\n",
    "\n",
    "\n",
    "\n",
    "\n",
    "\n"
   ]
  },
  {
   "cell_type": "code",
   "execution_count": 31,
   "id": "enhanced-exclusive",
   "metadata": {},
   "outputs": [],
   "source": [
    "#Now we run the Riccati Optimal Policies\n",
    "\n",
    "#First some initializations\n",
    "\n",
    "markov_state=0\n",
    "Opt_ms=np.zeros((time.shape[0]))\n",
    "Opt_ms[0]=0\n",
    "\n",
    "Opt_u_0= -K1[0].dot(Opt_x_0)\n",
    "\n",
    "Opt_c_0=Opt_x_0.dot((Q.dot(Opt_x_0)))+Opt_u_0.dot((R.dot(Opt_u_0)))\n",
    "\n",
    "Opt_cost[0]=Opt_c_0\n",
    "Opt_cost_agg[0]=Opt_c_0\n",
    "Opt_x_norm[0]=LA.norm(Opt_x_0,2)\n",
    "\n",
    "#Now we simulate the Markov Jump Dynamical System, this time playing optimally using Riccati Policies\n",
    "\n",
    "for t in range(1,time.shape[0]):\n",
    "    xprev=Opt_x_dynamics[:,t-1]\n",
    "    markov_state=Opt_ms[t-1]\n",
    "    if (markov_state==0):\n",
    "        uprev=-K1[t-1].dot(xprev)\n",
    "        markov_state=np.random.choice(2,1,p=[p,1-p])\n",
    "    else:\n",
    "        uprev=-K2[t-1].dot(xprev)\n",
    "        markov_state=np.random.choice(2,1,p=[1-q,q])    \n",
    "    if (markov_state==0):\n",
    "        xt=A1.dot(xprev)+B1.dot(uprev)+np.random.normal(0,np.sqrt(var1),xprev.shape)\n",
    "        ut=-K1[t].dot(xt)\n",
    "    else:\n",
    "        xt=A2.dot(xprev)+B2.dot(uprev)+np.random.normal(0,np.sqrt(var2),xprev.shape)\n",
    "        ut=-K2[t].dot(xt)\n",
    "    nct=xt.dot(Q.dot(xt))+ut.dot(R.dot(ut))\n",
    "    c=(Opt_cost[t-1]*(t)+nct)/(t+1)\n",
    "    Opt_x_norm[t]=LA.norm(xt,2)\n",
    "    Opt_cost[t]=c\n",
    "    Opt_cost_agg[t]=Opt_cost_agg[t-1]+nct\n",
    "    Opt_ms[t]=markov_state\n",
    "    Opt_x_dynamics[:,t]=xt\n",
    "\n",
    "Opt_Final_Cost=(Opt_cost[time.shape[0]-1]*(time.shape[0])+Opt_x_dynamics[:,time.shape[0]-1].dot(Q.dot(Opt_x_dynamics[:,time.shape[0]-1])))/(time.shape[0]+1)\n",
    "\n",
    "Opt_Final_Cost_agg=Opt_Final_Cost*(time.shape[0]+1)\n"
   ]
  },
  {
   "cell_type": "code",
   "execution_count": 61,
   "id": "prepared-nickname",
   "metadata": {},
   "outputs": [
    {
     "data": {
      "text/plain": [
       "array([[-0.00410944, -0.00120208],\n",
       "       [-0.0108745 , -0.00371273]])"
      ]
     },
     "execution_count": 61,
     "metadata": {},
     "output_type": "execute_result"
    }
   ],
   "source": [
    "-K1[1000000]"
   ]
  },
  {
   "cell_type": "code",
   "execution_count": 62,
   "id": "recognized-scale",
   "metadata": {},
   "outputs": [
    {
     "data": {
      "text/plain": [
       "array([[-0.00383858, -0.00265361],\n",
       "       [-0.00467267, -0.0002526 ]])"
      ]
     },
     "execution_count": 62,
     "metadata": {},
     "output_type": "execute_result"
    }
   ],
   "source": [
    "-K2[1000000]"
   ]
  },
  {
   "cell_type": "code",
   "execution_count": 63,
   "id": "serial-vehicle",
   "metadata": {},
   "outputs": [
    {
     "data": {
      "text/plain": [
       "array([[-0.00898663, -0.00284655],\n",
       "       [-0.02016545, -0.00698135]])"
      ]
     },
     "execution_count": 63,
     "metadata": {},
     "output_type": "execute_result"
    }
   ],
   "source": [
    "K_dynamicsa[1000000]"
   ]
  },
  {
   "cell_type": "code",
   "execution_count": 64,
   "id": "auburn-playlist",
   "metadata": {},
   "outputs": [
    {
     "data": {
      "text/plain": [
       "array([[-0.00477525, -0.00322926],\n",
       "       [-0.00645796, -0.00355771]])"
      ]
     },
     "execution_count": 64,
     "metadata": {},
     "output_type": "execute_result"
    }
   ],
   "source": [
    "K_dynamicsb[1000000]"
   ]
  },
  {
   "cell_type": "code",
   "execution_count": 36,
   "id": "assumed-parallel",
   "metadata": {},
   "outputs": [],
   "source": [
    "pi_1=(1-q)/(1-p+1-q)\n",
    "pi_2=(1-p)/(1-p+1-q)"
   ]
  },
  {
   "cell_type": "code",
   "execution_count": 37,
   "id": "utility-stream",
   "metadata": {},
   "outputs": [],
   "source": [
    "Der_Exp_Opt_Cost=pi_1*p*var1*np.trace(P1[0])+pi_2*(1-p)*var1*np.trace(P1[0])+pi_1*(1-q)*var2*np.trace(P2[0])+pi_2*q*var2*np.trace(P2[0])"
   ]
  },
  {
   "cell_type": "code",
   "execution_count": 38,
   "id": "alternative-myanmar",
   "metadata": {},
   "outputs": [
    {
     "name": "stdout",
     "output_type": "stream",
     "text": [
      "[4.47898398e-06]\n"
     ]
    }
   ],
   "source": [
    "print(Der_Exp_Opt_Cost)"
   ]
  },
  {
   "cell_type": "code",
   "execution_count": 39,
   "id": "macro-satisfaction",
   "metadata": {},
   "outputs": [
    {
     "data": {
      "text/plain": [
       "[<matplotlib.lines.Line2D at 0x1157d0850>]"
      ]
     },
     "execution_count": 39,
     "metadata": {},
     "output_type": "execute_result"
    },
    {
     "data": {
      "image/png": "[encoded data removed]",
      "text/plain": [
       "<Figure size 432x288 with 1 Axes>"
      ]
     },
     "metadata": {
      "needs_background": "light"
     },
     "output_type": "display_data"
    }
   ],
   "source": [
    "plt.plot(time[1000000:time.shape[0]],Opt_cost[1000000:time.shape[0]])"
   ]
  },
  {
   "cell_type": "code",
   "execution_count": 57,
   "id": "protective-glucose",
   "metadata": {},
   "outputs": [],
   "source": [
    "new_regret=np.zeros((time.shape[0]))\n",
    "for t in range((time.shape[0])):\n",
    "    new_regret[t]=cost[t]-Der_Exp_Opt_Cost                  \n",
    "    #avg_regret[t]*=(t+1)"
   ]
  },
  {
   "cell_type": "code",
   "execution_count": 58,
   "id": "connected-aging",
   "metadata": {},
   "outputs": [
    {
     "data": {
      "text/plain": [
       "[<matplotlib.lines.Line2D at 0x115b3fee0>]"
      ]
     },
     "execution_count": 58,
     "metadata": {},
     "output_type": "execute_result"
    },
    {
     "data": {
      "image/png": "[encoded data removed]",
      "text/plain": [
       "<Figure size 432x288 with 1 Axes>"
      ]
     },
     "metadata": {
      "needs_background": "light"
     },
     "output_type": "display_data"
    }
   ],
   "source": [
    "plt.plot(time[10000:3000000],new_regret[10000:3000000])"
   ]
  },
  {
   "cell_type": "code",
   "execution_count": 42,
   "id": "sharing-import",
   "metadata": {},
   "outputs": [],
   "source": [
    "adhoc_regret=np.zeros((time.shape[0]))\n",
    "for t in range((time.shape[0])):\n",
    "    adhoc_regret[t]=cost[t]-var1*np.trace(P1[0])\n",
    "    #avg_regret[t]*=(t+1)"
   ]
  },
  {
   "cell_type": "code",
   "execution_count": 43,
   "id": "planned-tablet",
   "metadata": {},
   "outputs": [
    {
     "data": {
      "text/plain": [
       "[<matplotlib.lines.Line2D at 0x115883dc0>]"
      ]
     },
     "execution_count": 43,
     "metadata": {},
     "output_type": "execute_result"
    },
    {
     "data": {
      "image/png": "[encoded data removed]",
      "text/plain": [
       "<Figure size 432x288 with 1 Axes>"
      ]
     },
     "metadata": {
      "needs_background": "light"
     },
     "output_type": "display_data"
    }
   ],
   "source": [
    "plt.plot(time[1000:3000000],adhoc_regret[1000:3000000])"
   ]
  },
  {
   "cell_type": "code",
   "execution_count": 44,
   "id": "moved-ideal",
   "metadata": {},
   "outputs": [],
   "source": [
    "adhoc_regret2=np.zeros((time.shape[0]))\n",
    "for t in range((time.shape[0])):\n",
    "    adhoc_regret2[t]=cost[t]-var2*np.trace(P2[0])\n",
    "    #avg_regret[t]*=(t+1)"
   ]
  },
  {
   "cell_type": "code",
   "execution_count": 45,
   "id": "compact-toddler",
   "metadata": {},
   "outputs": [
    {
     "data": {
      "text/plain": [
       "[<matplotlib.lines.Line2D at 0x1158dbc40>]"
      ]
     },
     "execution_count": 45,
     "metadata": {},
     "output_type": "execute_result"
    },
    {
     "data": {
      "image/png": "[encoded data removed]",
      "text/plain": [
       "<Figure size 432x288 with 1 Axes>"
      ]
     },
     "metadata": {
      "needs_background": "light"
     },
     "output_type": "display_data"
    }
   ],
   "source": [
    "plt.plot(time[1000:3000000],adhoc_regret2[1000:3000000])"
   ]
  },
  {
   "cell_type": "code",
   "execution_count": 46,
   "id": "described-sequence",
   "metadata": {},
   "outputs": [],
   "source": [
    "emp_regret=np.zeros((time.shape[0]))\n",
    "for t in range((time.shape[0])):\n",
    "    emp_regret[t]=cost[t]-Opt_cost[t]\n",
    "    #avg_regret[t]*=(t+1)"
   ]
  },
  {
   "cell_type": "code",
   "execution_count": 47,
   "id": "circular-daniel",
   "metadata": {},
   "outputs": [
    {
     "data": {
      "text/plain": [
       "[<matplotlib.lines.Line2D at 0x115934bb0>]"
      ]
     },
     "execution_count": 47,
     "metadata": {},
     "output_type": "execute_result"
    },
    {
     "data": {
      "image/png": "[encoded data removed]",
      "text/plain": [
       "<Figure size 432x288 with 1 Axes>"
      ]
     },
     "metadata": {
      "needs_background": "light"
     },
     "output_type": "display_data"
    }
   ],
   "source": [
    "plt.plot(time[1000000:time.shape[0]],emp_regret[1000000:time.shape[0]])"
   ]
  },
  {
   "cell_type": "code",
   "execution_count": 71,
   "id": "defensive-vegetarian",
   "metadata": {},
   "outputs": [
    {
     "data": {
      "text/plain": [
       "[<matplotlib.lines.Line2D at 0x115e577c0>]"
      ]
     },
     "execution_count": 71,
     "metadata": {},
     "output_type": "execute_result"
    },
    {
     "data": {
      "image/png": "[encoded data removed]",
      "text/plain": [
       "<Figure size 432x288 with 1 Axes>"
      ]
     },
     "metadata": {
      "needs_background": "light"
     },
     "output_type": "display_data"
    }
   ],
   "source": [
    "plt.plot(time[1000:3000000],cost[1000:3000000])"
   ]
  },
  {
   "cell_type": "code",
   "execution_count": 49,
   "id": "express-pottery",
   "metadata": {},
   "outputs": [
    {
     "data": {
      "text/plain": [
       "[<matplotlib.lines.Line2D at 0x1159e7b50>]"
      ]
     },
     "execution_count": 49,
     "metadata": {},
     "output_type": "execute_result"
    },
    {
     "data": {
      "image/png": "[encoded data removed]",
      "text/plain": [
       "<Figure size 432x288 with 1 Axes>"
      ]
     },
     "metadata": {
      "needs_background": "light"
     },
     "output_type": "display_data"
    }
   ],
   "source": [
    "plt.plot(time[0:10],cost[0:10])"
   ]
  },
  {
   "cell_type": "code",
   "execution_count": 50,
   "id": "pacific-burden",
   "metadata": {},
   "outputs": [
    {
     "data": {
      "text/plain": [
       "4.9683381685166536e-06"
      ]
     },
     "execution_count": 50,
     "metadata": {},
     "output_type": "execute_result"
    }
   ],
   "source": [
    "Opt_Final_Cost"
   ]
  },
  {
   "cell_type": "code",
   "execution_count": 69,
   "id": "infinite-communication",
   "metadata": {},
   "outputs": [],
   "source": [
    "#Sample Static Policy Run\n",
    "\n",
    "\n",
    "K=0.1*np.random.rand(2,2)\n",
    "\n",
    "\n",
    "Sample_x_dynamics=np.zeros((2,time.shape[0]))\n",
    "Sample_x_0=np.random.rand(2)\n",
    "Sample_x_dynamics[:,0]=Opt_x_0\n",
    "Sample_x_dynamics\n",
    "Sample_cost=np.zeros((time.shape[0]))\n",
    "Sample_cost_agg=np.zeros((time.shape[0]))\n",
    "Sample_x_norm=np.zeros((time.shape[0]))\n",
    "\n",
    "\n",
    "\n",
    "\n",
    "\n",
    "\n",
    "\n",
    "\n",
    "\n",
    "markov_state=0\n",
    "Sample_ms=np.zeros((time.shape[0]))\n",
    "Sample_ms[0]=0\n",
    "\n",
    "Sample_u_0= K.dot(Opt_x_0)\n",
    "\n",
    "Sample_c_0=Sample_x_0.dot((Q.dot(Sample_x_0)))+Sample_u_0.dot((R.dot(Sample_u_0)))\n",
    "\n",
    "Sample_cost[0]=Sample_c_0\n",
    "Sample_cost_agg[0]=Sample_c_0\n",
    "Sample_x_norm[0]=LA.norm(Sample_x_0,2)\n",
    "\n",
    "#Now we simulate the Markov Jump Dynamical System, this time playing optimally using Riccati Policies\n",
    "\n",
    "for t in range(1,time.shape[0]):\n",
    "    xprev=Sample_x_dynamics[:,t-1]\n",
    "    markov_state=Sample_ms[t-1]\n",
    "    if (markov_state==0):\n",
    "        uprev=K.dot(xprev)\n",
    "        markov_state=np.random.choice(2,1,p=[p,1-p])\n",
    "    else:\n",
    "        uprev=K.dot(xprev)\n",
    "        markov_state=np.random.choice(2,1,p=[1-q,q])    \n",
    "    if (markov_state==0):\n",
    "        xt=A1.dot(xprev)+B1.dot(uprev)+np.random.normal(0,np.sqrt(var1),xprev.shape)\n",
    "        ut=K.dot(xt)\n",
    "    else:\n",
    "        xt=A2.dot(xprev)+B2.dot(uprev)+np.random.normal(0,np.sqrt(var2),xprev.shape)\n",
    "        ut=K.dot(xt)\n",
    "    nct=xt.dot(Q.dot(xt))+ut.dot(R.dot(ut))\n",
    "    c=(Sample_cost[t-1]*(t)+nct)/(t+1)\n",
    "    Sample_x_norm[t]=LA.norm(xt,2)\n",
    "    Sample_cost[t]=c\n",
    "    Sample_cost_agg[t]=Sample_cost_agg[t-1]+nct\n",
    "    Sample_ms[t]=markov_state\n",
    "    Sample_x_dynamics[:,t]=xt\n",
    "\n",
    "Sample_Final_Cost=(Sample_cost[time.shape[0]-1]*(time.shape[0])+Sample_x_dynamics[:,time.shape[0]-1].dot(Q.dot(Sample_x_dynamics[:,time.shape[0]-1])))/(time.shape[0]+1)\n",
    "\n",
    "Sample_Final_Cost_agg=Sample_Final_Cost*(time.shape[0]+1)\n"
   ]
  },
  {
   "cell_type": "code",
   "execution_count": 70,
   "id": "thousand-hello",
   "metadata": {},
   "outputs": [
    {
     "data": {
      "image/png": "[encoded data removed]",
      "text/plain": [
       "<Figure size 576x432 with 1 Axes>"
      ]
     },
     "metadata": {
      "needs_background": "light"
     },
     "output_type": "display_data"
    }
   ],
   "source": [
    "# Initialise the figure and axes.\n",
    "fig, ax = plt.subplots(1, figsize=(8, 6))\n",
    "\n",
    "\n",
    "# Set the title for the figure\n",
    "fig.suptitle('Aggregate Costs of the three policies', fontsize=15)\n",
    "\n",
    "# Draw all the lines in the same plot, assigning a label for each one to be\n",
    "# shown in the legend.\n",
    "#ax.plot(time[0:700000], agg_cost_dynamics[0:700000], color=\"red\", label=\"Modified OSLO\")\n",
    "ax.plot(time[0:700000], Opt_cost_agg[0:700000], color=\"green\", label=\"Ricatti Optimal\")\n",
    "ax.plot(time[0:700000], Sample_cost_agg[0:700000], color=\"blue\", label=\"Sample Static Policy\")\n",
    "#ax.plot(time, agg_regret, color=\"red\", label=\"Sum Regret\")\n",
    "#ax.plot(time, avg_regret,color=\"black\", label=\"Average Regret\")\n",
    "# Add a legend, and position it on the lower right (with no box)\n",
    "plt.legend(loc=\"lower right\", title=\"Legend\", frameon=False)\n",
    "\n",
    "plt.show()\n"
   ]
  },
  {
   "cell_type": "code",
   "execution_count": 53,
   "id": "proper-switch",
   "metadata": {},
   "outputs": [],
   "source": [
    "#Testing convergence of policy learnt against the DP policy:\n",
    "#print(LA.norm((Augmented-AtBt),'fro'))\n",
    "Policy_err=np.zeros((time.shape[0]))\n",
    "for t in range(time.shape[0]):\n",
    "    if (ms[t]==0):\n",
    "        Policy_err[t]=LA.norm((K_dynamicsa[t]+K1[t]),'fro')\n",
    "    else:\n",
    "        Policy_err[t]=LA.norm((K_dynamicsb[t]+K2[t]),'fro')\n",
    "#plt.plot(time[10:100],Policy_err[10:100])"
   ]
  },
  {
   "cell_type": "code",
   "execution_count": 54,
   "id": "injured-accommodation",
   "metadata": {},
   "outputs": [],
   "source": [
    "#plt.plot(time[10:100],Policy_err[10:100])"
   ]
  },
  {
   "cell_type": "code",
   "execution_count": 55,
   "id": "preliminary-mitchell",
   "metadata": {},
   "outputs": [
    {
     "data": {
      "text/plain": [
       "[<matplotlib.lines.Line2D at 0x115773d60>]"
      ]
     },
     "execution_count": 55,
     "metadata": {},
     "output_type": "execute_result"
    },
    {
     "data": {
      "image/png": "[encoded data removed]",
      "text/plain": [
       "<Figure size 432x288 with 1 Axes>"
      ]
     },
     "metadata": {
      "needs_background": "light"
     },
     "output_type": "display_data"
    }
   ],
   "source": [
    "#Testing convergence of policy learnt against the DP policy for mode a:\n",
    "#print(LA.norm((Augmented-AtBt),'fro'))\n",
    "Policy_err_a=np.zeros((time.shape[0]))\n",
    "for t in range(time.shape[0]):\n",
    "    Policy_err_a[t]=LA.norm((K_dynamicsa[t]+K1[t]),'fro')\n",
    "   \n",
    "        \n",
    "plt.plot(time[0:2000000],Policy_err_a[0:2000000])"
   ]
  },
  {
   "cell_type": "code",
   "execution_count": 56,
   "id": "parallel-reputation",
   "metadata": {},
   "outputs": [
    {
     "data": {
      "text/plain": [
       "[<matplotlib.lines.Line2D at 0x115afc250>]"
      ]
     },
     "execution_count": 56,
     "metadata": {},
     "output_type": "execute_result"
    },
    {
     "data": {
      "image/png": "[encoded data removed]",
      "text/plain": [
       "<Figure size 432x288 with 1 Axes>"
      ]
     },
     "metadata": {
      "needs_background": "light"
     },
     "output_type": "display_data"
    }
   ],
   "source": [
    "#Testing convergence of policy learnt against the DP policy for mode b:\n",
    "#print(LA.norm((Augmented-AtBt),'fro'))\n",
    "Policy_err_b=np.zeros((time.shape[0]))\n",
    "for t in range(time.shape[0]):\n",
    "    Policy_err_b[t]=LA.norm((K_dynamicsb[t]+K2[t]),'fro')\n",
    "   \n",
    "        \n",
    "plt.plot(time[0:2000000],Policy_err_b[0:2000000])"
   ]
  },
  {
   "cell_type": "code",
   "execution_count": null,
   "id": "junior-river",
   "metadata": {},
   "outputs": [],
   "source": []
  }
 ],
 "metadata": {
  "kernelspec": {
   "display_name": "Python 3",
   "language": "python",
   "name": "python3"
  },
  "language_info": {
   "codemirror_mode": {
    "name": "ipython",
    "version": 3
   },
   "file_extension": ".py",
   "mimetype": "text/x-python",
   "name": "python",
   "nbconvert_exporter": "python",
   "pygments_lexer": "ipython3",
   "version": "3.9.2"
  }
 },
 "nbformat": 4,
 "nbformat_minor": 5
}
