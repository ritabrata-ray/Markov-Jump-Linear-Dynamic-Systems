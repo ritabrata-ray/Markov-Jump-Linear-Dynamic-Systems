{
 "cells": [
  {
   "cell_type": "code",
   "execution_count": 1,
   "metadata": {},
   "outputs": [],
   "source": [
    "import numpy as np\n",
    "from scipy.signal import StateSpace, lsim\n",
    "import matplotlib.pyplot as plt\n",
    "from numpy import linalg as LA\n",
    "import cvxpy as cp\n",
    "import dill"
   ]
  },
  {
   "cell_type": "code",
   "execution_count": 2,
   "metadata": {},
   "outputs": [],
   "source": [
    "dill.load_session('notebook_env.db')       #Uncomment it to load previous session"
   ]
  },
  {
   "cell_type": "code",
   "execution_count": 3,
   "metadata": {},
   "outputs": [
    {
     "data": {
      "text/plain": [
       "(array([0.22703794, 0.57854607]), array([0.52706824, 0.26707323]))"
      ]
     },
     "execution_count": 3,
     "metadata": {},
     "output_type": "execute_result"
    }
   ],
   "source": [
    "infeasibility_flag=0\n",
    "\n",
    "a=np.random.rand(2)\n",
    "b=np.random.rand(2)\n",
    "a,b"
   ]
  },
  {
   "cell_type": "code",
   "execution_count": 4,
   "metadata": {},
   "outputs": [],
   "source": [
    "Q=np.outer(a,a)\n",
    "R=np.outer(b,b)\n",
    "\n",
    "pd1=0.5*np.random.rand(1)\n",
    "pd2=0.5*np.random.rand(1)\n",
    "\n",
    "I=np.array([[1,0],[0,1]])\n",
    "\n",
    "Q=Q+pd1*I\n",
    "R=R+pd2*I"
   ]
  },
  {
   "cell_type": "code",
   "execution_count": 5,
   "metadata": {},
   "outputs": [
    {
     "name": "stdout",
     "output_type": "stream",
     "text": [
      "[0.0012503]\n"
     ]
    }
   ],
   "source": [
    "A=np.random.rand(2,2)\n",
    "B=np.random.rand(2,2)\n",
    "var=0.01*np.random.rand(1)\n",
    "\n",
    "print(var)"
   ]
  },
  {
   "cell_type": "code",
   "execution_count": 6,
   "metadata": {},
   "outputs": [
    {
     "data": {
      "text/plain": [
       "(10000000,)"
      ]
     },
     "execution_count": 6,
     "metadata": {},
     "output_type": "execute_result"
    }
   ],
   "source": [
    "time=np.arange(0,10000,1e-3)\n",
    "time.shape"
   ]
  },
  {
   "cell_type": "code",
   "execution_count": 7,
   "metadata": {},
   "outputs": [
    {
     "name": "stdout",
     "output_type": "stream",
     "text": [
      "0.11545321203033834\n"
     ]
    }
   ],
   "source": [
    "#Here we run the previous Riccati to empirically find a safe nu, note we use a random policy K instead of the Riccati\n",
    "# equation based optimal policy to get a safe upper bound\n",
    "\n",
    "K=np.random.rand(2,2)\n",
    "\n",
    "scale=0.1\n",
    "\n",
    "var1=scale*scale*var\n",
    "\n",
    "K=scale*K\n",
    "\n",
    "A=scale*A\n",
    "\n",
    "B=scale*B\n",
    "\n",
    "print(LA.norm(A+B.dot(K),2))\n",
    "\n",
    "#Check if the value is < 1 to see if the random policy is stable\n",
    "\n"
   ]
  },
  {
   "cell_type": "code",
   "execution_count": 8,
   "metadata": {},
   "outputs": [
    {
     "name": "stdout",
     "output_type": "stream",
     "text": [
      "[[0.08720674 0.08139763]\n",
      " [0.04243192 0.02185457]]\n"
     ]
    }
   ],
   "source": [
    "print(K)"
   ]
  },
  {
   "cell_type": "code",
   "execution_count": 9,
   "metadata": {},
   "outputs": [
    {
     "name": "stdout",
     "output_type": "stream",
     "text": [
      "8.773232145453936e-06\n"
     ]
    }
   ],
   "source": [
    "#Please run this cell a few times each time a new random policy and take an estimate of the final cost\n",
    "#Use this estimate to choose nu a number strictly larger than all these final_costs but not too much larger than these\n",
    "\n",
    "x_dynamics=np.zeros((2,time.shape[0]))\n",
    "x_0=np.random.rand(2)\n",
    "x_dynamics[:,0]=x_0\n",
    "x_dynamics\n",
    "\n",
    "u_0=K.dot(x_0)\n",
    "\n",
    "cost=np.zeros((time.shape[0]))\n",
    "ins=np.zeros((time.shape[0]))\n",
    "agg_cost=np.zeros((time.shape[0]))\n",
    "x_norm=np.zeros((time.shape[0]))\n",
    "\n",
    "c_0=x_0.dot((Q.dot(x_0)))+u_0.dot((R.dot(u_0)))\n",
    "\n",
    "cost[0]=c_0\n",
    "ins[0]=c_0\n",
    "agg_cost[0]=c_0\n",
    "x_norm[0]=LA.norm(x_0,2)\n",
    "\n",
    "for t in range(1,time.shape[0]):\n",
    "    xprev=x_dynamics[:,t-1]\n",
    "    uprev=K.dot(xprev)\n",
    "    xt=A.dot(xprev)+B.dot(uprev)+np.random.normal(0,np.sqrt(var1),xprev.shape)\n",
    "    ut=K.dot(xt)\n",
    "    ct=xt.dot(Q.dot(xt))+ut.dot(R.dot(ut))\n",
    "    ins[t]=ct\n",
    "    c=(cost[t-1]*(t)+ct)/(t+1)\n",
    "    x_norm[t]=LA.norm(xt,2)\n",
    "    cost[t]=c\n",
    "    agg_cost[t]=c*(t+1)\n",
    "    x_dynamics[:,t]=xt\n",
    "    \n",
    "Final_Cost=(cost[time.shape[0]-1]*(time.shape[0])+x_dynamics[:,time.shape[0]-1].dot(Q.dot(x_dynamics[:,time.shape[0]-1])))/(time.shape[0]+1)\n",
    "\n",
    "print(Final_Cost)\n",
    "\n",
    "K_sample=K\n"
   ]
  },
  {
   "cell_type": "code",
   "execution_count": 10,
   "metadata": {},
   "outputs": [
    {
     "name": "stdout",
     "output_type": "stream",
     "text": [
      "[-0.00388    -0.00807365]\n",
      "4.350081826485999e-05\n"
     ]
    }
   ],
   "source": [
    "noise_sample=np.random.normal(0,np.sqrt(var1),xprev.shape)\n",
    "print(noise_sample)\n",
    "\n",
    "control_noise_sample=K.dot(noise_sample)\n",
    "\n",
    "cost_noise=noise_sample.dot(Q.dot(noise_sample))+control_noise_sample.dot(R.dot(control_noise_sample))\n",
    "print(cost_noise)"
   ]
  },
  {
   "cell_type": "code",
   "execution_count": 11,
   "metadata": {},
   "outputs": [
    {
     "data": {
      "text/plain": [
       "8.773232754886356e-06"
      ]
     },
     "execution_count": 11,
     "metadata": {},
     "output_type": "execute_result"
    }
   ],
   "source": [
    "cost[10000000-1]"
   ]
  },
  {
   "cell_type": "code",
   "execution_count": 12,
   "metadata": {},
   "outputs": [
    {
     "data": {
      "text/plain": [
       "87.73232754886355"
      ]
     },
     "execution_count": 12,
     "metadata": {},
     "output_type": "execute_result"
    }
   ],
   "source": [
    "agg_cost[10000000-1]"
   ]
  },
  {
   "cell_type": "code",
   "execution_count": 13,
   "metadata": {},
   "outputs": [],
   "source": [
    "#Now we set the hyperparameters for the OSLO Algorithm\n",
    "\n",
    "q1,q2=LA.eigh(Q)\n",
    "r1,r2=LA.eigh(R)\n",
    "\n",
    "\n",
    "minq=np.amin(q1)\n",
    "maxq=np.amax(q1)\n",
    "minr=np.amin(r1)\n",
    "maxr=np.amax(r1)\n",
    "\n",
    "\n",
    "\n",
    "alpha0=min(minq,minr)\n",
    "\n",
    "alpha1=max(maxq,maxr)\n",
    "\n",
    "Augmented=np.column_stack((A,B))\n",
    "\n",
    "nu=0.0005\n",
    "\n",
    "          #based on the above experiment running the previous block several times, the average cost on convergence is\n",
    "\n",
    "         # always upper bounded by the value of nu chosen so J* is definitely upper bounded by it \n",
    "\n",
    "vhi=LA.norm(Augmented,2)\n",
    "\n",
    "\n"
   ]
  },
  {
   "cell_type": "code",
   "execution_count": 14,
   "metadata": {},
   "outputs": [
    {
     "name": "stdout",
     "output_type": "stream",
     "text": [
      "0.1483235549520887 0.7075275901012019 0.0005 0.16990854954152337\n"
     ]
    }
   ],
   "source": [
    "print(alpha0,alpha1,nu,vhi)"
   ]
  },
  {
   "cell_type": "code",
   "execution_count": 15,
   "metadata": {},
   "outputs": [
    {
     "name": "stdout",
     "output_type": "stream",
     "text": [
      "2686.4900524338586 1000000 1e-07\n",
      "[[1000000       0       0       0]\n",
      " [      0 1000000       0       0]\n",
      " [      0       0 1000000       0]\n",
      " [      0       0       0 1000000]]\n"
     ]
    }
   ],
   "source": [
    "#Line 2 of the algorithm; initializing parameters\n",
    "\n",
    "\n",
    "n=4 #n=k+d=2+2=4\n",
    "\n",
    "mu=5*vhi*np.sqrt(time.shape[0])\n",
    "\n",
    "delta=0.1\n",
    "\n",
    "\n",
    "lamda=(2048*np.power(nu,5)*vhi*np.sqrt(time.shape[0]))/(np.power(alpha0,5)*np.power(var1,5))\n",
    "\n",
    "beta=(256*1024*np.power(nu,4)*n*n*np.log((time.shape[0])/delta))/(np.power(alpha0,4)*np.power(var1,3))\n",
    "\n",
    "bigI=np.array([[1,0,0,0],[0,1,0,0],[0,0,1,0],[0,0,0,1]])\n",
    "\n",
    "\n",
    "\n",
    "\n",
    "#next 2 lines for debugging\n",
    "\n",
    "#lamda=0.1   #Parameter estimation works with these values but the SDP's relaxation term is too big\n",
    "#beta=1      #And it messes up the entire thing; for parameter estimation to work and for the confidence matrix\n",
    "            #To grow sensibly, lamda*beta should be this constant 0.1, I believe\n",
    "\n",
    "#Will comment out the above two lines later\n",
    "\n",
    "\n",
    "#Now trying lamda and beta for getting good SDP relaxations\n",
    "\n",
    "lamda=1000000\n",
    "beta=0.0000001\n",
    "\n",
    "#Will comment these out later if things don't work\n",
    "\n",
    "V1=lamda*bigI\n",
    "\n",
    "print(mu,lamda,beta)\n",
    "\n",
    "print(V1)\n",
    "\n"
   ]
  },
  {
   "cell_type": "code",
   "execution_count": 16,
   "metadata": {},
   "outputs": [],
   "source": [
    "# We set further parameters for input of the algorithm (1st line in the paper)\n",
    "#Also epsilon is less than or equal to 1/(4lambda) as required in Theorem 4 of Paper\n",
    "\n",
    "\n",
    "\n",
    "\n",
    "epsilon=1/(4*lamda)\n",
    "\n",
    "\n",
    "#For trial using larger number eps instead of actual epsilon\n",
    "\n",
    "eps=0.0001\n",
    "\n",
    "A0=A+np.sqrt(eps/n)*np.random.rand(2,2)   #should be epsilon instead of eps\n",
    "\n",
    "B0=B+np.sqrt(eps/n)*np.random.rand(2,2)   #should be epsilon instead of eps\n",
    "\n",
    "\n",
    "#We use epsilon/n to ensure that the Frobenius norm square is upper bounded by epsilon as required for the initialization\n",
    "\n",
    "W=var1*I\n",
    "\n"
   ]
  },
  {
   "cell_type": "code",
   "execution_count": 17,
   "metadata": {},
   "outputs": [],
   "source": [
    "# We write a function to compute ridge regression for matrices for system parameter estimation\n",
    "\n",
    "def square_matrix_ridge_regression(X,Y,Astar,lmda,beeta):\n",
    "    t=1+X.shape[1]\n",
    "    D=lmda*np.array([[1,0,0,0],[0,1,0,0],[0,0,1,0],[0,0,0,1]])\n",
    "    C=lmda*Astar\n",
    "    for s in range(1,t):\n",
    "        xs=X[:,s-1]\n",
    "        ys=Y[:,s-1]\n",
    "        C=C+(1/beeta)*np.outer(ys,xs)\n",
    "        D=D+(1/beeta)*np.outer(xs,xs)\n",
    "    return C.dot(np.linalg.inv(D))\n",
    "\n",
    "\n",
    "\n"
   ]
  },
  {
   "cell_type": "code",
   "execution_count": 18,
   "metadata": {},
   "outputs": [],
   "source": [
    "# A function for the big dot\n",
    "\n",
    "def big_dot(A,B):\n",
    "    return np.trace(np.dot(A.T,B))\n"
   ]
  },
  {
   "cell_type": "code",
   "execution_count": 19,
   "metadata": {},
   "outputs": [],
   "source": [
    "# Function for the SDP solver\n",
    "\n",
    "\n",
    "\n",
    "\n",
    "\n",
    "def SDP_solver(At,Bt,Vt):\n",
    "    Vtinv=np.linalg.inv(Vt)\n",
    "    Sigma=cp.Variable((n,n))\n",
    "    sxx=cp.Variable((2,2))\n",
    "    suu=cp.Variable((2,2))\n",
    "    constraints=[Sigma>>0]\n",
    "    bigI=np.array([[1,0,0,0],[0,1,0,0],[0,0,1,0],[0,0,0,1]])\n",
    "    ABt=np.column_stack((At,Bt))\n",
    "    #Cost_Coefficient=np.array([[Q,[[1,0],[0,1]]],[[[1,0],[0,1]],R]])\n",
    "    I=np.array([[1,0],[0,1]])\n",
    "    \n",
    "    Left=np.array([[1,0,0,0],[0,1,0,0]])\n",
    "    Right=np.array([[1,0],[0,1],[0,0],[0,0]])\n",
    "    \n",
    "    constraints+=[ sxx  >> (((ABt)@Sigma)@(ABt.T))+W-mu*cp.trace((Sigma.T)@(Vtinv))*I ]\n",
    "    \n",
    "    constraints+=[ sxx == (Left@Sigma)@Right  ]\n",
    "    \n",
    "    Lefty=np.array([[0,0,1,0],[0,0,0,1]])\n",
    "    Righty=np.array([[0,0],[0,0],[1,0],[0,1]])\n",
    "    \n",
    "    constraints+=[ suu == (Lefty@Sigma)@Righty  ]\n",
    "    \n",
    "    prob = cp.Problem(cp.Minimize(cp.trace(sxx.T @ Q + suu.T @ R)),constraints)\n",
    "    prob.solve()\n",
    "    if(Sigma.value is None):\n",
    "        infeasibility_flag=1\n",
    "        print(prob.value)\n",
    "        print(\"Infeasibilty_flag value is: \",infeasibility_flag)\n",
    "        return (bigI)\n",
    "    else:\n",
    "        infeasibility_flag=0\n",
    "    \n",
    "        #print(\"Infeasibilty_flag value is: \",infeasibility_flag)\n",
    "        return (Sigma.value)\n",
    "\n",
    "\n",
    "\n",
    "\n",
    "\n"
   ]
  },
  {
   "cell_type": "code",
   "execution_count": 20,
   "metadata": {},
   "outputs": [
    {
     "name": "stdout",
     "output_type": "stream",
     "text": [
      "WARN: m less than n, problem likely degenerate\n"
     ]
    }
   ],
   "source": [
    "#Now we prepare to run the dynamical system with policies as dictated by OSLO algorithm\n",
    "\n",
    "x_dynamics=np.zeros((2,time.shape[0]))\n",
    "z_dynamics=np.zeros((4,time.shape[0]))\n",
    "#x_0=np.random.rand(2) We use the same x_0 initialization for all the algorithms\n",
    "x_dynamics[:,0]=x_0\n",
    "z_dynamics[0:2,0]=x_0\n",
    "#K0=np.random.rand(2,2)\n",
    "\n",
    "\n",
    "A_dynamics=np.zeros((time.shape[0],2,2))\n",
    "B_dynamics=np.zeros((time.shape[0],2,2))\n",
    "K_dynamics=np.zeros((time.shape[0],2,2))\n",
    "\n",
    "A_dynamics[0]=A0\n",
    "B_dynamics[0]=B0\n",
    "\n",
    "\n",
    "\n",
    "\n",
    "#K_dynamics[0]=K0\n",
    "\n",
    "V_dynamics=np.zeros((time.shape[0]+1,4,4))\n",
    "V_dynamics[0]=V1\n",
    "\n",
    "Sigma_0=SDP_solver(A_dynamics[0],B_dynamics[0],V_dynamics[0])\n",
    "\n",
    "Left=np.array([[1,0,0,0],[0,1,0,0]])\n",
    "Right=np.array([[1,0],[0,1],[0,0],[0,0]])\n",
    "\n",
    "#Do this correction while running as well, for policy computation take sigma_xx first and then take its inverse\n",
    "\n",
    "\n",
    "Sigma_0_xx=(Left.dot(Sigma_0)).dot(Right)\n",
    "Sigma_0_xx_inv=np.linalg.inv(Sigma_0_xx)\n",
    "K0=(Sigma_0[2:4,0:2]).dot((Sigma_0_xx_inv))\n",
    "\n",
    "K_dynamics[0]=K0\n",
    "\n",
    "u_0=K0.dot(x_0)\n",
    "z_dynamics[2:4,0]=u_0\n",
    "\n",
    "\n",
    "cost=np.zeros((time.shape[0]))\n",
    "ins_dynamics=np.zeros((time.shape[0]))\n",
    "agg_cost_dynamics=np.zeros((time.shape[0]))\n",
    "z_norm=np.zeros((time.shape[0]))\n",
    "\n",
    "c_0=x_0.dot((Q.dot(x_0)))+u_0.dot((R.dot(u_0)))\n",
    "\n",
    "cost[0]=c_0\n",
    "ins_dynamics[0]=c_0\n",
    "agg_cost_dynamics[0]=c_0\n",
    "z_norm[0]=LA.norm(z_dynamics[:,0],2)\n",
    "x_norm[0]=LA.norm(x_0,2)\n",
    "\n",
    "z0=z_dynamics[:,0]\n",
    "\n",
    "V_dynamics[1]=V_dynamics[0]+(1/beta)*np.outer(z0,z0)\n",
    "\n",
    "#Episode index is tau, and we need to start an episode at the beginning\n",
    "\n",
    "tau=0\n",
    "\n",
    "#Now all the intializations are done, so we start running the OSLO algorithm in the next cell\n",
    "\n",
    "\n",
    "\n",
    "\n",
    "\n",
    "\n"
   ]
  },
  {
   "cell_type": "code",
   "execution_count": 21,
   "metadata": {},
   "outputs": [
    {
     "name": "stdout",
     "output_type": "stream",
     "text": [
      "Episode 1268\n",
      "[[0.03011117 0.06641777 0.02257651 0.09169187]\n",
      " [0.02217009 0.08641072 0.00328515 0.09829972]]\n",
      "WARN: m less than n, problem likely degenerate\n",
      "[[ 1.25185607e-05  7.72840019e-08  1.05472965e-08 -6.98687107e-08]\n",
      " [ 7.72840019e-08  1.25506329e-05  3.48880262e-08 -2.20797492e-07]\n",
      " [ 1.05472965e-08  3.48880262e-08  1.04689637e-10 -6.70494582e-10]\n",
      " [-6.98687107e-08 -2.20797492e-07 -6.70494582e-10  4.25878592e-09]]\n",
      "Episode 5836\n",
      "[[0.02838859 0.06564448 0.02257298 0.09171454]\n",
      " [0.02218971 0.08656687 0.0032856  0.09829687]]\n",
      "WARN: m less than n, problem likely degenerate\n",
      "[[ 1.25306421e-05  7.62155717e-08  1.03620926e-08 -6.83406716e-08]\n",
      " [ 7.62155717e-08  1.25656166e-05  3.48257621e-08 -2.20473142e-07]\n",
      " [ 1.03620926e-08  3.48257621e-08  1.04156314e-10 -6.65459924e-10]\n",
      " [-6.83406716e-08 -2.20473142e-07 -6.65459924e-10  4.22628034e-09]]\n",
      "Episode 12400\n",
      "[[0.03003408 0.0539602  0.02254198 0.09191066]\n",
      " [0.0196598  0.07812686 0.00326035 0.09845707]]\n",
      "WARN: m less than n, problem likely degenerate\n",
      "[[ 1.25249558e-05  5.79006031e-08  9.68084021e-09 -6.47835232e-08]\n",
      " [ 5.79006031e-08  1.25575623e-05  3.07875910e-08 -1.93614857e-07]\n",
      " [ 9.68084021e-09  3.07875910e-08  8.25627729e-11 -5.23399531e-10]\n",
      " [-6.47835232e-08 -1.93614857e-07 -5.23399531e-10  3.31100933e-09]]\n",
      "Episode 21714\n",
      "[[0.02917314 0.05625735 0.02254592 0.09188655]\n",
      " [0.01695768 0.07948484 0.00326135 0.09845194]]\n",
      "WARN: m less than n, problem likely degenerate\n",
      "[[ 1.25344966e-05  5.98762916e-08  8.73390172e-09 -5.91183375e-08]\n",
      " [ 5.98762916e-08  1.25660212e-05  3.14774786e-08 -1.98347363e-07]\n",
      " [ 8.73390172e-09  3.14774786e-08  8.45878939e-11 -5.36736591e-10]\n",
      " [-5.91183375e-08 -1.98347363e-07 -5.36736591e-10  3.40072149e-09]]\n",
      "Episode 34972\n",
      "[[0.03047252 0.05546913 0.0225446  0.09189427]\n",
      " [0.02025158 0.08201296 0.00326768 0.09841082]]\n",
      "WARN: m less than n, problem likely degenerate\n",
      "[[ 1.25393077e-05  6.23308825e-08  9.94341233e-09 -6.64966197e-08]\n",
      " [ 6.23308825e-08  1.25775411e-05  3.22225148e-08 -2.02554740e-07]\n",
      " [ 9.94341233e-09  3.22225148e-08  9.00500341e-11 -5.70074264e-10]\n",
      " [-6.64966197e-08 -2.02554740e-07 -5.70074263e-10  3.60405527e-09]]\n",
      "Episode 53678\n",
      "[[0.03259016 0.05716034 0.02255053 0.09185668]\n",
      " [0.01754582 0.08124747 0.00326351 0.09843774]]\n",
      "WARN: m less than n, problem likely degenerate\n",
      "[[ 1.25468433e-05  6.29627623e-08  9.32107266e-09 -6.35622300e-08]\n",
      " [ 6.29627623e-08  1.25782390e-05  3.21575384e-08 -2.02709930e-07]\n",
      " [ 9.32107266e-09  3.21575384e-08  8.87823201e-11 -5.63953499e-10]\n",
      " [-6.35622300e-08 -2.02709930e-07 -5.63953499e-10  3.57861960e-09]]\n",
      "Episode 80208\n",
      "[[0.03456409 0.05534622 0.02254702 0.09187699]\n",
      " [0.02040776 0.08192923 0.00326639 0.0984168 ]]\n",
      "WARN: m less than n, problem likely degenerate\n",
      "[[ 1.25484403e-05  6.32672580e-08  1.04594942e-08 -7.07140651e-08]\n",
      " [ 6.32672580e-08  1.25834573e-05  3.21864196e-08 -2.02426104e-07]\n",
      " [ 1.04594942e-08  3.21864196e-08  9.06629875e-11 -5.75008825e-10]\n",
      " [-7.07140651e-08 -2.02426104e-07 -5.75008825e-10  3.64343075e-09]]\n",
      "Episode 117657\n",
      "[[0.03563593 0.05766174 0.02255422 0.09183147]\n",
      " [0.01713919 0.08047395 0.00325802 0.0984721 ]]\n",
      "WARN: m less than n, problem likely degenerate\n",
      "[[ 1.25543840e-05  6.34210222e-08  9.53691123e-09 -6.57314882e-08]\n",
      " [ 6.34210222e-08  1.25807654e-05  3.19730508e-08 -2.01844535e-07]\n",
      " [ 9.53691123e-09  3.19730508e-08  8.81480193e-11 -5.61339965e-10]\n",
      " [-6.57314882e-08 -2.01844535e-07 -5.61339963e-10  3.57191508e-09]]\n",
      "Episode 170311\n",
      "[[0.03682251 0.05844198 0.02255623 0.09181589]\n",
      " [0.01814035 0.08277179 0.00326327 0.09843564]]\n",
      "WARN: m less than n, problem likely degenerate\n",
      "[[ 1.25577773e-05  6.65297790e-08  1.00034333e-08 -6.87977649e-08]\n",
      " [ 6.65297790e-08  1.25870374e-05  3.28113622e-08 -2.06987749e-07]\n",
      " [ 1.00034333e-08  3.28113622e-08  9.31076170e-11 -5.92609226e-10]\n",
      " [-6.87977649e-08 -2.06987749e-07 -5.92609228e-10  3.76879218e-09]]\n",
      "Episode 244679\n",
      "[[0.03503344 0.05961662 0.0225585  0.09180523]\n",
      " [0.01716679 0.08345324 0.00326465 0.09842886]]\n",
      "WARN: m less than n, problem likely degenerate\n",
      "[[ 1.25587617e-05  6.74000126e-08  9.49209432e-09 -6.53371829e-08]\n",
      " [ 6.74000126e-08  1.25888715e-05  3.31557320e-08 -2.09334884e-07]\n",
      " [ 9.49209432e-09  3.31557320e-08  9.41170094e-11 -5.99004111e-10]\n",
      " [-6.53371829e-08 -2.09334884e-07 -5.99004110e-10  3.80925868e-09]]\n",
      "Episode 350078\n",
      "[[0.03526297 0.05939824 0.02255747 0.09181148]\n",
      " [0.01781321 0.08276581 0.00326144 0.09844857]]\n",
      "WARN: m less than n, problem likely degenerate\n",
      "[[ 1.25592650e-05  6.70139011e-08  9.72584486e-09 -6.67434428e-08]\n",
      " [ 6.70139011e-08  1.25883741e-05  3.29154968e-08 -2.07879683e-07]\n",
      " [ 9.72584486e-09  3.29154968e-08  9.32076144e-11 -5.93510038e-10]\n",
      " [-6.67434428e-08 -2.07879683e-07 -5.93510039e-10  3.77583217e-09]]\n",
      "Episode 498697\n",
      "[[0.03592888 0.06078782 0.02256293 0.09177479]\n",
      " [0.01814838 0.08424441 0.00326701 0.09841155]]\n",
      "WARN: m less than n, problem likely degenerate\n",
      "[[ 1.25623319e-05  6.98146775e-08  9.91581895e-09 -6.80677605e-08]\n",
      " [ 6.98146775e-08  1.25919791e-05  3.35430312e-08 -2.11990728e-07]\n",
      " [ 9.91581895e-09  3.35430312e-08  9.67547765e-11 -6.16567978e-10]\n",
      " [-6.80677605e-08 -2.11990728e-07 -6.16567978e-10  3.92508620e-09]]\n",
      "Episode 709384\n",
      "[[0.03530452 0.0600929  0.02255726 0.091813  ]\n",
      " [0.01677961 0.08433208 0.00326546 0.09842395]]\n",
      "WARN: m less than n, problem likely degenerate\n",
      "[[ 1.25610655e-05  6.84240844e-08  9.40540387e-09 -6.49270250e-08]\n",
      " [ 6.84240844e-08  1.25918859e-05  3.34940321e-08 -2.11459293e-07]\n",
      " [ 9.40540387e-09  3.34940321e-08  9.57589399e-11 -6.09349405e-10]\n",
      " [-6.49270250e-08 -2.11459293e-07 -6.09349405e-10  3.87489712e-09]]\n",
      "Episode 1007115\n",
      "[[0.03492896 0.0600927  0.02255805 0.09180904]\n",
      " [0.01776714 0.08502543 0.00326783 0.0984063 ]]\n",
      "WARN: m less than n, problem likely degenerate\n",
      "[[ 1.25609420e-05  6.92797203e-08  9.68213285e-09 -6.64158145e-08]\n",
      " [ 6.92797204e-08  1.25939750e-05  3.37182176e-08 -2.12788481e-07]\n",
      " [ 9.68213285e-09  3.37182176e-08  9.73433596e-11 -6.19076510e-10]\n",
      " [-6.64158145e-08 -2.12788481e-07 -6.19076510e-10  3.93415465e-09]]\n",
      "Episode 1429584\n",
      "[[0.03414894 0.05967628 0.0225539  0.0918349 ]\n",
      " [0.0180809  0.08530035 0.00327043 0.09839014]]\n",
      "WARN: m less than n, problem likely degenerate\n",
      "[[ 1.25598079e-05  6.90063451e-08  9.69349531e-09 -6.62478459e-08]\n",
      " [ 6.90063451e-08  1.25948541e-05  3.37576770e-08 -2.12902270e-07]\n",
      " [ 9.69349531e-09  3.37576770e-08  9.75717653e-11 -6.19950775e-10]\n",
      " [-6.62478459e-08 -2.12902270e-07 -6.19950774e-10  3.93608431e-09]]\n",
      "Episode 2025729\n",
      "[[0.03412448 0.06044769 0.02256094 0.09179244]\n",
      " [0.01881719 0.08454434 0.00326417 0.09843016]]\n",
      "WARN: m less than n, problem likely degenerate\n",
      "[[ 1.25610375e-05  6.95646911e-08  9.92923699e-09 -6.75993439e-08]\n",
      " [ 6.95646911e-08  1.25937140e-05  3.36090894e-08 -2.12262139e-07]\n",
      " [ 9.92923699e-09  3.36090894e-08  9.71208752e-11 -6.18042194e-10]\n",
      " [-6.75993439e-08 -2.12262139e-07 -6.18042194e-10  3.92883457e-09]]\n",
      "Episode 2869027\n",
      "[[0.03481023 0.06025114 0.02256361 0.09178058]\n",
      " [0.01856759 0.08433709 0.00326147 0.09844631]]\n",
      "WARN: m less than n, problem likely degenerate\n",
      "[[ 1.25614164e-05  6.92613773e-08  9.92553350e-09 -6.77810061e-08]\n",
      " [ 6.92613773e-08  1.25932455e-05  3.35217906e-08 -2.11693265e-07]\n",
      " [ 9.92553350e-09  3.35217906e-08  9.66599249e-11 -6.15209000e-10]\n",
      " [-6.77810061e-08 -2.11693265e-07 -6.15209000e-10  3.91181986e-09]]\n",
      "Episode 4061301\n",
      "[[0.03483022 0.06009044 0.02256312 0.09178411]\n",
      " [0.01838476 0.08409821 0.00325957 0.09845895]]\n",
      "WARN: m less than n, problem likely degenerate\n",
      "[[ 1.25612544e-05  6.88466541e-08  9.86847571e-09 -6.74535449e-08]\n",
      " [ 6.88466541e-08  1.25927235e-05  3.34295657e-08 -2.11095973e-07]\n",
      " [ 9.86847571e-09  3.34295657e-08  9.60902881e-11 -6.11558929e-10]\n",
      " [-6.74535449e-08 -2.11095973e-07 -6.11558929e-10  3.88856476e-09]]\n",
      "Episode 5750132\n",
      "[[0.03479909 0.06017027 0.02256302 0.09178459]\n",
      " [0.0185335  0.08415452 0.00326006 0.09845558]]\n",
      "WARN: m less than n, problem likely degenerate\n",
      "[[ 1.25613825e-05  6.90272920e-08  9.91292454e-09 -6.77025091e-08]\n",
      " [ 6.90272919e-08  1.25929464e-05  3.34569980e-08 -2.11282818e-07]\n",
      " [ 9.91292454e-09  3.34569980e-08  9.62992022e-11 -6.12926867e-10]\n",
      " [-6.77025091e-08 -2.11282818e-07 -6.12926867e-10  3.89735453e-09]]\n",
      "Episode 8137149\n",
      "[[0.0348031  0.06005723 0.02256286 0.09178591]\n",
      " [0.01833071 0.08427655 0.00325907 0.09846128]]\n",
      "WARN: m less than n, problem likely degenerate\n",
      "[[ 1.25612468e-05  6.89131689e-08  9.84880035e-09 -6.73320530e-08]\n",
      " [ 6.89131689e-08  1.25931343e-05  3.34863776e-08 -2.11408178e-07]\n",
      " [ 9.84880035e-09  3.34863776e-08  9.63608844e-11 -6.13120716e-10]\n",
      " [-6.73320530e-08 -2.11408178e-07 -6.13120716e-10  3.89761534e-09]]\n"
     ]
    },
    {
     "name": "stdout",
     "output_type": "stream",
     "text": [
      "Algorithm OSLO execution complete\n"
     ]
    }
   ],
   "source": [
    "#Running the Dynamical System with OSLO Policies, the only difference from the paper is we play the first round \n",
    "# with a random policy and start OSLO policy from the next round onwards\n",
    "\n",
    "for t in range(1,time.shape[0]):\n",
    "    xprev=x_dynamics[:,t-1]\n",
    "    zprev=z_dynamics[:,t-1]\n",
    "    uprev=zprev[2:4]    \n",
    "    xt=A.dot(xprev)+B.dot(uprev)+np.random.normal(0,np.sqrt(var1),xprev.shape)\n",
    "    x_dynamics[:,t]=xt\n",
    "    #ut=K.dot(xt)\n",
    "    # Change to OSLO starts here\n",
    "    if (np.linalg.det(V_dynamics[t])>2*np.linalg.det(V_dynamics[tau])):\n",
    "        tau=t \n",
    "        #starts a new episode in this case and estimate parameters for this episode next\n",
    "        X=x_dynamics[:,1:t+1]\n",
    "        Z=z_dynamics[:,0:t]\n",
    "        A0B0=np.column_stack((A0,B0))\n",
    "        AtBt=square_matrix_ridge_regression(Z,X,A0B0,lamda,beta)\n",
    "        A_dynamics[t]=AtBt[:,0:2]\n",
    "        B_dynamics[t]=AtBt[:,2:4]\n",
    "        \n",
    "        #Now we compute the policy for this round using SDP solver\n",
    "        print(\"Episode\",tau)   #Debugging purpose line\n",
    "        print(AtBt)\n",
    "        \n",
    "        Sigmat=SDP_solver(A_dynamics[t],B_dynamics[t],V_dynamics[t])\n",
    "        \n",
    "        if (infeasibility_flag == 1):\n",
    "            A_dynamics[t]=A_dynamics[t-1]\n",
    "            B_dynamics[t]=B_dynamics[t-1]\n",
    "            K_dynamics[t]=K_dynamics[t-1]\n",
    "            print(Sigmat)\n",
    "        \n",
    "        else:\n",
    "            print(Sigmat)\n",
    "            \n",
    "            #Extracting policy from the relaxed SDP's solution\n",
    "            \n",
    "            Left=np.array([[1,0,0,0],[0,1,0,0]])\n",
    "            Right=np.array([[1,0],[0,1],[0,0],[0,0]])\n",
    "            \n",
    "            Sigma_t_xx=(Left.dot(Sigmat)).dot(Right)\n",
    "            Sigma_t_xx_inv=np.linalg.inv(Sigma_t_xx)\n",
    "            Kt=(Sigmat[2:4,0:2]).dot((Sigma_t_xx_inv))\n",
    "            K_dynamics[t]=Kt\n",
    "        \n",
    "    else:\n",
    "        A_dynamics[t]=A_dynamics[t-1]\n",
    "        B_dynamics[t]=B_dynamics[t-1]\n",
    "        K_dynamics[t]=K_dynamics[t-1]\n",
    "    \n",
    "   \n",
    "        \n",
    "    \n",
    "    \n",
    "    \n",
    "    \n",
    "    #Policy computed\n",
    "    #Now we update the parameters for the next round: part of the OSLO\n",
    "    ut=K_dynamics[t].dot(xt)\n",
    "    zt=np.zeros(4)\n",
    "    zt[0:2]=xt\n",
    "    zt[2:4]=ut\n",
    "    z_dynamics[:,t]=zt\n",
    "    z_norm[t]=LA.norm(zt,2)\n",
    "    V_dynamics[t+1]=V_dynamics[t]+(1/beta)*np.outer(zt,zt)   #should be 1/beta just to check if episode change occurs\n",
    "    # Change to OSLO ends here\n",
    "    ct=xt.dot(Q.dot(xt))+ut.dot(R.dot(ut))\n",
    "    ins_dynamics[t]=ct\n",
    "    c=(cost[t-1]*(t)+ct)/(t+1)\n",
    "    x_norm[t]=LA.norm(xt,2)\n",
    "    cost[t]=c\n",
    "    agg_cost_dynamics[t]=c*(t+1)\n",
    "\n",
    "print(\"Algorithm OSLO execution complete\")\n",
    "    \n",
    "    \n",
    "Final_Cost=(cost[time.shape[0]-1]*(time.shape[0])+x_dynamics[:,time.shape[0]-1].dot(Q.dot(x_dynamics[:,time.shape[0]-1])))/(time.shape[0]+1)\n",
    "\n",
    "\n",
    "\n",
    "\n",
    "Final_Cost=Final_Cost*(time.shape[0])\n",
    "\n",
    "\n",
    "\n",
    "\n",
    "\n"
   ]
  },
  {
   "cell_type": "code",
   "execution_count": 22,
   "metadata": {},
   "outputs": [
    {
     "data": {
      "text/plain": [
       "86.08012844034913"
      ]
     },
     "execution_count": 22,
     "metadata": {},
     "output_type": "execute_result"
    }
   ],
   "source": [
    "Final_Cost\n"
   ]
  },
  {
   "cell_type": "code",
   "execution_count": 23,
   "metadata": {},
   "outputs": [
    {
     "data": {
      "text/plain": [
       "86.08013429452815"
      ]
     },
     "execution_count": 23,
     "metadata": {},
     "output_type": "execute_result"
    }
   ],
   "source": [
    "agg_cost_dynamics[10000000-1]"
   ]
  },
  {
   "cell_type": "code",
   "execution_count": 24,
   "metadata": {},
   "outputs": [],
   "source": [
    "#agg_Opt_cost[10000000-1]"
   ]
  },
  {
   "cell_type": "code",
   "execution_count": 25,
   "metadata": {},
   "outputs": [],
   "source": [
    "#agg_cost[10000000-1]"
   ]
  },
  {
   "cell_type": "code",
   "execution_count": 26,
   "metadata": {},
   "outputs": [],
   "source": [
    "#Ricatti Solver and testing the average cost with this\n",
    "\n",
    "Opt_x_dynamics=np.zeros((2,time.shape[0]))\n",
    "Opt_x_0=x_0 #Using the same initial state everywhere\n",
    "Opt_x_dynamics[:,0]=Opt_x_0\n",
    "Opt_x_dynamics\n",
    "Opt_cost=np.zeros((time.shape[0]))\n",
    "ins_Opt=np.zeros((time.shape[0]))\n",
    "agg_Opt_cost=np.zeros((time.shape[0]))\n",
    "Opt_x_norm=np.zeros((time.shape[0]))\n",
    "\n",
    "## Opt_c_0=Opt_x_0.dot((Q.dot(Opt_x_0)))+Opt_u_0.dot((R.dot(Opt_u_0))) This line will appear after we have Opt_u_0 from K_0 after Dynamic Programming\n",
    "\n",
    "\n"
   ]
  },
  {
   "cell_type": "code",
   "execution_count": 27,
   "metadata": {},
   "outputs": [],
   "source": [
    "# Dynamic Programming for Riccati Solver Policies\n",
    "\n",
    "\n",
    "P=np.zeros((time.shape[0],2,2))\n",
    "K=np.zeros((time.shape[0],2,2))\n",
    "#zero_init=np.zeros((2,2))\n",
    "for t in range((time.shape[0])):\n",
    "    P[t]=np.zeros((2,2))\n",
    "    K[t]=np.zeros((2,2))\n",
    "P[time.shape[0]-1]=Q\n",
    "K[time.shape[0]-1]=np.dot(np.dot(np.dot(np.linalg.inv(R+np.dot(np.dot(B.T,Q),B)),B.T),Q),A)\n",
    "\n",
    "for t in range(1,time.shape[0]):\n",
    "    P[time.shape[0]-t-1]=Q+np.dot(A.T,np.dot(P[time.shape[0]-t],A))-np.dot(np.dot(np.dot(np.dot(np.dot(np.dot(A.T,P[time.shape[0]-t].T),B),np.linalg.inv(R+np.dot(B.T,np.dot(P[time.shape[0]-t],B)))),B.T),P[time.shape[0]-t]),A)\n",
    "    K[time.shape[0]-t-1]=np.dot(np.dot(np.dot(np.linalg.inv(R+np.dot(np.dot(B.T,P[time.shape[0]-t]),B)),B.T),P[time.shape[0]-t]),A)\n"
   ]
  },
  {
   "cell_type": "code",
   "execution_count": 28,
   "metadata": {},
   "outputs": [],
   "source": [
    "#Now we run the Riccati Optimal Policies\n",
    "\n",
    "#First some initializations\n",
    "\n",
    "Opt_u_0= -K[0].dot(Opt_x_0)\n",
    "\n",
    "Opt_c_0=Opt_x_0.dot((Q.dot(Opt_x_0)))+Opt_u_0.dot((R.dot(Opt_u_0)))\n",
    "\n",
    "#cost[0]=c_0\n",
    "#x_norm[0]=LA.norm(x_0,2)\n",
    "\n",
    "Opt_cost[0]=Opt_c_0\n",
    "ins_Opt[0]=Opt_c_0\n",
    "agg_Opt_cost[0]=Opt_c_0\n",
    "Opt_x_norm[0]=LA.norm(Opt_x_0,2)\n",
    "\n",
    "#Now we simulate the Linear Dynamical System, this time playing optimally using Riccati Policies\n",
    "\n",
    "\n",
    "for t in range(1,time.shape[0]):\n",
    "    xprev=Opt_x_dynamics[:,t-1]\n",
    "    uprev=K[t-1].dot(xprev)\n",
    "    xt=A.dot(xprev)+B.dot(uprev)+np.random.normal(0,np.sqrt(var1),xprev.shape)\n",
    "    ut=-K[t].dot(xt)\n",
    "    nct=xt.dot(Q.dot(xt))+ut.dot(R.dot(ut))\n",
    "    ins_Opt[t]=nct\n",
    "    c=(Opt_cost[t-1]*(t)+nct)/(t+1)\n",
    "    Opt_x_norm[t]=LA.norm(xt,2)\n",
    "    Opt_cost[t]=c\n",
    "    agg_Opt_cost[t]=c*(t+1)\n",
    "    Opt_x_dynamics[:,t]=xt\n",
    "    \n",
    "Opt_Final_Cost=(Opt_cost[time.shape[0]-1]*(time.shape[0])+Opt_x_dynamics[:,time.shape[0]-1].dot(Q.dot(Opt_x_dynamics[:,time.shape[0]-1])))/(time.shape[0]+1)\n",
    "\n",
    "Opt_Final_Cost=Opt_Final_Cost*(time.shape[0]+1)\n"
   ]
  },
  {
   "cell_type": "code",
   "execution_count": 29,
   "metadata": {},
   "outputs": [
    {
     "data": {
      "text/plain": [
       "0.011583581044233682"
      ]
     },
     "execution_count": 29,
     "metadata": {},
     "output_type": "execute_result"
    }
   ],
   "source": [
    "agg_Opt_cost[10-1]"
   ]
  },
  {
   "cell_type": "code",
   "execution_count": 30,
   "metadata": {},
   "outputs": [
    {
     "data": {
      "text/plain": [
       "87.73232754886355"
      ]
     },
     "execution_count": 30,
     "metadata": {},
     "output_type": "execute_result"
    }
   ],
   "source": [
    "agg_cost[10000000-1]"
   ]
  },
  {
   "cell_type": "code",
   "execution_count": 31,
   "metadata": {},
   "outputs": [
    {
     "data": {
      "text/plain": [
       "0.011565517943405504"
      ]
     },
     "execution_count": 31,
     "metadata": {},
     "output_type": "execute_result"
    }
   ],
   "source": [
    "agg_cost_dynamics[10-1]"
   ]
  },
  {
   "cell_type": "code",
   "execution_count": 32,
   "metadata": {},
   "outputs": [
    {
     "data": {
      "text/plain": [
       "array([[0.08720674, 0.08139763],\n",
       "       [0.04243192, 0.02185457]])"
      ]
     },
     "execution_count": 32,
     "metadata": {},
     "output_type": "execute_result"
    }
   ],
   "source": [
    "K_sample"
   ]
  },
  {
   "cell_type": "code",
   "execution_count": 33,
   "metadata": {},
   "outputs": [
    {
     "data": {
      "text/plain": [
       "array([[-0.0007807 , -0.00271589],\n",
       "       [ 0.00498821,  0.01625598]])"
      ]
     },
     "execution_count": 33,
     "metadata": {},
     "output_type": "execute_result"
    }
   ],
   "source": [
    "K[8000000]"
   ]
  },
  {
   "cell_type": "code",
   "execution_count": 34,
   "metadata": {},
   "outputs": [
    {
     "data": {
      "text/plain": [
       "array([[ 0.00077458,  0.00265256],\n",
       "       [-0.0052977 , -0.01674883]])"
      ]
     },
     "execution_count": 34,
     "metadata": {},
     "output_type": "execute_result"
    }
   ],
   "source": [
    "K_dynamics[8000000-1]"
   ]
  },
  {
   "cell_type": "code",
   "execution_count": 35,
   "metadata": {},
   "outputs": [
    {
     "data": {
      "text/plain": [
       "86.19390508280395"
      ]
     },
     "execution_count": 35,
     "metadata": {},
     "output_type": "execute_result"
    }
   ],
   "source": [
    "Opt_Final_Cost"
   ]
  },
  {
   "cell_type": "code",
   "execution_count": 36,
   "metadata": {},
   "outputs": [
    {
     "data": {
      "text/plain": [
       "[<matplotlib.lines.Line2D at 0x17c48d880>]"
      ]
     },
     "execution_count": 36,
     "metadata": {},
     "output_type": "execute_result"
    },
    {
     "data": {
      "image/png": "[encoded data removed]",
      "text/plain": [
       "<Figure size 432x288 with 1 Axes>"
      ]
     },
     "metadata": {
      "needs_background": "light"
     },
     "output_type": "display_data"
    }
   ],
   "source": [
    "plt.plot(time[0:1000000],cost[0:1000000])"
   ]
  },
  {
   "cell_type": "code",
   "execution_count": 37,
   "metadata": {},
   "outputs": [
    {
     "data": {
      "text/plain": [
       "[<matplotlib.lines.Line2D at 0x17c5f7eb0>]"
      ]
     },
     "execution_count": 37,
     "metadata": {},
     "output_type": "execute_result"
    },
    {
     "data": {
      "image/png": "[encoded data removed]",
      "text/plain": [
       "<Figure size 432x288 with 1 Axes>"
      ]
     },
     "metadata": {
      "needs_background": "light"
     },
     "output_type": "display_data"
    }
   ],
   "source": [
    "plt.plot(time[0:1000000],Opt_cost[0:1000000])"
   ]
  },
  {
   "cell_type": "code",
   "execution_count": 38,
   "metadata": {},
   "outputs": [
    {
     "data": {
      "text/plain": [
       "0.011484152484125544"
      ]
     },
     "execution_count": 38,
     "metadata": {},
     "output_type": "execute_result"
    }
   ],
   "source": [
    "Opt_cost[0]"
   ]
  },
  {
   "cell_type": "code",
   "execution_count": 39,
   "metadata": {},
   "outputs": [
    {
     "data": {
      "text/plain": [
       "0.011484356401295715"
      ]
     },
     "execution_count": 39,
     "metadata": {},
     "output_type": "execute_result"
    }
   ],
   "source": [
    "cost[0]"
   ]
  },
  {
   "cell_type": "code",
   "execution_count": 40,
   "metadata": {},
   "outputs": [
    {
     "data": {
      "text/plain": [
       "[<matplotlib.lines.Line2D at 0x17ccb8b80>]"
      ]
     },
     "execution_count": 40,
     "metadata": {},
     "output_type": "execute_result"
    },
    {
     "data": {
      "image/png": "[encoded data removed]",
      "text/plain": [
       "<Figure size 432x288 with 1 Axes>"
      ]
     },
     "metadata": {
      "needs_background": "light"
     },
     "output_type": "display_data"
    }
   ],
   "source": [
    "#Testing convergence of parameter estimation:\n",
    "#print(LA.norm((Augmented-AtBt),'fro'))\n",
    "err=np.zeros((time.shape[0]))\n",
    "for t in range(time.shape[0]):\n",
    "    AtBt=np.column_stack((A_dynamics[t],B_dynamics[t]))\n",
    "    err[t]=LA.norm((Augmented-AtBt),'fro')\n",
    "    \n",
    "plt.plot(time[0:time.shape[0]],err[0:time.shape[0]])"
   ]
  },
  {
   "cell_type": "code",
   "execution_count": 41,
   "metadata": {},
   "outputs": [
    {
     "name": "stdout",
     "output_type": "stream",
     "text": [
      "[0.00946944 0.00946944 0.00946944 0.00946944 0.00946944 0.00946944\n",
      " 0.00946944 0.00946944 0.00946944 0.00946944]\n"
     ]
    }
   ],
   "source": [
    "print(err[0:10]) #if same then parameter estimation never takes place"
   ]
  },
  {
   "cell_type": "code",
   "execution_count": 42,
   "metadata": {},
   "outputs": [
    {
     "name": "stdout",
     "output_type": "stream",
     "text": [
      "0.00946944472831679\n"
     ]
    }
   ],
   "source": [
    "print(err[0])"
   ]
  },
  {
   "cell_type": "code",
   "execution_count": 43,
   "metadata": {},
   "outputs": [
    {
     "data": {
      "text/plain": [
       "[<matplotlib.lines.Line2D at 0x17c44d5b0>]"
      ]
     },
     "execution_count": 43,
     "metadata": {},
     "output_type": "execute_result"
    },
    {
     "data": {
      "image/png": "[encoded data removed]",
      "text/plain": [
       "<Figure size 432x288 with 1 Axes>"
      ]
     },
     "metadata": {
      "needs_background": "light"
     },
     "output_type": "display_data"
    }
   ],
   "source": [
    "plt.plot(time[10:50],z_norm[10:50])"
   ]
  },
  {
   "cell_type": "code",
   "execution_count": 44,
   "metadata": {},
   "outputs": [
    {
     "data": {
      "text/plain": [
       "[<matplotlib.lines.Line2D at 0x17c78b490>]"
      ]
     },
     "execution_count": 44,
     "metadata": {},
     "output_type": "execute_result"
    },
    {
     "data": {
      "image/png": "[encoded data removed]",
      "text/plain": [
       "<Figure size 432x288 with 1 Axes>"
      ]
     },
     "metadata": {
      "needs_background": "light"
     },
     "output_type": "display_data"
    }
   ],
   "source": [
    "plt.plot(time[10:50],x_norm[10:50])"
   ]
  },
  {
   "cell_type": "code",
   "execution_count": 45,
   "metadata": {},
   "outputs": [
    {
     "data": {
      "text/plain": [
       "[<matplotlib.lines.Line2D at 0x17cacd790>]"
      ]
     },
     "execution_count": 45,
     "metadata": {},
     "output_type": "execute_result"
    },
    {
     "data": {
      "image/png": "[encoded data removed]",
      "text/plain": [
       "<Figure size 432x288 with 1 Axes>"
      ]
     },
     "metadata": {
      "needs_background": "light"
     },
     "output_type": "display_data"
    }
   ],
   "source": [
    "plt.plot(time[0:time.shape[0]],Opt_x_norm[0:time.shape[0]])"
   ]
  },
  {
   "cell_type": "code",
   "execution_count": 46,
   "metadata": {},
   "outputs": [
    {
     "data": {
      "text/plain": [
       "86.19390508280395"
      ]
     },
     "execution_count": 46,
     "metadata": {},
     "output_type": "execute_result"
    }
   ],
   "source": [
    "Opt_Final_Cost"
   ]
  },
  {
   "cell_type": "code",
   "execution_count": 47,
   "metadata": {},
   "outputs": [
    {
     "data": {
      "text/plain": [
       "2.753948454131455e-06"
      ]
     },
     "execution_count": 47,
     "metadata": {},
     "output_type": "execute_result"
    }
   ],
   "source": [
    "ct       #last iterate instantaneous cost of OSLO"
   ]
  },
  {
   "cell_type": "code",
   "execution_count": 48,
   "metadata": {},
   "outputs": [
    {
     "data": {
      "text/plain": [
       "1.051385374221678e-05"
      ]
     },
     "execution_count": 48,
     "metadata": {},
     "output_type": "execute_result"
    }
   ],
   "source": [
    "nct     #last iterate instantaneous cost of the optimal policy"
   ]
  },
  {
   "cell_type": "code",
   "execution_count": 49,
   "metadata": {},
   "outputs": [
    {
     "data": {
      "text/plain": [
       "86.08012844034913"
      ]
     },
     "execution_count": 49,
     "metadata": {},
     "output_type": "execute_result"
    }
   ],
   "source": [
    "Final_Cost"
   ]
  },
  {
   "cell_type": "code",
   "execution_count": 50,
   "metadata": {},
   "outputs": [],
   "source": [
    "V_det=np.zeros((time.shape[0]+1))"
   ]
  },
  {
   "cell_type": "code",
   "execution_count": 51,
   "metadata": {},
   "outputs": [],
   "source": [
    "for t in range(time.shape[0]+1):\n",
    "    V_det[t]=np.linalg.det(V_dynamics[t])\n"
   ]
  },
  {
   "cell_type": "code",
   "execution_count": 52,
   "metadata": {},
   "outputs": [
    {
     "data": {
      "text/plain": [
       "[<matplotlib.lines.Line2D at 0x17cc71700>]"
      ]
     },
     "execution_count": 52,
     "metadata": {},
     "output_type": "execute_result"
    },
    {
     "data": {
      "image/png": "[encoded data removed]",
      "text/plain": [
       "<Figure size 432x288 with 1 Axes>"
      ]
     },
     "metadata": {
      "needs_background": "light"
     },
     "output_type": "display_data"
    }
   ],
   "source": [
    "plt.plot(time,V_det[0:time.shape[0]])"
   ]
  },
  {
   "cell_type": "code",
   "execution_count": 53,
   "metadata": {},
   "outputs": [
    {
     "data": {
      "text/plain": [
       "[<matplotlib.lines.Line2D at 0x17c9055b0>]"
      ]
     },
     "execution_count": 53,
     "metadata": {},
     "output_type": "execute_result"
    },
    {
     "data": {
      "image/png": "[encoded data removed]",
      "text/plain": [
       "<Figure size 432x288 with 1 Axes>"
      ]
     },
     "metadata": {
      "needs_background": "light"
     },
     "output_type": "display_data"
    }
   ],
   "source": [
    "plt.plot(time[3000:10000],cost[3000:10000])"
   ]
  },
  {
   "cell_type": "code",
   "execution_count": 54,
   "metadata": {},
   "outputs": [
    {
     "data": {
      "text/plain": [
       "[<matplotlib.lines.Line2D at 0x17ca339d0>]"
      ]
     },
     "execution_count": 54,
     "metadata": {},
     "output_type": "execute_result"
    },
    {
     "data": {
      "image/png": "[encoded data removed]",
      "text/plain": [
       "<Figure size 432x288 with 1 Axes>"
      ]
     },
     "metadata": {
      "needs_background": "light"
     },
     "output_type": "display_data"
    }
   ],
   "source": [
    "plt.plot(time[3000:10000],Opt_cost[3000:10000])"
   ]
  },
  {
   "cell_type": "code",
   "execution_count": 55,
   "metadata": {},
   "outputs": [],
   "source": [
    "avg_regret=np.zeros((time.shape[0]))\n",
    "for t in range((time.shape[0])):\n",
    "    avg_regret[t]=cost[t]-Opt_cost[t]\n",
    "    #avg_regret[t]*=(t+1)\n",
    "    "
   ]
  },
  {
   "cell_type": "code",
   "execution_count": 56,
   "metadata": {},
   "outputs": [
    {
     "data": {
      "text/plain": [
       "[<matplotlib.lines.Line2D at 0x17c8ecfd0>]"
      ]
     },
     "execution_count": 56,
     "metadata": {},
     "output_type": "execute_result"
    },
    {
     "data": {
      "image/png": "[encoded data removed]",
      "text/plain": [
       "<Figure size 432x288 with 1 Axes>"
      ]
     },
     "metadata": {
      "needs_background": "light"
     },
     "output_type": "display_data"
    }
   ],
   "source": [
    "plt.plot(time[0:100],avg_regret[0:100])"
   ]
  },
  {
   "cell_type": "code",
   "execution_count": 57,
   "metadata": {},
   "outputs": [],
   "source": [
    "dill.dump_session('notebook_env.db')"
   ]
  },
  {
   "cell_type": "code",
   "execution_count": 58,
   "metadata": {},
   "outputs": [],
   "source": [
    "#dill.load_session('notebook_env.db')     #Uncomment this left command to load"
   ]
  },
  {
   "cell_type": "code",
   "execution_count": 59,
   "metadata": {},
   "outputs": [
    {
     "data": {
      "text/plain": [
       "array([[-0.0007807 , -0.00271589],\n",
       "       [ 0.00498821,  0.01625598]])"
      ]
     },
     "execution_count": 59,
     "metadata": {},
     "output_type": "execute_result"
    }
   ],
   "source": [
    "K[1000000]"
   ]
  },
  {
   "cell_type": "code",
   "execution_count": 60,
   "metadata": {},
   "outputs": [
    {
     "data": {
      "text/plain": [
       "array([[ 0.00073431,  0.00265598],\n",
       "       [-0.00507758, -0.01676571]])"
      ]
     },
     "execution_count": 60,
     "metadata": {},
     "output_type": "execute_result"
    }
   ],
   "source": [
    "K_dynamics[1000000]"
   ]
  },
  {
   "cell_type": "code",
   "execution_count": 61,
   "metadata": {},
   "outputs": [],
   "source": [
    "agg_regret=np.zeros((time.shape[0]))\n",
    "for t in range((time.shape[0])):\n",
    "    agg_regret[t]=agg_cost_dynamics[t]-agg_Opt_cost[t]\n",
    "    "
   ]
  },
  {
   "cell_type": "code",
   "execution_count": 62,
   "metadata": {},
   "outputs": [
    {
     "data": {
      "text/plain": [
       "[<matplotlib.lines.Line2D at 0x17ca88ca0>]"
      ]
     },
     "execution_count": 62,
     "metadata": {},
     "output_type": "execute_result"
    },
    {
     "data": {
      "image/png": "[encoded data removed]",
      "text/plain": [
       "<Figure size 432x288 with 1 Axes>"
      ]
     },
     "metadata": {
      "needs_background": "light"
     },
     "output_type": "display_data"
    }
   ],
   "source": [
    "plt.plot(time[0:10000000-1],agg_regret[0:10000000-1])"
   ]
  },
  {
   "cell_type": "code",
   "execution_count": 63,
   "metadata": {},
   "outputs": [],
   "source": [
    "for t in range((time.shape[0])):\n",
    "    avg_regret[t]=agg_regret[t]/(t+1)"
   ]
  },
  {
   "cell_type": "code",
   "execution_count": 64,
   "metadata": {},
   "outputs": [
    {
     "data": {
      "text/plain": [
       "[<matplotlib.lines.Line2D at 0x17c834dc0>]"
      ]
     },
     "execution_count": 64,
     "metadata": {},
     "output_type": "execute_result"
    },
    {
     "data": {
      "image/png": "[encoded data removed]",
      "text/plain": [
       "<Figure size 432x288 with 1 Axes>"
      ]
     },
     "metadata": {
      "needs_background": "light"
     },
     "output_type": "display_data"
    }
   ],
   "source": [
    "plt.plot(time[0:10000000-1],avg_regret[0:10000000-1])"
   ]
  },
  {
   "cell_type": "code",
   "execution_count": 99,
   "metadata": {},
   "outputs": [
    {
     "data": {
      "image/png": "[encoded data removed]",
      "text/plain": [
       "<Figure size 576x432 with 1 Axes>"
      ]
     },
     "metadata": {
      "needs_background": "light"
     },
     "output_type": "display_data"
    }
   ],
   "source": [
    "\n",
    "# Initialise the figure and axes.\n",
    "fig, ax = plt.subplots(1, figsize=(8, 6))\n",
    "\n",
    "\n",
    "# Set the title for the figure\n",
    "fig.suptitle('Aggregate Costs of the three policies', fontsize=15)\n",
    "\n",
    "# Draw all the lines in the same plot, assigning a label for each one to be\n",
    "# shown in the legend.\n",
    "ax.plot(time[100:1000], agg_cost[100:1000], color=\"red\", label=\"Sample static\")\n",
    "ax.plot(time[100:1000], agg_Opt_cost[100:1000], color=\"green\", label=\"Ricatti Optimal\")\n",
    "ax.plot(time[100:1000], agg_cost_dynamics[100:1000], color=\"blue\", label=\"OSLO\")\n",
    "#ax.plot(time, agg_regret, color=\"red\", label=\"Sum Regret\")\n",
    "#ax.plot(time, avg_regret,color=\"black\", label=\"Average Regret\")\n",
    "# Add a legend, and position it on the lower right (with no box)\n",
    "plt.legend(loc=\"lower right\", title=\"Legend\", frameon=False)\n",
    "\n",
    "plt.show()\n"
   ]
  },
  {
   "cell_type": "code",
   "execution_count": 66,
   "metadata": {},
   "outputs": [
    {
     "name": "stdout",
     "output_type": "stream",
     "text": [
      "WARN: m less than n, problem likely degenerate\n",
      "[[ 0.00078034  0.00271521]\n",
      " [-0.00498674 -0.01625303]]\n",
      "[[ 0.0007807   0.00271589]\n",
      " [-0.00498821 -0.01625598]]\n"
     ]
    }
   ],
   "source": [
    "#V=V_dynamics[time.shape[0]-1]\n",
    "V=V_dynamics[5000000]\n",
    "V_inv=np.linalg.inv(V)\n",
    "Sigma_relaxed=SDP_solver(A,B,V)\n",
    "\n",
    "Left=np.array([[1,0,0,0],[0,1,0,0]])\n",
    "Right=np.array([[1,0],[0,1],[0,0],[0,0]])\n",
    "\n",
    "\n",
    "Sigma_relaxed_xx=(Left.dot(Sigma_relaxed)).dot(Right)\n",
    "Sigma_relaxed_xx_inv=np.linalg.inv(Sigma_relaxed_xx)\n",
    "K_final=(Sigma_relaxed[2:4,0:2]).dot((Sigma_relaxed_xx_inv))\n",
    "\n",
    "print(K_final)\n",
    "print(-K[1000])"
   ]
  },
  {
   "cell_type": "code",
   "execution_count": 67,
   "metadata": {},
   "outputs": [
    {
     "data": {
      "text/plain": [
       "array([[1.07282542e-10, 0.00000000e+00, 0.00000000e+00, 0.00000000e+00],\n",
       "       [0.00000000e+00, 1.07282542e-10, 0.00000000e+00, 0.00000000e+00],\n",
       "       [0.00000000e+00, 0.00000000e+00, 1.07282542e-10, 0.00000000e+00],\n",
       "       [0.00000000e+00, 0.00000000e+00, 0.00000000e+00, 1.07282542e-10]])"
      ]
     },
     "execution_count": 67,
     "metadata": {},
     "output_type": "execute_result"
    }
   ],
   "source": [
    "mu*big_dot(Sigma_relaxed,V_inv)*bigI"
   ]
  },
  {
   "cell_type": "code",
   "execution_count": 68,
   "metadata": {},
   "outputs": [
    {
     "data": {
      "text/plain": [
       "array([[1.25617849e-05, 6.91937046e-08],\n",
       "       [6.91937046e-08, 1.25929340e-05]])"
      ]
     },
     "execution_count": 68,
     "metadata": {},
     "output_type": "execute_result"
    }
   ],
   "source": [
    "Sigma_relaxed_xx"
   ]
  },
  {
   "cell_type": "code",
   "execution_count": 69,
   "metadata": {},
   "outputs": [
    {
     "data": {
      "text/plain": [
       "0.012598651952685232"
      ]
     },
     "execution_count": 69,
     "metadata": {},
     "output_type": "execute_result"
    }
   ],
   "source": [
    "agg_cost_dynamics[100]"
   ]
  },
  {
   "cell_type": "code",
   "execution_count": 70,
   "metadata": {},
   "outputs": [
    {
     "data": {
      "text/plain": [
       "0.012494334991350766"
      ]
     },
     "execution_count": 70,
     "metadata": {},
     "output_type": "execute_result"
    }
   ],
   "source": [
    "agg_Opt_cost[100]"
   ]
  },
  {
   "cell_type": "code",
   "execution_count": 71,
   "metadata": {},
   "outputs": [
    {
     "data": {
      "text/plain": [
       "0.020245557927484364"
      ]
     },
     "execution_count": 71,
     "metadata": {},
     "output_type": "execute_result"
    }
   ],
   "source": [
    "agg_cost_dynamics[1000]"
   ]
  },
  {
   "cell_type": "code",
   "execution_count": 72,
   "metadata": {},
   "outputs": [
    {
     "data": {
      "text/plain": [
       "0.02052058672281907"
      ]
     },
     "execution_count": 72,
     "metadata": {},
     "output_type": "execute_result"
    }
   ],
   "source": [
    "agg_Opt_cost[1000]"
   ]
  },
  {
   "cell_type": "code",
   "execution_count": 73,
   "metadata": {},
   "outputs": [
    {
     "data": {
      "text/plain": [
       "0.09771695697598191"
      ]
     },
     "execution_count": 73,
     "metadata": {},
     "output_type": "execute_result"
    }
   ],
   "source": [
    "agg_cost_dynamics[10000]"
   ]
  },
  {
   "cell_type": "code",
   "execution_count": 74,
   "metadata": {},
   "outputs": [
    {
     "data": {
      "text/plain": [
       "0.09996516758869115"
      ]
     },
     "execution_count": 74,
     "metadata": {},
     "output_type": "execute_result"
    }
   ],
   "source": [
    "agg_Opt_cost[10000]"
   ]
  },
  {
   "cell_type": "code",
   "execution_count": 75,
   "metadata": {},
   "outputs": [
    {
     "data": {
      "text/plain": [
       "0.8672763561751912"
      ]
     },
     "execution_count": 75,
     "metadata": {},
     "output_type": "execute_result"
    }
   ],
   "source": [
    "agg_cost_dynamics[100000]"
   ]
  },
  {
   "cell_type": "code",
   "execution_count": 76,
   "metadata": {},
   "outputs": [
    {
     "data": {
      "text/plain": [
       "0.8778947649066764"
      ]
     },
     "execution_count": 76,
     "metadata": {},
     "output_type": "execute_result"
    }
   ],
   "source": [
    "agg_Opt_cost[100000]"
   ]
  },
  {
   "cell_type": "code",
   "execution_count": 77,
   "metadata": {},
   "outputs": [
    {
     "data": {
      "text/plain": [
       "8.636388660540357"
      ]
     },
     "execution_count": 77,
     "metadata": {},
     "output_type": "execute_result"
    }
   ],
   "source": [
    "agg_cost_dynamics[1000000]"
   ]
  },
  {
   "cell_type": "code",
   "execution_count": 78,
   "metadata": {},
   "outputs": [
    {
     "data": {
      "text/plain": [
       "8.644565860969156"
      ]
     },
     "execution_count": 78,
     "metadata": {},
     "output_type": "execute_result"
    }
   ],
   "source": [
    "agg_Opt_cost[1000000]"
   ]
  },
  {
   "cell_type": "code",
   "execution_count": 79,
   "metadata": {},
   "outputs": [
    {
     "data": {
      "text/plain": [
       "86.08013429452815"
      ]
     },
     "execution_count": 79,
     "metadata": {},
     "output_type": "execute_result"
    }
   ],
   "source": [
    "agg_cost_dynamics[10000000-1]"
   ]
  },
  {
   "cell_type": "code",
   "execution_count": 80,
   "metadata": {},
   "outputs": [
    {
     "data": {
      "text/plain": [
       "86.19389457121132"
      ]
     },
     "execution_count": 80,
     "metadata": {},
     "output_type": "execute_result"
    }
   ],
   "source": [
    "agg_Opt_cost[10000000-1]"
   ]
  },
  {
   "cell_type": "code",
   "execution_count": 81,
   "metadata": {},
   "outputs": [
    {
     "data": {
      "text/plain": [
       "array([8.53986759e-06])"
      ]
     },
     "execution_count": 81,
     "metadata": {},
     "output_type": "execute_result"
    }
   ],
   "source": [
    "#noise_variance*(Tr(Q+K.T*R*K))\n",
    "\n",
    "#Guessing instantaneous cost of OSLO\n",
    "\n",
    "\n",
    "var1*np.trace(Q+np.dot(K_final.T,np.dot(R,K_final)))"
   ]
  },
  {
   "cell_type": "code",
   "execution_count": 82,
   "metadata": {},
   "outputs": [
    {
     "data": {
      "text/plain": [
       "array([8.53986814e-06])"
      ]
     },
     "execution_count": 82,
     "metadata": {},
     "output_type": "execute_result"
    }
   ],
   "source": [
    "#noise_variance*(Tr(Q+K.T*R*K))\n",
    "\n",
    "#Guessing instantaneous cost of OSLO\n",
    "\n",
    "\n",
    "var1*np.trace(Q+np.dot(K[1000].T,np.dot(R,K[1000])))"
   ]
  },
  {
   "cell_type": "code",
   "execution_count": 83,
   "metadata": {},
   "outputs": [
    {
     "data": {
      "text/plain": [
       "2.753948454131455e-06"
      ]
     },
     "execution_count": 83,
     "metadata": {},
     "output_type": "execute_result"
    }
   ],
   "source": [
    "ct"
   ]
  },
  {
   "cell_type": "code",
   "execution_count": 84,
   "metadata": {},
   "outputs": [
    {
     "data": {
      "text/plain": [
       "1.051385374221678e-05"
      ]
     },
     "execution_count": 84,
     "metadata": {},
     "output_type": "execute_result"
    }
   ],
   "source": [
    "nct"
   ]
  },
  {
   "cell_type": "code",
   "execution_count": 85,
   "metadata": {},
   "outputs": [
    {
     "data": {
      "image/png": "[encoded data removed]",
      "text/plain": [
       "<Figure size 576x432 with 1 Axes>"
      ]
     },
     "metadata": {
      "needs_background": "light"
     },
     "output_type": "display_data"
    }
   ],
   "source": [
    "# Initialise the figure and axes.\n",
    "fig, ax = plt.subplots(1, figsize=(8, 6))\n",
    "\n",
    "\n",
    "# Set the title for the figure\n",
    "fig.suptitle('Instantaneous Costs of the three policies', fontsize=15)\n",
    "\n",
    "# Draw all the lines in the same plot, assigning a label for each one to be\n",
    "# shown in the legend.\n",
    "#ax.plot(time[1000:10000000], ins[1000:10000000], color=\"red\", label=\"Sample static\")\n",
    "ax.plot(time[3:20], ins_Opt[3:20], color=\"green\", label=\"Ricatti Optimal\")\n",
    "ax.plot(time[3:20], ins_dynamics[3:20], color=\"blue\", label=\"OSLO\")\n",
    "#ax.plot(time, agg_regret, color=\"red\", label=\"Sum Regret\")\n",
    "#ax.plot(time, avg_regret,color=\"black\", label=\"Average Regret\")\n",
    "# Add a legend, and position it on the lower right (with no box)\n",
    "plt.legend(loc=\"lower right\", title=\"Legend\", frameon=False)\n",
    "\n",
    "plt.show()"
   ]
  },
  {
   "cell_type": "code",
   "execution_count": 86,
   "metadata": {},
   "outputs": [
    {
     "data": {
      "text/plain": [
       "array([[ 0.0007807 ,  0.00271589],\n",
       "       [-0.00498821, -0.01625598]])"
      ]
     },
     "execution_count": 86,
     "metadata": {},
     "output_type": "execute_result"
    }
   ],
   "source": [
    "-K[3]"
   ]
  },
  {
   "cell_type": "code",
   "execution_count": 87,
   "metadata": {},
   "outputs": [
    {
     "data": {
      "text/plain": [
       "array([[ 0.00085694,  0.00276524],\n",
       "       [-0.00575313, -0.01746155]])"
      ]
     },
     "execution_count": 87,
     "metadata": {},
     "output_type": "execute_result"
    }
   ],
   "source": [
    "K_dynamics[3]"
   ]
  },
  {
   "cell_type": "code",
   "execution_count": 88,
   "metadata": {},
   "outputs": [
    {
     "data": {
      "text/plain": [
       "array([[ 0.0007807 ,  0.00271589],\n",
       "       [-0.00498821, -0.01625598]])"
      ]
     },
     "execution_count": 88,
     "metadata": {},
     "output_type": "execute_result"
    }
   ],
   "source": [
    "-K[5]"
   ]
  },
  {
   "cell_type": "code",
   "execution_count": 89,
   "metadata": {},
   "outputs": [
    {
     "data": {
      "text/plain": [
       "array([[ 0.0007807 ,  0.00271589],\n",
       "       [-0.00498821, -0.01625598]])"
      ]
     },
     "execution_count": 89,
     "metadata": {},
     "output_type": "execute_result"
    }
   ],
   "source": [
    "-K[0]"
   ]
  },
  {
   "cell_type": "code",
   "execution_count": 90,
   "metadata": {},
   "outputs": [
    {
     "data": {
      "text/plain": [
       "array([[ 0.00085694,  0.00276524],\n",
       "       [-0.00575313, -0.01746155]])"
      ]
     },
     "execution_count": 90,
     "metadata": {},
     "output_type": "execute_result"
    }
   ],
   "source": [
    "K_dynamics[0]"
   ]
  },
  {
   "cell_type": "code",
   "execution_count": 91,
   "metadata": {},
   "outputs": [
    {
     "data": {
      "text/plain": [
       "array([[0.20041448, 0.13299527],\n",
       "       [0.13299527, 0.48848435]])"
      ]
     },
     "execution_count": 91,
     "metadata": {},
     "output_type": "execute_result"
    }
   ],
   "source": [
    "P[1000]"
   ]
  },
  {
   "cell_type": "code",
   "execution_count": 92,
   "metadata": {},
   "outputs": [
    {
     "data": {
      "text/plain": [
       "array([[0.19986978, 0.13135191],\n",
       "       [0.13135191, 0.4830391 ]])"
      ]
     },
     "execution_count": 92,
     "metadata": {},
     "output_type": "execute_result"
    }
   ],
   "source": [
    "P[10000000-1]"
   ]
  },
  {
   "cell_type": "code",
   "execution_count": 93,
   "metadata": {},
   "outputs": [
    {
     "data": {
      "text/plain": [
       "array([[0.20041448, 0.13299527],\n",
       "       [0.13299527, 0.48848435]])"
      ]
     },
     "execution_count": 93,
     "metadata": {},
     "output_type": "execute_result"
    }
   ],
   "source": [
    "P[1000000]"
   ]
  },
  {
   "cell_type": "code",
   "execution_count": 94,
   "metadata": {},
   "outputs": [
    {
     "data": {
      "text/plain": [
       "array([8.61331265e-06])"
      ]
     },
     "execution_count": 94,
     "metadata": {},
     "output_type": "execute_result"
    }
   ],
   "source": [
    "var1*np.trace(P[0])"
   ]
  },
  {
   "cell_type": "code",
   "execution_count": 95,
   "metadata": {},
   "outputs": [
    {
     "data": {
      "text/plain": [
       "array([[0.20041448, 0.13299527],\n",
       "       [0.13299527, 0.48848435]])"
      ]
     },
     "execution_count": 95,
     "metadata": {},
     "output_type": "execute_result"
    }
   ],
   "source": [
    "np.dot(A.T,np.dot(P[0],A))+Q-np.dot(A.T,np.dot(P[0],np.dot(B,np.dot(np.linalg.inv(R+np.dot(B.T,np.dot(P[0],B))),np.dot(B.T,np.dot(P[0],A)))))) "
   ]
  },
  {
   "cell_type": "code",
   "execution_count": 96,
   "metadata": {},
   "outputs": [
    {
     "data": {
      "text/plain": [
       "array([[0.20041448, 0.13299527],\n",
       "       [0.13299527, 0.48848435]])"
      ]
     },
     "execution_count": 96,
     "metadata": {},
     "output_type": "execute_result"
    }
   ],
   "source": [
    "P[0]"
   ]
  },
  {
   "cell_type": "code",
   "execution_count": 97,
   "metadata": {},
   "outputs": [],
   "source": [
    "new_regret=np.zeros((time.shape[0]))\n",
    "for t in range((time.shape[0])):\n",
    "    new_regret[t]=cost[t]-var1*np.trace(P[0])\n",
    "    #avg_regret[t]*=(t+1)"
   ]
  },
  {
   "cell_type": "code",
   "execution_count": 101,
   "metadata": {},
   "outputs": [
    {
     "data": {
      "text/plain": [
       "[<matplotlib.lines.Line2D at 0x17c825a30>]"
      ]
     },
     "execution_count": 101,
     "metadata": {},
     "output_type": "execute_result"
    },
    {
     "data": {
      "image/png": "[encoded data removed]",
      "text/plain": [
       "<Figure size 432x288 with 1 Axes>"
      ]
     },
     "metadata": {
      "needs_background": "light"
     },
     "output_type": "display_data"
    }
   ],
   "source": [
    "plt.plot(time[100000:9000000],new_regret[100000:9000000])"
   ]
  },
  {
   "cell_type": "code",
   "execution_count": null,
   "metadata": {},
   "outputs": [],
   "source": []
  }
 ],
 "metadata": {
  "kernelspec": {
   "display_name": "Python 3",
   "language": "python",
   "name": "python3"
  },
  "language_info": {
   "codemirror_mode": {
    "name": "ipython",
    "version": 3
   },
   "file_extension": ".py",
   "mimetype": "text/x-python",
   "name": "python",
   "nbconvert_exporter": "python",
   "pygments_lexer": "ipython3",
   "version": "3.9.2"
  }
 },
 "nbformat": 4,
 "nbformat_minor": 4
}
