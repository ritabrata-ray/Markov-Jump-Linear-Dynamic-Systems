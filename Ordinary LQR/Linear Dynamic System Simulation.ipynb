{
 "cells": [
  {
   "cell_type": "code",
   "execution_count": 1,
   "metadata": {},
   "outputs": [],
   "source": [
    "import numpy as np"
   ]
  },
  {
   "cell_type": "code",
   "execution_count": 2,
   "metadata": {},
   "outputs": [],
   "source": [
    "from scipy.signal import StateSpace, lsim\n",
    "import matplotlib.pyplot as plt\n",
    "from numpy import linalg as LA"
   ]
  },
  {
   "cell_type": "markdown",
   "metadata": {},
   "source": [
    "We have d=2 and k=2 and two Markov states with same cost matrices Q and R which are symmetric and positive semidefinite.\n",
    "\n",
    "Firstly we generate these matrices Q and R."
   ]
  },
  {
   "cell_type": "code",
   "execution_count": 3,
   "metadata": {},
   "outputs": [
    {
     "data": {
      "text/plain": [
       "(array([0.31127488, 0.76253165]), array([0.98834415, 0.85177761]))"
      ]
     },
     "execution_count": 3,
     "metadata": {},
     "output_type": "execute_result"
    }
   ],
   "source": [
    "a=np.random.rand(2)\n",
    "b=np.random.rand(2)\n",
    "a,b"
   ]
  },
  {
   "cell_type": "code",
   "execution_count": 4,
   "metadata": {},
   "outputs": [],
   "source": [
    "Q=np.outer(a,a)\n",
    "R=np.outer(b,b)\n",
    "\n",
    "pd1=0.5*np.random.rand(1)\n",
    "pd2=0.5*np.random.rand(1)\n",
    "\n",
    "I=np.array([[1,0],[0,1]])\n",
    "\n",
    "Q=Q+pd1*I\n",
    "R=R+pd2*I\n"
   ]
  },
  {
   "cell_type": "code",
   "execution_count": 5,
   "metadata": {},
   "outputs": [],
   "source": [
    "A=np.random.rand(2,2)\n",
    "B=np.random.rand(2,2)\n",
    "A2=np.random.rand(2,2)\n",
    "B2=np.random.rand(2,2)\n",
    "var1=0.5*np.random.rand(1)\n",
    "var2=0.5*np.random.rand(1)\n",
    "K=np.random.rand(2,2)"
   ]
  },
  {
   "cell_type": "code",
   "execution_count": 6,
   "metadata": {},
   "outputs": [
    {
     "data": {
      "text/plain": [
       "0.20924424932401517"
      ]
     },
     "execution_count": 6,
     "metadata": {},
     "output_type": "execute_result"
    }
   ],
   "source": [
    "scale=0.2\n",
    "K=scale*K\n",
    "A=scale*A\n",
    "B=scale*B\n",
    "var1=scale*scale*var1\n",
    "var2=scale*scale*var2\n",
    "LA.norm(A+B.dot(K),2)"
   ]
  },
  {
   "cell_type": "code",
   "execution_count": 7,
   "metadata": {},
   "outputs": [
    {
     "data": {
      "text/plain": [
       "(10000,)"
      ]
     },
     "execution_count": 7,
     "metadata": {},
     "output_type": "execute_result"
    }
   ],
   "source": [
    "time=np.arange(0,10,1e-3)\n",
    "time.shape"
   ]
  },
  {
   "cell_type": "code",
   "execution_count": 8,
   "metadata": {},
   "outputs": [
    {
     "data": {
      "text/plain": [
       "array([[0.62508691, 0.        , 0.        , ..., 0.        , 0.        ,\n",
       "        0.        ],\n",
       "       [0.96229483, 0.        , 0.        , ..., 0.        , 0.        ,\n",
       "        0.        ]])"
      ]
     },
     "execution_count": 8,
     "metadata": {},
     "output_type": "execute_result"
    }
   ],
   "source": [
    "x_dynamics=np.zeros((2,time.shape[0]))\n",
    "x_0=np.random.rand(2)\n",
    "x_dynamics[:,0]=x_0\n",
    "x_dynamics\n"
   ]
  },
  {
   "cell_type": "code",
   "execution_count": 9,
   "metadata": {},
   "outputs": [
    {
     "data": {
      "text/plain": [
       "array([0.62508691, 0.96229483])"
      ]
     },
     "execution_count": 9,
     "metadata": {},
     "output_type": "execute_result"
    }
   ],
   "source": [
    "x_0"
   ]
  },
  {
   "cell_type": "code",
   "execution_count": 10,
   "metadata": {},
   "outputs": [],
   "source": [
    "u_0=K.dot(x_0)"
   ]
  },
  {
   "cell_type": "markdown",
   "metadata": {},
   "source": [
    "Now we run the simulation storing the state dynamics in x_dynamics and costs in the vector cost"
   ]
  },
  {
   "cell_type": "code",
   "execution_count": 11,
   "metadata": {},
   "outputs": [],
   "source": [
    "cost=np.zeros((time.shape[0]))\n",
    "x_norm=np.zeros((time.shape[0]))"
   ]
  },
  {
   "cell_type": "code",
   "execution_count": 12,
   "metadata": {},
   "outputs": [],
   "source": [
    "c_0=x_0.dot((Q.dot(x_0)))+u_0.dot((R.dot(u_0)))"
   ]
  },
  {
   "cell_type": "code",
   "execution_count": 13,
   "metadata": {},
   "outputs": [],
   "source": [
    "cost[0]=c_0\n",
    "x_norm[0]=LA.norm(x_0,2)"
   ]
  },
  {
   "cell_type": "code",
   "execution_count": 14,
   "metadata": {},
   "outputs": [],
   "source": [
    "for t in range(1,time.shape[0]):\n",
    "    xprev=x_dynamics[:,t-1]\n",
    "    uprev=K.dot(xprev)\n",
    "    xt=A.dot(xprev)+B.dot(uprev)+np.random.normal(0,var1,xprev.shape)\n",
    "    ut=K.dot(xt)\n",
    "    ct=xt.dot(Q.dot(xt))+ut.dot(R.dot(ut))\n",
    "    c=(cost[t-1]*(t)+ct)/(t+1)\n",
    "    x_norm[t]=LA.norm(xt,2)\n",
    "    cost[t]=c\n",
    "    x_dynamics[:,t]=xt\n",
    "    \n",
    "Final_Cost=(cost[time.shape[0]-1]*(time.shape[0])+x_dynamics[:,time.shape[0]-1].dot(Q.dot(x_dynamics[:,time.shape[0]-1])))/(time.shape[0]+1)\n",
    "\n"
   ]
  },
  {
   "cell_type": "code",
   "execution_count": 15,
   "metadata": {},
   "outputs": [
    {
     "data": {
      "text/plain": [
       "0.00011548122191469451"
      ]
     },
     "execution_count": 15,
     "metadata": {},
     "output_type": "execute_result"
    }
   ],
   "source": [
    "Final_Cost"
   ]
  },
  {
   "cell_type": "code",
   "execution_count": 16,
   "metadata": {},
   "outputs": [
    {
     "data": {
      "text/plain": [
       "[<matplotlib.lines.Line2D at 0x17e254c10>]"
      ]
     },
     "execution_count": 16,
     "metadata": {},
     "output_type": "execute_result"
    },
    {
     "data": {
      "image/png": "[encoded data removed]",
      "text/plain": [
       "<Figure size 432x288 with 1 Axes>"
      ]
     },
     "metadata": {
      "needs_background": "light"
     },
     "output_type": "display_data"
    }
   ],
   "source": [
    "plt.plot(time,cost)"
   ]
  },
  {
   "cell_type": "code",
   "execution_count": 17,
   "metadata": {
    "scrolled": true
   },
   "outputs": [
    {
     "data": {
      "text/plain": [
       "[<matplotlib.lines.Line2D at 0x17e33a070>]"
      ]
     },
     "execution_count": 17,
     "metadata": {},
     "output_type": "execute_result"
    },
    {
     "data": {
      "image/png": "[encoded data removed]",
      "text/plain": [
       "<Figure size 432x288 with 1 Axes>"
      ]
     },
     "metadata": {
      "needs_background": "light"
     },
     "output_type": "display_data"
    }
   ],
   "source": [
    "plt.plot(time[0:500],cost[0:500])"
   ]
  },
  {
   "cell_type": "code",
   "execution_count": 18,
   "metadata": {},
   "outputs": [
    {
     "data": {
      "text/plain": [
       "[<matplotlib.lines.Line2D at 0x17e395730>]"
      ]
     },
     "execution_count": 18,
     "metadata": {},
     "output_type": "execute_result"
    },
    {
     "data": {
      "image/png": "[encoded data removed]",
      "text/plain": [
       "<Figure size 432x288 with 1 Axes>"
      ]
     },
     "metadata": {
      "needs_background": "light"
     },
     "output_type": "display_data"
    }
   ],
   "source": [
    "plt.plot(time[0:200],x_norm[0:200])"
   ]
  },
  {
   "cell_type": "code",
   "execution_count": 19,
   "metadata": {},
   "outputs": [
    {
     "data": {
      "text/plain": [
       "[<matplotlib.lines.Line2D at 0x17e3f3b80>]"
      ]
     },
     "execution_count": 19,
     "metadata": {},
     "output_type": "execute_result"
    },
    {
     "data": {
      "image/png": "[encoded data removed]",
      "text/plain": [
       "<Figure size 432x288 with 1 Axes>"
      ]
     },
     "metadata": {
      "needs_background": "light"
     },
     "output_type": "display_data"
    }
   ],
   "source": [
    "plt.plot(time,x_norm)"
   ]
  },
  {
   "cell_type": "code",
   "execution_count": 20,
   "metadata": {},
   "outputs": [],
   "source": [
    "#Ricatti Solver and testing the average cost with this\n",
    "\n",
    "Opt_x_dynamics=np.zeros((2,time.shape[0]))\n",
    "Opt_x_0=np.random.rand(2)\n",
    "Opt_x_dynamics[:,0]=Opt_x_0\n",
    "Opt_x_dynamics\n",
    "Opt_cost=np.zeros((time.shape[0]))\n",
    "Opt_x_norm=np.zeros((time.shape[0]))\n",
    "\n",
    "## Opt_c_0=Opt_x_0.dot((Q.dot(Opt_x_0)))+Opt_u_0.dot((R.dot(Opt_u_0))) This line will appear after we have Opt_u_0 from K_0 after Dynamic Programming\n",
    "\n",
    "\n"
   ]
  },
  {
   "cell_type": "code",
   "execution_count": 21,
   "metadata": {},
   "outputs": [],
   "source": [
    "# Dynamic Programming for Riccati Solver Policies\n",
    "\n",
    "\n",
    "P=np.zeros((time.shape[0],2,2))\n",
    "K=np.zeros((time.shape[0],2,2))\n",
    "#zero_init=np.zeros((2,2))\n",
    "for t in range((time.shape[0])):\n",
    "    P[t]=np.zeros((2,2))\n",
    "    K[t]=np.zeros((2,2))\n",
    "P[time.shape[0]-1]=Q\n",
    "K[time.shape[0]-1]=np.dot(np.dot(np.dot(np.linalg.inv(R+np.dot(np.dot(B.T,Q),B)),B.T),Q),A)\n",
    "\n",
    "for t in range(1,time.shape[0]):\n",
    "    P[time.shape[0]-t-1]=Q+np.dot(A.T,np.dot(P[time.shape[0]-t],A))-np.dot(np.dot(np.dot(np.dot(np.dot(np.dot(A.T,P[time.shape[0]-t].T),B),np.linalg.inv(R+np.dot(B.T,np.dot(P[time.shape[0]-t],B)))),B.T),P[time.shape[0]-t]),A)\n",
    "    K[time.shape[0]-t-1]=np.dot(np.dot(np.dot(np.linalg.inv(R+np.dot(np.dot(B.T,P[time.shape[0]-t]),B)),B.T),P[time.shape[0]-t]),A)\n"
   ]
  },
  {
   "cell_type": "code",
   "execution_count": 22,
   "metadata": {},
   "outputs": [],
   "source": [
    "#Now we run the Riccati Optimal Policies\n",
    "\n",
    "#First some initializations\n",
    "\n",
    "Opt_u_0= -K[0].dot(Opt_x_0)\n",
    "\n",
    "Opt_c_0=Opt_x_0.dot((Q.dot(Opt_x_0)))+Opt_u_0.dot((R.dot(Opt_u_0)))\n",
    "\n",
    "cost[0]=c_0\n",
    "x_norm[0]=LA.norm(x_0,2)\n",
    "Opt_cost[0]=Opt_c_0\n",
    "Opt_x_norm[0]=LA.norm(Opt_x_0,2)\n",
    "\n",
    "#Now we simulate the Linear Dynamical System, this time playing optimally using Riccati Policies\n",
    "\n",
    "\n",
    "for t in range(1,time.shape[0]):\n",
    "    xprev=Opt_x_dynamics[:,t-1]\n",
    "    uprev=K[t-1].dot(xprev)\n",
    "    xt=A.dot(xprev)+B.dot(uprev)+np.random.normal(0,var1,xprev.shape)\n",
    "    ut=-K[t].dot(xt)\n",
    "    ct=xt.dot(Q.dot(xt))+ut.dot(R.dot(ut))\n",
    "    c=(Opt_cost[t-1]*(t)+ct)/(t+1)\n",
    "    Opt_x_norm[t]=LA.norm(xt,2)\n",
    "    Opt_cost[t]=c\n",
    "    Opt_x_dynamics[:,t]=xt\n",
    "    \n",
    "Opt_Final_Cost=(Opt_cost[time.shape[0]-1]*(time.shape[0])+Opt_x_dynamics[:,time.shape[0]-1].dot(Q.dot(Opt_x_dynamics[:,time.shape[0]-1])))/(time.shape[0]+1)\n",
    "\n",
    "\n",
    "\n"
   ]
  },
  {
   "cell_type": "code",
   "execution_count": 23,
   "metadata": {},
   "outputs": [
    {
     "data": {
      "text/plain": [
       "4.457208030636714e-05"
      ]
     },
     "execution_count": 23,
     "metadata": {},
     "output_type": "execute_result"
    }
   ],
   "source": [
    "Opt_Final_Cost"
   ]
  },
  {
   "cell_type": "code",
   "execution_count": 24,
   "metadata": {},
   "outputs": [
    {
     "data": {
      "text/plain": [
       "[<matplotlib.lines.Line2D at 0x17e42c430>]"
      ]
     },
     "execution_count": 24,
     "metadata": {},
     "output_type": "execute_result"
    },
    {
     "data": {
      "image/png": "[encoded data removed]",
      "text/plain": [
       "<Figure size 432x288 with 1 Axes>"
      ]
     },
     "metadata": {
      "needs_background": "light"
     },
     "output_type": "display_data"
    }
   ],
   "source": [
    "plt.plot(time,Opt_cost)"
   ]
  },
  {
   "cell_type": "code",
   "execution_count": 25,
   "metadata": {},
   "outputs": [
    {
     "data": {
      "text/plain": [
       "[<matplotlib.lines.Line2D at 0x17e484d30>]"
      ]
     },
     "execution_count": 25,
     "metadata": {},
     "output_type": "execute_result"
    },
    {
     "data": {
      "image/png": "[encoded data removed]",
      "text/plain": [
       "<Figure size 432x288 with 1 Axes>"
      ]
     },
     "metadata": {
      "needs_background": "light"
     },
     "output_type": "display_data"
    }
   ],
   "source": [
    "plt.plot(time[0:500],Opt_cost[0:500])"
   ]
  },
  {
   "cell_type": "code",
   "execution_count": 26,
   "metadata": {},
   "outputs": [
    {
     "data": {
      "text/plain": [
       "[<matplotlib.lines.Line2D at 0x17e4da130>]"
      ]
     },
     "execution_count": 26,
     "metadata": {},
     "output_type": "execute_result"
    },
    {
     "data": {
      "image/png": "[encoded data removed]",
      "text/plain": [
       "<Figure size 432x288 with 1 Axes>"
      ]
     },
     "metadata": {
      "needs_background": "light"
     },
     "output_type": "display_data"
    }
   ],
   "source": [
    "plt.plot(time[0:100],x_norm[0:100])"
   ]
  },
  {
   "cell_type": "code",
   "execution_count": 27,
   "metadata": {},
   "outputs": [
    {
     "data": {
      "text/plain": [
       "0.00011548122191469451"
      ]
     },
     "execution_count": 27,
     "metadata": {},
     "output_type": "execute_result"
    }
   ],
   "source": [
    "Final_Cost"
   ]
  },
  {
   "cell_type": "code",
   "execution_count": 28,
   "metadata": {},
   "outputs": [
    {
     "data": {
      "text/plain": [
       "4.457208030636714e-05"
      ]
     },
     "execution_count": 28,
     "metadata": {},
     "output_type": "execute_result"
    }
   ],
   "source": [
    "Opt_Final_Cost"
   ]
  },
  {
   "cell_type": "code",
   "execution_count": null,
   "metadata": {},
   "outputs": [],
   "source": []
  },
  {
   "cell_type": "code",
   "execution_count": null,
   "metadata": {},
   "outputs": [],
   "source": []
  }
 ],
 "metadata": {
  "kernelspec": {
   "display_name": "Python 3",
   "language": "python",
   "name": "python3"
  },
  "language_info": {
   "codemirror_mode": {
    "name": "ipython",
    "version": 3
   },
   "file_extension": ".py",
   "mimetype": "text/x-python",
   "name": "python",
   "nbconvert_exporter": "python",
   "pygments_lexer": "ipython3",
   "version": "3.9.2"
  }
 },
 "nbformat": 4,
 "nbformat_minor": 4
}
